{
 "cells": [
  {
   "cell_type": "code",
   "execution_count": 1,
   "metadata": {},
   "outputs": [],
   "source": [
    "import pandas as pd\n",
    "import numpy as np\n",
    "import seaborn as sns\n",
    "import matplotlib.pyplot as plt\n",
    "import matplotlib.ticker as ticker\n",
    "\n",
    "from sympy import symbols, Eq, solve\n",
    "from datetime import datetime\n",
    "from dateutil.relativedelta import relativedelta\n",
    "\n",
    "import math\n"
   ]
  },
  {
   "cell_type": "markdown",
   "metadata": {},
   "source": [
    "# Creating Dataframe\n",
    "\n",
    "We are just builidng our original dataframe here with date, price, interest, and price changes"
   ]
  },
  {
   "cell_type": "code",
   "execution_count": 2,
   "metadata": {},
   "outputs": [],
   "source": [
    "excel_file_path = 'chapt26.xlsx'\n",
    "interest = pd.read_excel(excel_file_path, sheet_name='Data', usecols='A,H')\n",
    "interest = interest.iloc[7:]\n",
    "interest.columns = ['Year', 'Interest']\n",
    "interest = interest.reset_index(drop=True)"
   ]
  },
  {
   "cell_type": "code",
   "execution_count": 3,
   "metadata": {},
   "outputs": [],
   "source": [
    "excel_file_path = 'monthly_data.xls'\n",
    "df = pd.read_excel(excel_file_path, sheet_name='Data', usecols='A,J')\n",
    "df = df.iloc[7:]\n",
    "df = df.reset_index(drop=True)\n",
    "df.columns = ['Date', 'Price']\n",
    "\n",
    "def correct_date_string_specific(date_str):\n",
    "    parts = str(date_str).split('.')\n",
    "    if len(parts) == 2 and parts[1] == '1':\n",
    "        parts[1] = '10'\n",
    "    return '.'.join(parts)\n",
    "\n",
    "df['Date'] = df['Date'].apply(correct_date_string_specific)\n",
    "df['Date'] = pd.to_datetime(df['Date'], format='%Y.%m')\n",
    "df['Year'] = df['Date'].dt.year"
   ]
  },
  {
   "cell_type": "code",
   "execution_count": 4,
   "metadata": {},
   "outputs": [
    {
     "data": {
      "text/html": [
       "<div>\n",
       "<style scoped>\n",
       "    .dataframe tbody tr th:only-of-type {\n",
       "        vertical-align: middle;\n",
       "    }\n",
       "\n",
       "    .dataframe tbody tr th {\n",
       "        vertical-align: top;\n",
       "    }\n",
       "\n",
       "    .dataframe thead th {\n",
       "        text-align: right;\n",
       "    }\n",
       "</style>\n",
       "<table border=\"1\" class=\"dataframe\">\n",
       "  <thead>\n",
       "    <tr style=\"text-align: right;\">\n",
       "      <th></th>\n",
       "      <th>Date</th>\n",
       "      <th>Price</th>\n",
       "      <th>Interest</th>\n",
       "      <th>Percent Change</th>\n",
       "    </tr>\n",
       "  </thead>\n",
       "  <tbody>\n",
       "    <tr>\n",
       "      <th>0</th>\n",
       "      <td>1871-01-01</td>\n",
       "      <td>109.050018</td>\n",
       "      <td>0.003959</td>\n",
       "      <td>NaN</td>\n",
       "    </tr>\n",
       "    <tr>\n",
       "      <th>1</th>\n",
       "      <td>1871-02-01</td>\n",
       "      <td>107.765291</td>\n",
       "      <td>0.003959</td>\n",
       "      <td>-0.011781</td>\n",
       "    </tr>\n",
       "    <tr>\n",
       "      <th>2</th>\n",
       "      <td>1871-03-01</td>\n",
       "      <td>109.298845</td>\n",
       "      <td>0.003959</td>\n",
       "      <td>0.01423</td>\n",
       "    </tr>\n",
       "    <tr>\n",
       "      <th>3</th>\n",
       "      <td>1871-04-01</td>\n",
       "      <td>117.171191</td>\n",
       "      <td>0.003959</td>\n",
       "      <td>0.072026</td>\n",
       "    </tr>\n",
       "    <tr>\n",
       "      <th>4</th>\n",
       "      <td>1871-05-01</td>\n",
       "      <td>123.479273</td>\n",
       "      <td>0.003959</td>\n",
       "      <td>0.053836</td>\n",
       "    </tr>\n",
       "  </tbody>\n",
       "</table>\n",
       "</div>"
      ],
      "text/plain": [
       "        Date       Price  Interest Percent Change\n",
       "0 1871-01-01  109.050018  0.003959            NaN\n",
       "1 1871-02-01  107.765291  0.003959      -0.011781\n",
       "2 1871-03-01  109.298845  0.003959        0.01423\n",
       "3 1871-04-01  117.171191  0.003959       0.072026\n",
       "4 1871-05-01  123.479273  0.003959       0.053836"
      ]
     },
     "execution_count": 4,
     "metadata": {},
     "output_type": "execute_result"
    }
   ],
   "source": [
    "df = pd.merge(interest, df, on = \"Year\")\n",
    "df[\"Interest\"] = (df[\"Interest\"] - 1)/12\n",
    "df = df[[\"Date\", \"Price\", \"Interest\"]]\n",
    "\n",
    "def add_percent_change (df):\n",
    "    df = df.copy()\n",
    "    diff = df['Price'].pct_change(fill_method=None)\n",
    "    df[\"Percent Change\"] = diff\n",
    "    return df\n",
    "\n",
    "df = add_percent_change(df)\n",
    "df.head()"
   ]
  },
  {
   "cell_type": "markdown",
   "metadata": {},
   "source": [
    "# DataFrame Functions"
   ]
  },
  {
   "cell_type": "code",
   "execution_count": 5,
   "metadata": {},
   "outputs": [],
   "source": [
    "from dataframe_utils import filter_dataframe_by_date, compare_growth_of_diff_leverages, calculate_diff_leverages_growth"
   ]
  },
  {
   "cell_type": "markdown",
   "metadata": {},
   "source": [
    "# Math Functions"
   ]
  },
  {
   "cell_type": "code",
   "execution_count": 6,
   "metadata": {},
   "outputs": [],
   "source": [
    "\n",
    "def market_drop(leveraged_x, new_leveraged_x):\n",
    "    amount = 10000.\n",
    "    leveraged_amount = amount * leveraged_x\n",
    "\n",
    "    x = symbols('x')\n",
    "    equation = Eq((leveraged_amount - x) / (amount - x), new_leveraged_x)\n",
    "    total_amount_drop = solve(equation, x)[0]\n",
    "    return total_amount_drop / amount"
   ]
  },
  {
   "cell_type": "code",
   "execution_count": 7,
   "metadata": {},
   "outputs": [
    {
     "data": {
      "text/html": [
       "<div>\n",
       "<style scoped>\n",
       "    .dataframe tbody tr th:only-of-type {\n",
       "        vertical-align: middle;\n",
       "    }\n",
       "\n",
       "    .dataframe tbody tr th {\n",
       "        vertical-align: top;\n",
       "    }\n",
       "\n",
       "    .dataframe thead th {\n",
       "        text-align: right;\n",
       "    }\n",
       "</style>\n",
       "<table border=\"1\" class=\"dataframe\">\n",
       "  <thead>\n",
       "    <tr style=\"text-align: right;\">\n",
       "      <th></th>\n",
       "      <th>Date</th>\n",
       "      <th>Price</th>\n",
       "      <th>Interest</th>\n",
       "      <th>Percent Change</th>\n",
       "      <th>Total Normal Amount</th>\n",
       "      <th>Total 3x Leveraged Amount</th>\n",
       "      <th>Total 2.5x Leveraged Amount</th>\n",
       "      <th>Total 2x Leveraged Amount</th>\n",
       "    </tr>\n",
       "  </thead>\n",
       "  <tbody>\n",
       "    <tr>\n",
       "      <th>356</th>\n",
       "      <td>1900-10-01</td>\n",
       "      <td>1108.106193</td>\n",
       "      <td>0.00602</td>\n",
       "      <td>0.053145</td>\n",
       "      <td>5.038833e+06</td>\n",
       "      <td>2.571970e+06</td>\n",
       "      <td>3.193062e+06</td>\n",
       "      <td>3.862669e+06</td>\n",
       "    </tr>\n",
       "    <tr>\n",
       "      <th>357</th>\n",
       "      <td>1900-11-01</td>\n",
       "      <td>1199.257608</td>\n",
       "      <td>0.00602</td>\n",
       "      <td>0.082259</td>\n",
       "      <td>5.453282e+06</td>\n",
       "      <td>3.172989e+06</td>\n",
       "      <td>3.817890e+06</td>\n",
       "      <td>4.472168e+06</td>\n",
       "    </tr>\n",
       "    <tr>\n",
       "      <th>358</th>\n",
       "      <td>1900-12-01</td>\n",
       "      <td>1292.011908</td>\n",
       "      <td>0.00602</td>\n",
       "      <td>0.077343</td>\n",
       "      <td>5.874602e+06</td>\n",
       "      <td>3.866495e+06</td>\n",
       "      <td>4.517089e+06</td>\n",
       "      <td>5.133085e+06</td>\n",
       "    </tr>\n",
       "    <tr>\n",
       "      <th>359</th>\n",
       "      <td>1901-01-01</td>\n",
       "      <td>1317.880649</td>\n",
       "      <td>0.001489</td>\n",
       "      <td>0.020022</td>\n",
       "      <td>5.991349e+06</td>\n",
       "      <td>4.080628e+06</td>\n",
       "      <td>4.726812e+06</td>\n",
       "      <td>5.325726e+06</td>\n",
       "    </tr>\n",
       "    <tr>\n",
       "      <th>360</th>\n",
       "      <td>1901-02-01</td>\n",
       "      <td>1373.095838</td>\n",
       "      <td>0.001489</td>\n",
       "      <td>0.041897</td>\n",
       "      <td>6.241377e+06</td>\n",
       "      <td>4.574132e+06</td>\n",
       "      <td>5.204536e+06</td>\n",
       "      <td>5.758408e+06</td>\n",
       "    </tr>\n",
       "  </tbody>\n",
       "</table>\n",
       "</div>"
      ],
      "text/plain": [
       "          Date        Price  Interest Percent Change  Total Normal Amount  \\\n",
       "356 1900-10-01  1108.106193   0.00602       0.053145         5.038833e+06   \n",
       "357 1900-11-01  1199.257608   0.00602       0.082259         5.453282e+06   \n",
       "358 1900-12-01  1292.011908   0.00602       0.077343         5.874602e+06   \n",
       "359 1901-01-01  1317.880649  0.001489       0.020022         5.991349e+06   \n",
       "360 1901-02-01  1373.095838  0.001489       0.041897         6.241377e+06   \n",
       "\n",
       "     Total 3x Leveraged Amount  Total 2.5x Leveraged Amount  \\\n",
       "356               2.571970e+06                 3.193062e+06   \n",
       "357               3.172989e+06                 3.817890e+06   \n",
       "358               3.866495e+06                 4.517089e+06   \n",
       "359               4.080628e+06                 4.726812e+06   \n",
       "360               4.574132e+06                 5.204536e+06   \n",
       "\n",
       "     Total 2x Leveraged Amount  \n",
       "356               3.862669e+06  \n",
       "357               4.472168e+06  \n",
       "358               5.133085e+06  \n",
       "359               5.325726e+06  \n",
       "360               5.758408e+06  "
      ]
     },
     "execution_count": 7,
     "metadata": {},
     "output_type": "execute_result"
    }
   ],
   "source": [
    "price_diff = filter_dataframe_by_date(df, datetime(1871, 2, 1), datetime(1901, 2, 1))\n",
    "price_diff = compare_growth_of_diff_leverages(price_diff, 10000.)\n",
    "price_diff.tail()"
   ]
  },
  {
   "cell_type": "code",
   "execution_count": 8,
   "metadata": {},
   "outputs": [
    {
     "name": "stdout",
     "output_type": "stream",
     "text": [
      "2024-01-01 00:00:00\n"
     ]
    }
   ],
   "source": [
    "# normal_list, leverage3x_list, leverage25x_list, leverage2x_list  = calculate_diff_leverages_growth(df, 6, 10000)"
   ]
  },
  {
   "cell_type": "code",
   "execution_count": 9,
   "metadata": {},
   "outputs": [
    {
     "name": "stdout",
     "output_type": "stream",
     "text": [
      "count    2.360000e+02\n",
      "mean     6.742580e+06\n",
      "std      2.634861e+06\n",
      "min      2.286937e+06\n",
      "25%      4.807798e+06\n",
      "50%      6.259031e+06\n",
      "75%      7.989672e+06\n",
      "max      1.409313e+07\n",
      "dtype: float64\n",
      "count    2.360000e+02\n",
      "mean     4.119723e+07\n",
      "std      7.943039e+07\n",
      "min      6.837242e+04\n",
      "25%      3.034457e+06\n",
      "50%      8.335526e+06\n",
      "75%      3.078449e+07\n",
      "max      4.405188e+08\n",
      "dtype: float64\n"
     ]
    }
   ],
   "source": [
    "# s_normal = pd.Series(normal_list)\n",
    "# s_leverage3x = pd.Series(leverage3x_list)\n",
    "# s_leverage25x = pd.Series(leverage25x_list)\n",
    "# s_leverage2x = pd.Series(leverage2x_list)\n",
    "# print(s_normal.describe())\n",
    "# print(s_leverage3x.describe())"
   ]
  },
  {
   "cell_type": "code",
   "execution_count": 10,
   "metadata": {},
   "outputs": [
    {
     "data": {
      "image/png": "[encoded data removed]",
      "text/plain": [
       "<Figure size 800x1600 with 1 Axes>"
      ]
     },
     "metadata": {},
     "output_type": "display_data"
    }
   ],
   "source": [
    "# # Plotting side-by-side boxplots\n",
    "# plt.figure(figsize=(8, 16))\n",
    "# plt.boxplot([s_normal, s_leverage3x, s_leverage25x, s_leverage2x], positions=[1, 2, 3, 4], showfliers=False)\n",
    "# plt.yscale('log')  # Using a logarithmic scale\n",
    "# plt.xticks([1, 2, 3, 4], ['Normal 1', '3x', '2.5x', '2x'])\n",
    "# plt.title('Comparison of Datasets')\n",
    "# plt.ylabel('Value (log scale)')\n",
    "# plt.show()"
   ]
  },
  {
   "cell_type": "code",
   "execution_count": null,
   "metadata": {},
   "outputs": [],
   "source": []
  }
 ],
 "metadata": {
  "kernelspec": {
   "display_name": "Python 3",
   "language": "python",
   "name": "python3"
  },
  "language_info": {
   "codemirror_mode": {
    "name": "ipython",
    "version": 3
   },
   "file_extension": ".py",
   "mimetype": "text/x-python",
   "name": "python",
   "nbconvert_exporter": "python",
   "pygments_lexer": "ipython3",
   "version": "3.12.0"
  },
  "orig_nbformat": 4
 },
 "nbformat": 4,
 "nbformat_minor": 2
}
