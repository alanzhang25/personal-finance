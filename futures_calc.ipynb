{
 "cells": [
  {
   "cell_type": "code",
   "execution_count": 367,
   "metadata": {},
   "outputs": [],
   "source": [
    "import pandas as pd\n",
    "import numpy as np\n",
    "import seaborn as sns\n",
    "import matplotlib.pyplot as plt\n",
    "\n",
    "from sympy import symbols, Eq, solve\n",
    "from datetime import datetime\n",
    "from datetime import datetime\n",
    "from dateutil.relativedelta import relativedelta\n"
   ]
  },
  {
   "cell_type": "markdown",
   "metadata": {},
   "source": [
    "# Importing Dataframe"
   ]
  },
  {
   "cell_type": "code",
   "execution_count": 368,
   "metadata": {},
   "outputs": [],
   "source": [
    "excel_file_path = 'chapt26.xlsx'\n",
    "interest = pd.read_excel(excel_file_path, sheet_name='Data', usecols='A,H')\n",
    "interest = interest.iloc[7:]\n",
    "interest.columns = ['Year', 'Interest']\n",
    "interest = interest.reset_index(drop=True)"
   ]
  },
  {
   "cell_type": "code",
   "execution_count": 369,
   "metadata": {},
   "outputs": [],
   "source": [
    "excel_file_path = 'monthly_data.xls'\n",
    "df = pd.read_excel(excel_file_path, sheet_name='Data', usecols='A,J')\n",
    "df = df.iloc[7:]\n",
    "df = df.reset_index(drop=True)\n",
    "df.columns = ['Date', 'Price']\n",
    "df['Date'] = pd.to_datetime(df['Date'], format='%Y.%m')\n",
    "df['Year'] = df['Date'].dt.year"
   ]
  },
  {
   "cell_type": "code",
   "execution_count": 370,
   "metadata": {},
   "outputs": [],
   "source": [
    "df = pd.merge(interest, df, on = \"Year\")\n",
    "df[\"Interest\"] = (df[\"Interest\"] - 1)/12\n",
    "df = df[[\"Date\", \"Price\", \"Interest\"]]"
   ]
  },
  {
   "cell_type": "markdown",
   "metadata": {},
   "source": [
    "# DataFrame Functions"
   ]
  },
  {
   "cell_type": "code",
   "execution_count": 371,
   "metadata": {},
   "outputs": [],
   "source": [
    "def filter_dataframe_by_date (df, start_date=datetime(1500, 1, 1), end_date=datetime(9999, 1, 1)):\n",
    "    \n",
    "    filtered_df = df[(df['Date'] >= start_date) & (df['Date'] <= end_date)]\n",
    "    filtered_df.head()\n",
    "\n",
    "    return filtered_df.reset_index(drop=True)\n",
    "\n",
    "def add_percent_change (df):\n",
    "    df = df.copy()\n",
    "    diff = df['Price'].pct_change(fill_method=None)\n",
    "    df[\"Percent Change\"] = diff\n",
    "    return df\n",
    "\n",
    "\n",
    "def calculate_growth (df, start_amount):\n",
    "    df.loc[0, \"Total Normal Amount\"] = start_amount\n",
    "    df.loc[0, \"Total Leveraged Amount\"] = start_amount\n",
    "    for i in range(1, len(df)):\n",
    "        percent_change = df.loc[i, \"Percent Change\"]\n",
    "        interest_change  = df.loc[i, \"Interest\"]\n",
    "        df.loc[i, 'Total Normal Amount'] = df.loc[i - 1, 'Total Normal Amount'] * (1 + percent_change)\n",
    "        df.loc[i, 'Total Leveraged Amount'] = df.loc[i - 1, 'Total Leveraged Amount'] * (1 + ((3 * percent_change) - (2 * interest_change)))\n",
    "    return df"
   ]
  },
  {
   "cell_type": "code",
   "execution_count": 372,
   "metadata": {},
   "outputs": [
    {
     "data": {
      "text/html": [
       "<div>\n",
       "<style scoped>\n",
       "    .dataframe tbody tr th:only-of-type {\n",
       "        vertical-align: middle;\n",
       "    }\n",
       "\n",
       "    .dataframe tbody tr th {\n",
       "        vertical-align: top;\n",
       "    }\n",
       "\n",
       "    .dataframe thead th {\n",
       "        text-align: right;\n",
       "    }\n",
       "</style>\n",
       "<table border=\"1\" class=\"dataframe\">\n",
       "  <thead>\n",
       "    <tr style=\"text-align: right;\">\n",
       "      <th></th>\n",
       "      <th>Date</th>\n",
       "      <th>Price</th>\n",
       "      <th>Interest</th>\n",
       "      <th>Percent Change</th>\n",
       "    </tr>\n",
       "  </thead>\n",
       "  <tbody>\n",
       "    <tr>\n",
       "      <th>0</th>\n",
       "      <td>1871-01-01</td>\n",
       "      <td>109.050018</td>\n",
       "      <td>0.003959</td>\n",
       "      <td>NaN</td>\n",
       "    </tr>\n",
       "    <tr>\n",
       "      <th>1</th>\n",
       "      <td>1871-02-01</td>\n",
       "      <td>107.765291</td>\n",
       "      <td>0.003959</td>\n",
       "      <td>-0.011781</td>\n",
       "    </tr>\n",
       "    <tr>\n",
       "      <th>2</th>\n",
       "      <td>1871-03-01</td>\n",
       "      <td>109.298845</td>\n",
       "      <td>0.003959</td>\n",
       "      <td>0.01423</td>\n",
       "    </tr>\n",
       "    <tr>\n",
       "      <th>3</th>\n",
       "      <td>1871-04-01</td>\n",
       "      <td>117.171191</td>\n",
       "      <td>0.003959</td>\n",
       "      <td>0.072026</td>\n",
       "    </tr>\n",
       "    <tr>\n",
       "      <th>4</th>\n",
       "      <td>1871-05-01</td>\n",
       "      <td>123.479273</td>\n",
       "      <td>0.003959</td>\n",
       "      <td>0.053836</td>\n",
       "    </tr>\n",
       "  </tbody>\n",
       "</table>\n",
       "</div>"
      ],
      "text/plain": [
       "        Date       Price  Interest Percent Change\n",
       "0 1871-01-01  109.050018  0.003959            NaN\n",
       "1 1871-02-01  107.765291  0.003959      -0.011781\n",
       "2 1871-03-01  109.298845  0.003959        0.01423\n",
       "3 1871-04-01  117.171191  0.003959       0.072026\n",
       "4 1871-05-01  123.479273  0.003959       0.053836"
      ]
     },
     "execution_count": 372,
     "metadata": {},
     "output_type": "execute_result"
    }
   ],
   "source": [
    "df = add_percent_change(df)\n",
    "df.head()"
   ]
  },
  {
   "cell_type": "markdown",
   "metadata": {},
   "source": [
    "# Math Functions"
   ]
  },
  {
   "cell_type": "code",
   "execution_count": 415,
   "metadata": {},
   "outputs": [],
   "source": [
    "\n",
    "def market_drop(leveraged_x, new_leveraged_x):\n",
    "    amount = 10000.\n",
    "    leveraged_amount = amount * leveraged_x\n",
    "\n",
    "    x = symbols('x')\n",
    "    equation = Eq((leveraged_amount - x) / (amount - x), new_leveraged_x)\n",
    "    total_amount_drop = solve(equation, x)[0]\n",
    "    return total_amount_drop / amount\n",
    "\n",
    "\n",
    "def calculate_30_year_end_amount(df):\n",
    "    start_date = datetime(1871, 1, 1)\n",
    "    end_date = datetime(1901, 1, 1)\n",
    "\n",
    "    normal_end_amounts = []\n",
    "    leveraged_end_amounts = []\n",
    "    for i in range(1,10):\n",
    "        new_df = filter_dataframe_by_date(df, start_date, end_date)\n",
    "        new_df = calculate_growth(new_df, 10000)\n",
    "\n",
    "        normal_end_amount = new_df[\"Total Normal Amount\"].iloc[-1]\n",
    "        leveraged_end_amount = new_df[\"Total Leveraged Amount\"].iloc[-1]\n",
    "\n",
    "        print(normal_end_amount, leveraged_end_amount)\n",
    "\n",
    "        normal_end_amounts.append(normal_end_amount)\n",
    "        leveraged_end_amounts.append(leveraged_end_amount)\n",
    "        start_date += relativedelta(months=1)\n",
    "        end_date += relativedelta(months=1)\n",
    "\n",
    "    return normal_end_amounts, leveraged_end_amounts\n",
    "    "
   ]
  },
  {
   "cell_type": "markdown",
   "metadata": {},
   "source": [
    "# Graph Functions"
   ]
  },
  {
   "cell_type": "code",
   "execution_count": 381,
   "metadata": {},
   "outputs": [],
   "source": [
    "def plot_df (df):\n",
    "    plt.figure(figsize=(10, 6))\n",
    "    plt.plot(df['Date'], df['Price'],)\n",
    "    plt.plot(df['Date'], df['New_Price'],)\n",
    "\n",
    "    plt.title('Value Over Time')\n",
    "    plt.xlabel('Date')\n",
    "    plt.ylabel('Value')\n",
    "    "
   ]
  },
  {
   "cell_type": "code",
   "execution_count": 402,
   "metadata": {},
   "outputs": [],
   "source": [
    "price_diff = filter_dataframe_by_date(df, datetime(1871, 1, 1), datetime(1901, 1, 1))\n",
    "price_diff = calculate_growth(price_diff, 10000.)"
   ]
  },
  {
   "cell_type": "code",
   "execution_count": 403,
   "metadata": {},
   "outputs": [
    {
     "data": {
      "text/html": [
       "<div>\n",
       "<style scoped>\n",
       "    .dataframe tbody tr th:only-of-type {\n",
       "        vertical-align: middle;\n",
       "    }\n",
       "\n",
       "    .dataframe tbody tr th {\n",
       "        vertical-align: top;\n",
       "    }\n",
       "\n",
       "    .dataframe thead th {\n",
       "        text-align: right;\n",
       "    }\n",
       "</style>\n",
       "<table border=\"1\" class=\"dataframe\">\n",
       "  <thead>\n",
       "    <tr style=\"text-align: right;\">\n",
       "      <th></th>\n",
       "      <th>Date</th>\n",
       "      <th>Price</th>\n",
       "      <th>Interest</th>\n",
       "      <th>Percent Change</th>\n",
       "      <th>Total Normal Amount</th>\n",
       "      <th>Total Leveraged Amount</th>\n",
       "    </tr>\n",
       "  </thead>\n",
       "  <tbody>\n",
       "    <tr>\n",
       "      <th>0</th>\n",
       "      <td>1871-01-01</td>\n",
       "      <td>109.050018</td>\n",
       "      <td>0.003959</td>\n",
       "      <td>NaN</td>\n",
       "      <td>10000.000000</td>\n",
       "      <td>10000.000000</td>\n",
       "    </tr>\n",
       "    <tr>\n",
       "      <th>1</th>\n",
       "      <td>1871-02-01</td>\n",
       "      <td>107.765291</td>\n",
       "      <td>0.003959</td>\n",
       "      <td>-0.011781</td>\n",
       "      <td>9882.189174</td>\n",
       "      <td>9567.393843</td>\n",
       "    </tr>\n",
       "    <tr>\n",
       "      <th>2</th>\n",
       "      <td>1871-03-01</td>\n",
       "      <td>109.298845</td>\n",
       "      <td>0.003959</td>\n",
       "      <td>0.01423</td>\n",
       "      <td>10022.817624</td>\n",
       "      <td>9900.091533</td>\n",
       "    </tr>\n",
       "    <tr>\n",
       "      <th>3</th>\n",
       "      <td>1871-04-01</td>\n",
       "      <td>117.171191</td>\n",
       "      <td>0.003959</td>\n",
       "      <td>0.072026</td>\n",
       "      <td>10744.719956</td>\n",
       "      <td>11960.897493</td>\n",
       "    </tr>\n",
       "    <tr>\n",
       "      <th>4</th>\n",
       "      <td>1871-05-01</td>\n",
       "      <td>123.479273</td>\n",
       "      <td>0.003959</td>\n",
       "      <td>0.053836</td>\n",
       "      <td>11323.177619</td>\n",
       "      <td>13797.995728</td>\n",
       "    </tr>\n",
       "  </tbody>\n",
       "</table>\n",
       "</div>"
      ],
      "text/plain": [
       "        Date       Price  Interest Percent Change  Total Normal Amount  \\\n",
       "0 1871-01-01  109.050018  0.003959            NaN         10000.000000   \n",
       "1 1871-02-01  107.765291  0.003959      -0.011781          9882.189174   \n",
       "2 1871-03-01  109.298845  0.003959        0.01423         10022.817624   \n",
       "3 1871-04-01  117.171191  0.003959       0.072026         10744.719956   \n",
       "4 1871-05-01  123.479273  0.003959       0.053836         11323.177619   \n",
       "\n",
       "   Total Leveraged Amount  \n",
       "0            10000.000000  \n",
       "1             9567.393843  \n",
       "2             9900.091533  \n",
       "3            11960.897493  \n",
       "4            13797.995728  "
      ]
     },
     "execution_count": 403,
     "metadata": {},
     "output_type": "execute_result"
    }
   ],
   "source": [
    "price_diff.head()"
   ]
  },
  {
   "cell_type": "code",
   "execution_count": 416,
   "metadata": {},
   "outputs": [
    {
     "name": "stdout",
     "output_type": "stream",
     "text": [
      "119890.13325421579 78647.18121801139\n",
      "134733.13606057427 114421.39306739492\n",
      "138072.44604441134 123306.36442947718\n",
      "141811.2839760805 132698.77379416165\n",
      "128213.4836012051 98395.77140941926\n",
      "139747.8192319116 125012.9092419217\n",
      "131026.00520859132 101362.55885610214\n",
      "127358.2277064523 93769.38403355022\n",
      "126708.01739768688 92774.85781633561\n"
     ]
    }
   ],
   "source": [
    "normal_list, leverage_list = calculate_30_year_end_amount(df)"
   ]
  },
  {
   "cell_type": "code",
   "execution_count": 397,
   "metadata": {},
   "outputs": [
    {
     "data": {
      "text/plain": [
       "[0.012622945139197705,\n",
       " 0.012622945139197705,\n",
       " 0.012622945139197705,\n",
       " 0.012622945139197705,\n",
       " 0.012622945139197705,\n",
       " 0.012622945139197705,\n",
       " 0.012622945139197705,\n",
       " 0.012622945139197705,\n",
       " 0.012622945139197705,\n",
       " 0.012622945139197705,\n",
       " 0.012622945139197705,\n",
       " 0.012622945139197705,\n",
       " 0.012622945139197705,\n",
       " 0.012622945139197705,\n",
       " 0.012622945139197705,\n",
       " 0.012622945139197705,\n",
       " 0.012622945139197705,\n",
       " 0.012622945139197705,\n",
       " 0.012622945139197705,\n",
       " 0.012622945139197705,\n",
       " 0.012622945139197705,\n",
       " 0.012622945139197705,\n",
       " 0.012622945139197705,\n",
       " 0.012622945139197705,\n",
       " 0.012622945139197705,\n",
       " 0.012622945139197705,\n",
       " 0.012622945139197705,\n",
       " 0.012622945139197705,\n",
       " 0.012622945139197705,\n",
       " 0.012622945139197705,\n",
       " 0.012622945139197705,\n",
       " 0.012622945139197705,\n",
       " 0.012622945139197705,\n",
       " 0.012622945139197705,\n",
       " 0.012622945139197705,\n",
       " 0.012622945139197705,\n",
       " 0.012622945139197705,\n",
       " 0.012622945139197705,\n",
       " 0.012622945139197705,\n",
       " 0.012622945139197705,\n",
       " 0.012622945139197705,\n",
       " 0.012622945139197705,\n",
       " 0.012622945139197705,\n",
       " 0.012622945139197705,\n",
       " 0.012622945139197705,\n",
       " 0.012622945139197705,\n",
       " 0.012622945139197705,\n",
       " 0.012622945139197705,\n",
       " 0.012622945139197705,\n",
       " 0.012622945139197705,\n",
       " 0.012622945139197705,\n",
       " 0.012622945139197705,\n",
       " 0.012622945139197705,\n",
       " 0.012622945139197705,\n",
       " 0.012622945139197705,\n",
       " 0.012622945139197705,\n",
       " 0.012622945139197705,\n",
       " 0.012622945139197705,\n",
       " 0.012622945139197705,\n",
       " 0.012622945139197705,\n",
       " 0.012622945139197705,\n",
       " 0.012622945139197705,\n",
       " 0.012622945139197705,\n",
       " 0.012622945139197705,\n",
       " 0.012622945139197705,\n",
       " 0.012622945139197705,\n",
       " 0.012622945139197705,\n",
       " 0.012622945139197705,\n",
       " 0.012622945139197705,\n",
       " 0.012622945139197705,\n",
       " 0.012622945139197705,\n",
       " 0.012622945139197705,\n",
       " 0.012622945139197705,\n",
       " 0.012622945139197705,\n",
       " 0.012622945139197705,\n",
       " 0.012622945139197705,\n",
       " 0.012622945139197705,\n",
       " 0.012622945139197705,\n",
       " 0.012622945139197705,\n",
       " 0.012622945139197705,\n",
       " 0.012622945139197705,\n",
       " 0.012622945139197705,\n",
       " 0.012622945139197705,\n",
       " 0.012622945139197705,\n",
       " 0.012622945139197705,\n",
       " 0.012622945139197705,\n",
       " 0.012622945139197705,\n",
       " 0.012622945139197705,\n",
       " 0.012622945139197705,\n",
       " 0.012622945139197705,\n",
       " 0.012622945139197705,\n",
       " 0.012622945139197705,\n",
       " 0.012622945139197705,\n",
       " 0.012622945139197705,\n",
       " 0.012622945139197705,\n",
       " 0.012622945139197705,\n",
       " 0.012622945139197705,\n",
       " 0.012622945139197705,\n",
       " 0.012622945139197705]"
      ]
     },
     "execution_count": 397,
     "metadata": {},
     "output_type": "execute_result"
    }
   ],
   "source": [
    "normal_list"
   ]
  },
  {
   "cell_type": "code",
   "execution_count": 149,
   "metadata": {},
   "outputs": [
    {
     "data": {
      "image/png": "[encoded data removed]",
      "text/plain": [
       "<Figure size 1000x600 with 1 Axes>"
      ]
     },
     "metadata": {},
     "output_type": "display_data"
    }
   ],
   "source": [
    "plot_df(filter_df)"
   ]
  },
  {
   "cell_type": "code",
   "execution_count": null,
   "metadata": {},
   "outputs": [],
   "source": []
  }
 ],
 "metadata": {
  "kernelspec": {
   "display_name": "Python 3",
   "language": "python",
   "name": "python3"
  },
  "language_info": {
   "codemirror_mode": {
    "name": "ipython",
    "version": 3
   },
   "file_extension": ".py",
   "mimetype": "text/x-python",
   "name": "python",
   "nbconvert_exporter": "python",
   "pygments_lexer": "ipython3",
   "version": "3.12.0"
  },
  "orig_nbformat": 4
 },
 "nbformat": 4,
 "nbformat_minor": 2
}
