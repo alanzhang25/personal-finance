{
 "cells": [
  {
   "cell_type": "code",
   "execution_count": 3,
   "metadata": {},
   "outputs": [],
   "source": [
    "from sympy import symbols, Eq, solve"
   ]
  },
  {
   "cell_type": "code",
   "execution_count": 4,
   "metadata": {},
   "outputs": [],
   "source": [
    "\n",
    "def market_drop(leveraged_x, new_leveraged_x):\n",
    "    amount = 10000.\n",
    "    leveraged_amount = amount * leveraged_x\n",
    "\n",
    "    x = symbols('x')\n",
    "    equation = Eq((leveraged_amount - x) / (amount - x), new_leveraged_x)\n",
    "    total_amount_drop = solve(equation, x)[0]\n",
    "    return total_amount_drop / amount\n",
    "\n",
    "\n",
    "def upro_mes_portfolio(curr_lev):\n",
    "    amount = 10000."
   ]
  },
  {
   "cell_type": "code",
   "execution_count": 5,
   "metadata": {},
   "outputs": [
    {
     "name": "stdout",
     "output_type": "stream",
     "text": [
      "0.333333333333333\n"
     ]
    }
   ],
   "source": [
    "print(market_drop(3, 4))"
   ]
  }
 ],
 "metadata": {
  "kernelspec": {
   "display_name": "Python 3",
   "language": "python",
   "name": "python3"
  },
  "language_info": {
   "codemirror_mode": {
    "name": "ipython",
    "version": 3
   },
   "file_extension": ".py",
   "mimetype": "text/x-python",
   "name": "python",
   "nbconvert_exporter": "python",
   "pygments_lexer": "ipython3",
   "version": "3.12.0"
  },
  "orig_nbformat": 4
 },
 "nbformat": 4,
 "nbformat_minor": 2
}
