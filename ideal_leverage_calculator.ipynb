{
 "cells": [
  {
   "cell_type": "code",
   "execution_count": 1,
   "metadata": {},
   "outputs": [],
   "source": [
    "import pandas as pd\n",
    "import numpy as np\n",
    "import seaborn as sns\n",
    "import matplotlib.pyplot as plt\n",
    "import matplotlib.ticker as ticker\n",
    "\n",
    "from sympy import symbols, Eq, solve\n",
    "from datetime import datetime\n",
    "from datetime import datetime\n",
    "from dateutil.relativedelta import relativedelta\n"
   ]
  },
  {
   "cell_type": "markdown",
   "metadata": {},
   "source": [
    "# Creating Dataframe\n",
    "\n",
    "We are just builidng our original dataframe here with date, price, interest, and price changes"
   ]
  },
  {
   "cell_type": "code",
   "execution_count": 2,
   "metadata": {},
   "outputs": [],
   "source": [
    "excel_file_path = 'chapt26.xlsx'\n",
    "interest = pd.read_excel(excel_file_path, sheet_name='Data', usecols='A,H')\n",
    "interest = interest.iloc[7:]\n",
    "interest.columns = ['Year', 'Interest']\n",
    "interest = interest.reset_index(drop=True)"
   ]
  },
  {
   "cell_type": "code",
   "execution_count": 3,
   "metadata": {},
   "outputs": [],
   "source": [
    "excel_file_path = 'monthly_data.xls'\n",
    "df = pd.read_excel(excel_file_path, sheet_name='Data', usecols='A,J')\n",
    "df = df.iloc[7:]\n",
    "df = df.reset_index(drop=True)\n",
    "df.columns = ['Date', 'Price']\n",
    "\n",
    "def correct_date_string_specific(date_str):\n",
    "    parts = str(date_str).split('.')\n",
    "    if len(parts) == 2 and parts[1] == '1':\n",
    "        parts[1] = '10'\n",
    "    return '.'.join(parts)\n",
    "\n",
    "df['Date'] = df['Date'].apply(correct_date_string_specific)\n",
    "df['Date'] = pd.to_datetime(df['Date'], format='%Y.%m')\n",
    "df['Year'] = df['Date'].dt.year"
   ]
  },
  {
   "cell_type": "code",
   "execution_count": 4,
   "metadata": {},
   "outputs": [
    {
     "data": {
      "text/html": [
       "<div>\n",
       "<style scoped>\n",
       "    .dataframe tbody tr th:only-of-type {\n",
       "        vertical-align: middle;\n",
       "    }\n",
       "\n",
       "    .dataframe tbody tr th {\n",
       "        vertical-align: top;\n",
       "    }\n",
       "\n",
       "    .dataframe thead th {\n",
       "        text-align: right;\n",
       "    }\n",
       "</style>\n",
       "<table border=\"1\" class=\"dataframe\">\n",
       "  <thead>\n",
       "    <tr style=\"text-align: right;\">\n",
       "      <th></th>\n",
       "      <th>Date</th>\n",
       "      <th>Price</th>\n",
       "      <th>Interest</th>\n",
       "      <th>Percent Change</th>\n",
       "    </tr>\n",
       "  </thead>\n",
       "  <tbody>\n",
       "    <tr>\n",
       "      <th>0</th>\n",
       "      <td>1871-01-01</td>\n",
       "      <td>109.050018</td>\n",
       "      <td>0.003959</td>\n",
       "      <td>NaN</td>\n",
       "    </tr>\n",
       "    <tr>\n",
       "      <th>1</th>\n",
       "      <td>1871-02-01</td>\n",
       "      <td>107.765291</td>\n",
       "      <td>0.003959</td>\n",
       "      <td>-0.011781</td>\n",
       "    </tr>\n",
       "    <tr>\n",
       "      <th>2</th>\n",
       "      <td>1871-03-01</td>\n",
       "      <td>109.298845</td>\n",
       "      <td>0.003959</td>\n",
       "      <td>0.01423</td>\n",
       "    </tr>\n",
       "    <tr>\n",
       "      <th>3</th>\n",
       "      <td>1871-04-01</td>\n",
       "      <td>117.171191</td>\n",
       "      <td>0.003959</td>\n",
       "      <td>0.072026</td>\n",
       "    </tr>\n",
       "    <tr>\n",
       "      <th>4</th>\n",
       "      <td>1871-05-01</td>\n",
       "      <td>123.479273</td>\n",
       "      <td>0.003959</td>\n",
       "      <td>0.053836</td>\n",
       "    </tr>\n",
       "  </tbody>\n",
       "</table>\n",
       "</div>"
      ],
      "text/plain": [
       "        Date       Price  Interest Percent Change\n",
       "0 1871-01-01  109.050018  0.003959            NaN\n",
       "1 1871-02-01  107.765291  0.003959      -0.011781\n",
       "2 1871-03-01  109.298845  0.003959        0.01423\n",
       "3 1871-04-01  117.171191  0.003959       0.072026\n",
       "4 1871-05-01  123.479273  0.003959       0.053836"
      ]
     },
     "execution_count": 4,
     "metadata": {},
     "output_type": "execute_result"
    }
   ],
   "source": [
    "df = pd.merge(interest, df, on = \"Year\")\n",
    "df[\"Interest\"] = (df[\"Interest\"] - 1)/12\n",
    "df = df[[\"Date\", \"Price\", \"Interest\"]]\n",
    "\n",
    "def add_percent_change (df):\n",
    "    df = df.copy()\n",
    "    diff = df['Price'].pct_change(fill_method=None)\n",
    "    df[\"Percent Change\"] = diff\n",
    "    return df\n",
    "\n",
    "df = add_percent_change(df)\n",
    "df.head()"
   ]
  },
  {
   "cell_type": "markdown",
   "metadata": {},
   "source": [
    "# DataFrame Functions"
   ]
  },
  {
   "cell_type": "code",
   "execution_count": 5,
   "metadata": {},
   "outputs": [],
   "source": [
    "def filter_dataframe_by_date (df, start_date=datetime(1500, 1, 1), end_date=datetime(9999, 1, 1)):\n",
    "    \n",
    "    filtered_df = df[(df['Date'] >= start_date) & (df['Date'] <= end_date)]\n",
    "    filtered_df.head()\n",
    "\n",
    "    return filtered_df.reset_index(drop=True)\n",
    "\n",
    "def compare_growth_of_diff_leverages (df, start_amount, contributions=5000):\n",
    "    df.loc[0, \"Total Normal Amount\"] = start_amount\n",
    "    df.loc[0, \"Total 3x Leveraged Amount\"] = start_amount\n",
    "    df.loc[0, \"Total 2.5x Leveraged Amount\"] = start_amount\n",
    "    df.loc[0, \"Total 2x Leveraged Amount\"] = start_amount\n",
    "    for i in range(1, len(df)):\n",
    "        percent_change = df.loc[i, \"Percent Change\"]\n",
    "        interest_change  = df.loc[i, \"Interest\"]\n",
    "        df.loc[i, 'Total Normal Amount'] = df.loc[i - 1, 'Total Normal Amount'] * (1 + percent_change) + contributions\n",
    "        df.loc[i, 'Total 3x Leveraged Amount'] = df.loc[i - 1, 'Total 3x Leveraged Amount'] * (1 + ((3 * percent_change) - (2 * interest_change))) + contributions\n",
    "        df.loc[i, 'Total 2.5x Leveraged Amount'] = df.loc[i - 1, 'Total 2.5x Leveraged Amount'] * (1 + ((2.5 * percent_change) - (1.5 * interest_change))) + contributions\n",
    "        df.loc[i, 'Total 2x Leveraged Amount'] = df.loc[i - 1, 'Total 2x Leveraged Amount'] * (1 + ((2 * percent_change) - (1 * interest_change))) + contributions\n",
    "    return df\n"
   ]
  },
  {
   "cell_type": "markdown",
   "metadata": {},
   "source": [
    "# Math Functions"
   ]
  },
  {
   "cell_type": "code",
   "execution_count": 6,
   "metadata": {},
   "outputs": [],
   "source": [
    "\n",
    "def market_drop(leveraged_x, new_leveraged_x):\n",
    "    amount = 10000.\n",
    "    leveraged_amount = amount * leveraged_x\n",
    "\n",
    "    x = symbols('x')\n",
    "    equation = Eq((leveraged_amount - x) / (amount - x), new_leveraged_x)\n",
    "    total_amount_drop = solve(equation, x)[0]\n",
    "    return total_amount_drop / amount\n",
    "\n",
    "\n",
    "def calculate_diff_leverages_growth(df, month_interval=6, startamount=10000, contributions=5000):\n",
    "    start_date = datetime(1871, 1, 1)\n",
    "    end_date = datetime(1906, 1, 1)\n",
    "\n",
    "    normal_end_amounts = []\n",
    "    leveraged3x_end_amounts = []\n",
    "    leveraged25x_end_amounts = []\n",
    "    leveraged2x_end_amounts = []\n",
    "    while end_date < datetime(2024, 1, 1):\n",
    "        new_df = filter_dataframe_by_date(df, start_date, end_date)\n",
    "        new_df = compare_growth_of_diff_leverages(new_df, startamount, contributions)\n",
    "\n",
    "        normal_end_amount = new_df[\"Total Normal Amount\"].iloc[-1]\n",
    "        leveraged3x_end_amount = new_df[\"Total 3x Leveraged Amount\"].iloc[-1]\n",
    "        leveraged25x_end_amount = new_df[\"Total 2.5x Leveraged Amount\"].iloc[-1]\n",
    "        leveraged2x_end_amount = new_df[\"Total 2x Leveraged Amount\"].iloc[-1]\n",
    "\n",
    "        normal_end_amounts.append(normal_end_amount)\n",
    "        leveraged3x_end_amounts.append(leveraged3x_end_amount)\n",
    "        leveraged25x_end_amounts.append(leveraged25x_end_amount)\n",
    "        leveraged2x_end_amounts.append(leveraged2x_end_amount)\n",
    "\n",
    "\n",
    "        start_date += relativedelta(months=month_interval)\n",
    "        end_date += relativedelta(months=month_interval)\n",
    "\n",
    "    print(end_date)\n",
    "    return normal_end_amounts, leveraged3x_end_amounts, leveraged25x_end_amounts, leveraged2x_end_amounts\n",
    "    "
   ]
  },
  {
   "cell_type": "code",
   "execution_count": null,
   "metadata": {},
   "outputs": [],
   "source": [
    "# price_diff = filter_dataframe_by_date(df, datetime(1871, 2, 1), datetime(1901, 2, 1))\n",
    "# price_diff = compare_growth_of_diff_leverages(price_diff, 10000.)\n",
    "# price_diff.tail()"
   ]
  },
  {
   "cell_type": "code",
   "execution_count": null,
   "metadata": {},
   "outputs": [],
   "source": [
    "normal_list, leverage3x_list, leverage25x_list, leverage2x_list  = calculate_diff_leverages_growth(df, 6, 10000)"
   ]
  },
  {
   "cell_type": "code",
   "execution_count": null,
   "metadata": {},
   "outputs": [],
   "source": [
    "s_normal = pd.Series(normal_list)\n",
    "s_leverage3x = pd.Series(leverage3x_list)\n",
    "s_leverage25x = pd.Series(leverage25x_list)\n",
    "s_leverage2x = pd.Series(leverage2x_list)\n",
    "print(s_normal.describe())\n",
    "print(s_leverage3x.describe())"
   ]
  },
  {
   "cell_type": "code",
   "execution_count": null,
   "metadata": {},
   "outputs": [],
   "source": [
    "# Plotting side-by-side boxplots\n",
    "plt.figure(figsize=(8, 16))\n",
    "plt.boxplot([s_normal, s_leverage3x, s_leverage25x, s_leverage2x], positions=[1, 2, 3, 4], showfliers=False)\n",
    "plt.yscale('log')  # Using a logarithmic scale\n",
    "plt.xticks([1, 2, 3, 4], ['Normal 1', '3x', '2.5x', '2x'])\n",
    "plt.title('Comparison of Datasets')\n",
    "plt.ylabel('Value (log scale)')\n",
    "plt.show()"
   ]
  },
  {
   "cell_type": "code",
   "execution_count": 44,
   "metadata": {},
   "outputs": [],
   "source": [
    "def sigmoid_glide_path(amount):\n",
    "    max_amount = 10000000\n",
    "    steepness = 0.0000015\n",
    "    # The logistic sigmoid function scaled to range from 1 to 3\n",
    "    sigmoid = 1 / (1 + np.exp(-steepness * (amount - max_amount / 2)))\n",
    "    return 5 - 4 * sigmoid\n",
    "    \n",
    "\n",
    "def linear_glide_path(amount, start_value=5, end_value=1, max_amount=10000000):\n",
    "    if (amount > max_amount):\n",
    "        return 1\n",
    "    slope = (end_value - start_value) / max_amount\n",
    "    return start_value + slope * amount\n",
    "\n",
    "def other_glide_path (x):\n",
    "    x = x/1000000\n",
    "    if x < 2:\n",
    "        return 5\n",
    "    elif 2 <= x <= 10:  # Adjusted curve to start from glide path of 5\n",
    "        # Using a logarithmic curve for a smoother transition from 5\n",
    "        return 5 - 4 * np.log10(1 + x - 2) / np.log10(9)\n",
    "    else:\n",
    "        return 1\n",
    "    \n",
    "def other2_glide_path (x):\n",
    "    lev = 22000000/(x+1)\n",
    "    return max(1, min(5, lev-1.2))\n",
    "    \n",
    "def calculate_growth_with_glide_path (df, list_of_glide_path_func, start_amount=10000, contributions=5000,):\n",
    "    df.loc[0, \"Total Normal Amount\"] = start_amount\n",
    "    leverage_amount_str =  \"Total Leveraged Amount \"\n",
    "    for i in range(0, len(list_of_glide_path_func)):\n",
    "        t = leverage_amount_str + str(i)\n",
    "        df.loc[0, t] = start_amount\n",
    "\n",
    "    first_occur = 0\n",
    "    happ = False\n",
    "    for i in range(1, len(df)):\n",
    "        percent_change = df.loc[i, \"Percent Change\"]\n",
    "        interest_change  = df.loc[i, \"Interest\"]\n",
    "        df.loc[i, 'Total Normal Amount'] = df.loc[i - 1, 'Total Normal Amount'] * (1 + percent_change) + contributions\n",
    "\n",
    "\n",
    "        for x, glide_path_func in enumerate(list_of_glide_path_func):\n",
    "            t = leverage_amount_str + str(x)\n",
    "            prev_amount = df.loc[i - 1, t]\n",
    "            glide_path = glide_path_func(prev_amount)\n",
    "            df.loc[i, t] = prev_amount * (1 + ((glide_path * percent_change) - ((glide_path - 1) * interest_change))) + contributions\n",
    "            if (not happ and df.loc[i, t] > 5000000):\n",
    "                first_occur = i\n",
    "                happ = True\n",
    "\n",
    "        \n",
    "    return df, first_occur\n",
    "    "
   ]
  },
  {
   "cell_type": "markdown",
   "metadata": {},
   "source": [
    "# Graph of our Glide Path Function\n",
    "\n",
    "We our upper bounding at 3 here but can experiment with different values"
   ]
  },
  {
   "cell_type": "code",
   "execution_count": 45,
   "metadata": {},
   "outputs": [
    {
     "data": {
      "image/png": "[encoded data removed]",
      "text/plain": [
       "<Figure size 1000x600 with 1 Axes>"
      ]
     },
     "metadata": {},
     "output_type": "display_data"
    }
   ],
   "source": [
    "amounts = np.linspace(0, 10000000, 1000)  # From 0 to 8,000,000\n",
    "glide_path_values = [other2_glide_path(amount) for amount in amounts]\n",
    "\n",
    "# Plotting\n",
    "plt.figure(figsize=(10, 6))\n",
    "plt.plot(amounts, glide_path_values, label='Glide Path')\n",
    "\n",
    "scale_factor = 1e6\n",
    "ticks = ticker.FuncFormatter(lambda x, pos: '{0:g}'.format(x/scale_factor))\n",
    "plt.gca().xaxis.set_major_formatter(ticks)\n",
    "plt.title('Glide Path Function Graph')\n",
    "plt.xlabel('Amount (in millions)')\n",
    "plt.ylabel('Glide Path Value')\n",
    "plt.grid(True)\n",
    "plt.show()"
   ]
  },
  {
   "cell_type": "code",
   "execution_count": 46,
   "metadata": {},
   "outputs": [],
   "source": [
    "def calculate_30_year_end_amount_with_glide_path(df, list_of_glide_path_func, month_interval=6, startamount=10000., contributions=5000.):\n",
    "    start_date = datetime(1871, 1, 1)\n",
    "    end_date = datetime(1906, 1, 1)\n",
    "\n",
    "\n",
    "    array_of_amounts = []\n",
    "    for _ in range(len(list_of_glide_path_func) + 1):\n",
    "        array_of_amounts.append([])\n",
    "\n",
    "    months = []\n",
    "    while end_date < datetime(2024, 1, 1):\n",
    "        new_df = filter_dataframe_by_date(df, start_date, end_date)\n",
    "        new_df, index = calculate_growth_with_glide_path(new_df, list_of_glide_path_func, startamount, contributions)\n",
    "\n",
    "        for i in range(0, len(list_of_glide_path_func) + 1):\n",
    "            if (i == 0):\n",
    "                normal_end_amount = new_df[\"Total Normal Amount\"].iloc[-1]\n",
    "                array_of_amounts[i].append(normal_end_amount)\n",
    "            else :\n",
    "                leverage_amount_str =  \"Total Leveraged Amount \"\n",
    "                temp = leverage_amount_str + str(i - 1)\n",
    "                array_of_amounts[i].append(new_df[temp].iloc[-1])\n",
    "\n",
    "        \n",
    "        months.append(index)\n",
    "    \n",
    "        start_date += relativedelta(months=month_interval)\n",
    "        end_date += relativedelta(months=month_interval)\n",
    "\n",
    "    print(end_date)\n",
    "    return months, array_of_amounts"
   ]
  },
  {
   "cell_type": "code",
   "execution_count": 47,
   "metadata": {},
   "outputs": [
    {
     "name": "stdout",
     "output_type": "stream",
     "text": [
      "2024-01-01 00:00:00\n"
     ]
    }
   ],
   "source": [
    "list = [sigmoid_glide_path, linear_glide_path, other_glide_path, other2_glide_path]\n",
    "months, leverage_list = calculate_30_year_end_amount_with_glide_path(df, list)"
   ]
  },
  {
   "cell_type": "code",
   "execution_count": 48,
   "metadata": {},
   "outputs": [
    {
     "name": "stdout",
     "output_type": "stream",
     "text": [
      "count    2.360000e+02\n",
      "mean     8.890495e+06\n",
      "std      3.501557e+06\n",
      "min      2.974719e+06\n",
      "25%      6.347947e+06\n",
      "50%      8.289542e+06\n",
      "75%      1.050204e+07\n",
      "max      1.881237e+07\n",
      "dtype: float64\n",
      "count    2.360000e+02\n",
      "mean     2.602365e+07\n",
      "std      1.626520e+07\n",
      "min      1.636220e+06\n",
      "25%      1.247443e+07\n",
      "50%      2.435015e+07\n",
      "75%      3.138240e+07\n",
      "max      7.928858e+07\n",
      "dtype: float64\n",
      "count    2.360000e+02\n",
      "mean     2.555186e+07\n",
      "std      1.716561e+07\n",
      "min      1.431405e+06\n",
      "25%      1.206119e+07\n",
      "50%      2.333544e+07\n",
      "75%      3.273797e+07\n",
      "max      7.711440e+07\n",
      "dtype: float64\n",
      "count    2.360000e+02\n",
      "mean     2.543357e+07\n",
      "std      1.623316e+07\n",
      "min      9.652976e+05\n",
      "25%      1.255527e+07\n",
      "50%      2.350000e+07\n",
      "75%      3.273366e+07\n",
      "max      7.576338e+07\n",
      "dtype: float64\n",
      "count    2.360000e+02\n",
      "mean     2.740072e+07\n",
      "std      1.834059e+07\n",
      "min     -2.432489e+06\n",
      "25%      1.227416e+07\n",
      "50%      2.475633e+07\n",
      "75%      3.372049e+07\n",
      "max      8.668842e+07\n",
      "dtype: float64\n"
     ]
    }
   ],
   "source": [
    "series_list = [pd.Series(inner_list) for inner_list in leverage_list]\n",
    "s_months = pd.Series(months)\n",
    "for list in series_list:\n",
    "    print(list.describe())\n",
    "#print(s_months.describe())"
   ]
  },
  {
   "cell_type": "code",
   "execution_count": null,
   "metadata": {},
   "outputs": [],
   "source": [
    "plt.figure(figsize=(8, 12))\n",
    "plt.boxplot([s_months], positions=[1], showfliers=False)\n",
    "percentile_month = np.percentile(s_months, 90)\n",
    "plt.hlines(percentile_month, 0.9, 1.1, colors='blue', linestyles='dashed')\n",
    "plt.xticks([1], ['Months'])\n",
    "plt.title('Month Distribution')\n",
    "plt.ylabel('# of months')\n",
    "plt.show()"
   ]
  },
  {
   "cell_type": "code",
   "execution_count": 49,
   "metadata": {},
   "outputs": [
    {
     "data": {
      "image/png": "[encoded data removed]",
      "text/plain": [
       "<Figure size 800x1200 with 1 Axes>"
      ]
     },
     "metadata": {},
     "output_type": "display_data"
    }
   ],
   "source": [
    "# Plotting side-by-side boxplots\n",
    "plt.figure(figsize=(8, 12))\n",
    "plt.boxplot(series_list, positions=[i for i in range(1,len(series_list) + 1)], showfliers=False)\n",
    "\n",
    "# Calculate the xth percentile for each dataset\n",
    "xth_perc = 2\n",
    "for i, series in enumerate(series_list):\n",
    "    percentile = np.percentile(series, xth_perc)\n",
    "    plt.hlines(percentile, i + 0.9, i + 1.1, linestyles='dashed')\n",
    "\n",
    "\n",
    "plt.yscale('log')  # Using a logarithmic scale\n",
    "plt.xticks([i for i in range(1,len(series_list) + 1)], ['Normal S&P', 'sigmoid', 'linear', 'other', 'other2'])\n",
    "plt.title('Normal vs Leverage with Glide Returns')\n",
    "plt.ylabel('Value (log scale)')\n",
    "plt.show()"
   ]
  },
  {
   "cell_type": "code",
   "execution_count": null,
   "metadata": {},
   "outputs": [],
   "source": []
  }
 ],
 "metadata": {
  "kernelspec": {
   "display_name": "Python 3",
   "language": "python",
   "name": "python3"
  },
  "language_info": {
   "codemirror_mode": {
    "name": "ipython",
    "version": 3
   },
   "file_extension": ".py",
   "mimetype": "text/x-python",
   "name": "python",
   "nbconvert_exporter": "python",
   "pygments_lexer": "ipython3",
   "version": "3.12.0"
  },
  "orig_nbformat": 4
 },
 "nbformat": 4,
 "nbformat_minor": 2
}
