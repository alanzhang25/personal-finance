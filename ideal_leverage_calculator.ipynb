{
 "cells": [
  {
   "cell_type": "code",
   "execution_count": 1,
   "metadata": {},
   "outputs": [],
   "source": [
    "import pandas as pd\n",
    "import numpy as np\n",
    "import seaborn as sns\n",
    "import matplotlib.pyplot as plt\n",
    "import matplotlib.ticker as ticker\n",
    "\n",
    "from sympy import symbols, Eq, solve\n",
    "from datetime import datetime\n",
    "from datetime import datetime\n",
    "from dateutil.relativedelta import relativedelta\n",
    "from scipy.optimize import minimize\n",
    "import math\n"
   ]
  },
  {
   "cell_type": "markdown",
   "metadata": {},
   "source": [
    "# Creating Dataframe\n",
    "\n",
    "We are just builidng our original dataframe here with date, price, interest, and price changes"
   ]
  },
  {
   "cell_type": "code",
   "execution_count": 2,
   "metadata": {},
   "outputs": [],
   "source": [
    "excel_file_path = 'chapt26.xlsx'\n",
    "interest = pd.read_excel(excel_file_path, sheet_name='Data', usecols='A,H')\n",
    "interest = interest.iloc[7:]\n",
    "interest.columns = ['Year', 'Interest']\n",
    "interest = interest.reset_index(drop=True)"
   ]
  },
  {
   "cell_type": "code",
   "execution_count": 3,
   "metadata": {},
   "outputs": [],
   "source": [
    "excel_file_path = 'monthly_data.xls'\n",
    "df = pd.read_excel(excel_file_path, sheet_name='Data', usecols='A,J')\n",
    "df = df.iloc[7:]\n",
    "df = df.reset_index(drop=True)\n",
    "df.columns = ['Date', 'Price']\n",
    "\n",
    "def correct_date_string_specific(date_str):\n",
    "    parts = str(date_str).split('.')\n",
    "    if len(parts) == 2 and parts[1] == '1':\n",
    "        parts[1] = '10'\n",
    "    return '.'.join(parts)\n",
    "\n",
    "df['Date'] = df['Date'].apply(correct_date_string_specific)\n",
    "df['Date'] = pd.to_datetime(df['Date'], format='%Y.%m')\n",
    "df['Year'] = df['Date'].dt.year"
   ]
  },
  {
   "cell_type": "code",
   "execution_count": 4,
   "metadata": {},
   "outputs": [
    {
     "data": {
      "text/html": [
       "<div>\n",
       "<style scoped>\n",
       "    .dataframe tbody tr th:only-of-type {\n",
       "        vertical-align: middle;\n",
       "    }\n",
       "\n",
       "    .dataframe tbody tr th {\n",
       "        vertical-align: top;\n",
       "    }\n",
       "\n",
       "    .dataframe thead th {\n",
       "        text-align: right;\n",
       "    }\n",
       "</style>\n",
       "<table border=\"1\" class=\"dataframe\">\n",
       "  <thead>\n",
       "    <tr style=\"text-align: right;\">\n",
       "      <th></th>\n",
       "      <th>Date</th>\n",
       "      <th>Price</th>\n",
       "      <th>Interest</th>\n",
       "      <th>Percent Change</th>\n",
       "    </tr>\n",
       "  </thead>\n",
       "  <tbody>\n",
       "    <tr>\n",
       "      <th>0</th>\n",
       "      <td>1871-01-01</td>\n",
       "      <td>109.050018</td>\n",
       "      <td>0.003959</td>\n",
       "      <td>NaN</td>\n",
       "    </tr>\n",
       "    <tr>\n",
       "      <th>1</th>\n",
       "      <td>1871-02-01</td>\n",
       "      <td>107.765291</td>\n",
       "      <td>0.003959</td>\n",
       "      <td>-0.011781</td>\n",
       "    </tr>\n",
       "    <tr>\n",
       "      <th>2</th>\n",
       "      <td>1871-03-01</td>\n",
       "      <td>109.298845</td>\n",
       "      <td>0.003959</td>\n",
       "      <td>0.01423</td>\n",
       "    </tr>\n",
       "    <tr>\n",
       "      <th>3</th>\n",
       "      <td>1871-04-01</td>\n",
       "      <td>117.171191</td>\n",
       "      <td>0.003959</td>\n",
       "      <td>0.072026</td>\n",
       "    </tr>\n",
       "    <tr>\n",
       "      <th>4</th>\n",
       "      <td>1871-05-01</td>\n",
       "      <td>123.479273</td>\n",
       "      <td>0.003959</td>\n",
       "      <td>0.053836</td>\n",
       "    </tr>\n",
       "  </tbody>\n",
       "</table>\n",
       "</div>"
      ],
      "text/plain": [
       "        Date       Price  Interest Percent Change\n",
       "0 1871-01-01  109.050018  0.003959            NaN\n",
       "1 1871-02-01  107.765291  0.003959      -0.011781\n",
       "2 1871-03-01  109.298845  0.003959        0.01423\n",
       "3 1871-04-01  117.171191  0.003959       0.072026\n",
       "4 1871-05-01  123.479273  0.003959       0.053836"
      ]
     },
     "execution_count": 4,
     "metadata": {},
     "output_type": "execute_result"
    }
   ],
   "source": [
    "df = pd.merge(interest, df, on = \"Year\")\n",
    "df[\"Interest\"] = (df[\"Interest\"] - 1)/12\n",
    "df = df[[\"Date\", \"Price\", \"Interest\"]]\n",
    "\n",
    "def add_percent_change (df):\n",
    "    df = df.copy()\n",
    "    diff = df['Price'].pct_change(fill_method=None)\n",
    "    df[\"Percent Change\"] = diff\n",
    "    return df\n",
    "\n",
    "df = add_percent_change(df)\n",
    "df.head()"
   ]
  },
  {
   "cell_type": "markdown",
   "metadata": {},
   "source": [
    "# DataFrame Functions"
   ]
  },
  {
   "cell_type": "code",
   "execution_count": 5,
   "metadata": {},
   "outputs": [],
   "source": [
    "def filter_dataframe_by_date (df, start_date=datetime(1500, 1, 1), end_date=datetime(9999, 1, 1)):\n",
    "    \n",
    "    filtered_df = df[(df['Date'] >= start_date) & (df['Date'] <= end_date)]\n",
    "    filtered_df.head()\n",
    "\n",
    "    return filtered_df.reset_index(drop=True)\n",
    "\n",
    "def compare_growth_of_diff_leverages (df, start_amount, contributions=5000):\n",
    "    df.loc[0, \"Total Normal Amount\"] = start_amount\n",
    "    df.loc[0, \"Total 3x Leveraged Amount\"] = start_amount\n",
    "    df.loc[0, \"Total 2.5x Leveraged Amount\"] = start_amount\n",
    "    df.loc[0, \"Total 2x Leveraged Amount\"] = start_amount\n",
    "    for i in range(1, len(df)):\n",
    "        percent_change = df.loc[i, \"Percent Change\"]\n",
    "        interest_change  = df.loc[i, \"Interest\"]\n",
    "        df.loc[i, 'Total Normal Amount'] = df.loc[i - 1, 'Total Normal Amount'] * (1 + percent_change) + contributions\n",
    "        df.loc[i, 'Total 3x Leveraged Amount'] = df.loc[i - 1, 'Total 3x Leveraged Amount'] * (1 + ((3 * percent_change) - (2 * interest_change))) + contributions\n",
    "        df.loc[i, 'Total 2.5x Leveraged Amount'] = df.loc[i - 1, 'Total 2.5x Leveraged Amount'] * (1 + ((2.5 * percent_change) - (1.5 * interest_change))) + contributions\n",
    "        df.loc[i, 'Total 2x Leveraged Amount'] = df.loc[i - 1, 'Total 2x Leveraged Amount'] * (1 + ((2 * percent_change) - (1 * interest_change))) + contributions\n",
    "    return df\n"
   ]
  },
  {
   "cell_type": "markdown",
   "metadata": {},
   "source": [
    "# Math Functions"
   ]
  },
  {
   "cell_type": "code",
   "execution_count": 6,
   "metadata": {},
   "outputs": [],
   "source": [
    "\n",
    "def market_drop(leveraged_x, new_leveraged_x):\n",
    "    amount = 10000.\n",
    "    leveraged_amount = amount * leveraged_x\n",
    "\n",
    "    x = symbols('x')\n",
    "    equation = Eq((leveraged_amount - x) / (amount - x), new_leveraged_x)\n",
    "    total_amount_drop = solve(equation, x)[0]\n",
    "    return total_amount_drop / amount\n",
    "\n",
    "\n",
    "def calculate_diff_leverages_growth(df, month_interval=6, startamount=10000, contributions=5000):\n",
    "    start_date = datetime(1871, 1, 1)\n",
    "    end_date = datetime(1906, 1, 1)\n",
    "\n",
    "    normal_end_amounts = []\n",
    "    leveraged3x_end_amounts = []\n",
    "    leveraged25x_end_amounts = []\n",
    "    leveraged2x_end_amounts = []\n",
    "    while end_date < datetime(2024, 1, 1):\n",
    "        new_df = filter_dataframe_by_date(df, start_date, end_date)\n",
    "        new_df = compare_growth_of_diff_leverages(new_df, startamount, contributions)\n",
    "\n",
    "        normal_end_amount = new_df[\"Total Normal Amount\"].iloc[-1]\n",
    "        leveraged3x_end_amount = new_df[\"Total 3x Leveraged Amount\"].iloc[-1]\n",
    "        leveraged25x_end_amount = new_df[\"Total 2.5x Leveraged Amount\"].iloc[-1]\n",
    "        leveraged2x_end_amount = new_df[\"Total 2x Leveraged Amount\"].iloc[-1]\n",
    "\n",
    "        normal_end_amounts.append(normal_end_amount)\n",
    "        leveraged3x_end_amounts.append(leveraged3x_end_amount)\n",
    "        leveraged25x_end_amounts.append(leveraged25x_end_amount)\n",
    "        leveraged2x_end_amounts.append(leveraged2x_end_amount)\n",
    "\n",
    "\n",
    "        start_date += relativedelta(months=month_interval)\n",
    "        end_date += relativedelta(months=month_interval)\n",
    "\n",
    "    print(end_date)\n",
    "    return normal_end_amounts, leveraged3x_end_amounts, leveraged25x_end_amounts, leveraged2x_end_amounts\n",
    "    "
   ]
  },
  {
   "cell_type": "code",
   "execution_count": null,
   "metadata": {},
   "outputs": [],
   "source": [
    "price_diff = filter_dataframe_by_date(df, datetime(1871, 2, 1), datetime(1901, 2, 1))\n",
    "price_diff = compare_growth_of_diff_leverages(price_diff, 10000.)\n",
    "price_diff.tail()"
   ]
  },
  {
   "cell_type": "code",
   "execution_count": null,
   "metadata": {},
   "outputs": [],
   "source": [
    "normal_list, leverage3x_list, leverage25x_list, leverage2x_list  = calculate_diff_leverages_growth(df, 6, 10000)"
   ]
  },
  {
   "cell_type": "code",
   "execution_count": null,
   "metadata": {},
   "outputs": [],
   "source": [
    "s_normal = pd.Series(normal_list)\n",
    "s_leverage3x = pd.Series(leverage3x_list)\n",
    "s_leverage25x = pd.Series(leverage25x_list)\n",
    "s_leverage2x = pd.Series(leverage2x_list)\n",
    "print(s_normal.describe())\n",
    "print(s_leverage3x.describe())"
   ]
  },
  {
   "cell_type": "code",
   "execution_count": null,
   "metadata": {},
   "outputs": [],
   "source": [
    "# Plotting side-by-side boxplots\n",
    "plt.figure(figsize=(8, 16))\n",
    "plt.boxplot([s_normal, s_leverage3x, s_leverage25x, s_leverage2x], positions=[1, 2, 3, 4], showfliers=False)\n",
    "plt.yscale('log')  # Using a logarithmic scale\n",
    "plt.xticks([1, 2, 3, 4], ['Normal 1', '3x', '2.5x', '2x'])\n",
    "plt.title('Comparison of Datasets')\n",
    "plt.ylabel('Value (log scale)')\n",
    "plt.show()"
   ]
  },
  {
   "cell_type": "markdown",
   "metadata": {},
   "source": [
    "## List of Possible Glidepath Functions"
   ]
  },
  {
   "cell_type": "code",
   "execution_count": 16,
   "metadata": {},
   "outputs": [],
   "source": [
    "def sigmoid_glide_path(amount):\n",
    "    max_amount = 10000000\n",
    "    steepness = 0.0000015\n",
    "    # The logistic sigmoid function scaled to range from 1 to 3\n",
    "    sigmoid = 1 / (1 + np.exp(-steepness * (amount - max_amount / 2)))\n",
    "    return 10 - 9 * sigmoid\n",
    "\n",
    "def linear_glide_path(amount, start_value=5, end_value=1, max_amount=10000000):\n",
    "    if (amount > max_amount):\n",
    "        return 1\n",
    "    slope = (end_value - start_value) / max_amount\n",
    "    return start_value + slope * amount\n",
    "\n",
    "def other_glide_path (amount):\n",
    "    amount = amount/1000000\n",
    "    if amount < 2:\n",
    "        return 5\n",
    "    elif 2 <= amount <= 10:  # Adjusted curve to start from glide path of 5\n",
    "        # Using a logarithmic curve for a smoother transition from 5\n",
    "        return 5 - 4 * np.log10(1 + amount - 2) / np.log10(9)\n",
    "    else:\n",
    "        return 1\n",
    "    \n",
    "def other2_glide_path (amount):\n",
    "    lev = 4000000/(amount+1)\n",
    "    return max(1, min(3, lev+.3))\n",
    "\n",
    "def constant_leverage (amount, lev=5):\n",
    "    return lev\n",
    "\n",
    "def decreasing_sigmoid(amount, arr=[2.67608635e+00, 4.49219429e-07, 4.99999985e+05, 4.83574743e-01]):\n",
    "    amplitude, steepnes, hort_shift, lower_bound = arr\n",
    "    return lower_bound + (amplitude / (1 + np.exp(steepnes * (amount - hort_shift))))\n",
    "\n",
    "def decreasing_sigmoid_graph(amount, amplitude=9, steepnes=.000015, hort_shift=10000000/2, lower_bound=1):\n",
    "    return lower_bound + (amplitude / (1 + np.exp(steepnes * (amount - hort_shift))))"
   ]
  },
  {
   "cell_type": "markdown",
   "metadata": {},
   "source": [
    "## Graph of our Glide Path Function"
   ]
  },
  {
   "cell_type": "code",
   "execution_count": 17,
   "metadata": {},
   "outputs": [
    {
     "data": {
      "image/png": "[encoded data removed]",
      "text/plain": [
       "<Figure size 1000x600 with 1 Axes>"
      ]
     },
     "metadata": {},
     "output_type": "display_data"
    }
   ],
   "source": [
    "amounts = np.linspace(0, 10000000, 1000)  # From 0 to 8,000,000\n",
    "glide_path_values = [decreasing_sigmoid(amount) for amount in amounts]\n",
    "\n",
    "# Plotting\n",
    "plt.figure(figsize=(10, 6))\n",
    "plt.plot(amounts, glide_path_values, label='Glide Path')\n",
    "\n",
    "scale_factor = 1e6\n",
    "ticks = ticker.FuncFormatter(lambda x, pos: '{0:g}'.format(x/scale_factor))\n",
    "plt.gca().xaxis.set_major_formatter(ticks)\n",
    "plt.title('Glide Path Function Graph')\n",
    "plt.xlabel('Amount (in millions)')\n",
    "plt.ylabel('Glide Path Value')\n",
    "plt.grid(True)\n",
    "plt.show()"
   ]
  },
  {
   "cell_type": "code",
   "execution_count": 9,
   "metadata": {},
   "outputs": [],
   "source": [
    "def calculate_growth_with_glide_path (df, list_of_glide_path_func, start_amount=1000, contributions=500,):\n",
    "    df.loc[0, \"Total Normal Amount\"] = start_amount\n",
    "    leverage_amount_str =  \"Total Leveraged Amount \"\n",
    "    for i in range(0, len(list_of_glide_path_func)):\n",
    "        t = leverage_amount_str + str(i)\n",
    "        df.loc[0, t] = start_amount\n",
    "\n",
    "    first_occur_arr = [0 for _ in range(len(list_of_glide_path_func))]\n",
    "    happ = [False for _ in range(len(list_of_glide_path_func))]\n",
    "    for i in range(1, len(df)):\n",
    "        percent_change = df.loc[i, \"Percent Change\"] - .001\n",
    "        interest_change  = df.loc[i, \"Interest\"]\n",
    "        df.loc[i, 'Total Normal Amount'] = df.loc[i - 1, 'Total Normal Amount'] * (1 + percent_change) + contributions\n",
    "\n",
    "\n",
    "        for x, glide_path_func in enumerate(list_of_glide_path_func):\n",
    "            t = leverage_amount_str + str(x)\n",
    "            prev_amount = df.loc[i - 1, t]\n",
    "            glide_path = glide_path_func(prev_amount)\n",
    "            df.loc[i, t] = prev_amount * (1 + ((glide_path * percent_change) - ((glide_path - 1) * interest_change))) + contributions\n",
    "            if (not happ[x] and df.loc[i, t] > 5000000):\n",
    "                first_occur_arr[x] = i\n",
    "                happ[x] = True\n",
    "\n",
    "    \n",
    "    return df, first_occur_arr\n",
    "\n",
    "def calculate_all_amounts_with_glide_paths(df, list_of_glide_path_func, month_interval=6, startamount=1000., contributions=500.):\n",
    "    # 30 year time period\n",
    "    start_date = datetime(1871, 1, 1)\n",
    "    end_date = datetime(1901, 1, 1)\n",
    "\n",
    "    array_of_amounts = []\n",
    "    for _ in range(len(list_of_glide_path_func) + 1):\n",
    "        array_of_amounts.append([])\n",
    "\n",
    "    months_arr = []\n",
    "    for _ in range(len(list_of_glide_path_func) ):\n",
    "        months_arr.append([])\n",
    "\n",
    "    while end_date < datetime(2024, 1, 1):\n",
    "        new_df = filter_dataframe_by_date(df, start_date, end_date)\n",
    "        new_df, index_of_months = calculate_growth_with_glide_path(new_df, list_of_glide_path_func, startamount, contributions)\n",
    "\n",
    "        for i in range(0, len(list_of_glide_path_func) + 1):\n",
    "            if (i == 0):\n",
    "                normal_end_amount = new_df[\"Total Normal Amount\"].iloc[-1]\n",
    "                array_of_amounts[i].append(normal_end_amount)\n",
    "            else :\n",
    "                leverage_amount_str =  \"Total Leveraged Amount \"\n",
    "                temp_str = leverage_amount_str + str(i - 1)\n",
    "                array_of_amounts[i].append(new_df[temp_str].iloc[-1])\n",
    "\n",
    "        for index, value in enumerate(index_of_months):\n",
    "            months_arr[index].append(value)\n",
    "    \n",
    "        start_date += relativedelta(months=month_interval)\n",
    "        end_date += relativedelta(months=month_interval)\n",
    "\n",
    "    print(end_date)\n",
    "    return months_arr, array_of_amounts\n",
    "\n",
    "\n",
    "# Visualize the 30-year growth periods to see how volatile  \n",
    "def visualize(df, list_of_glide_path_func, month_interval=6, startamount=10000., contributions=5000.):\n",
    "    # 30 year time period\n",
    "    start_date = datetime(1871, 1, 1)\n",
    "    end_date = datetime(1901, 1, 1)\n",
    "\n",
    "    array_of_amounts = []\n",
    "    for _ in range(len(list_of_glide_path_func) + 1):\n",
    "        array_of_amounts.append([])\n",
    "\n",
    "    months_arr = []\n",
    "    for _ in range(len(list_of_glide_path_func) ):\n",
    "        months_arr.append([])\n",
    "\n",
    "\n",
    "    single_df = pd.DataFrame()\n",
    "    idx = 0\n",
    "    while end_date < datetime(2024, 1, 1):\n",
    "        new_df = filter_dataframe_by_date(df, start_date, end_date)\n",
    "        new_df, index_of_months = calculate_growth_with_glide_path(new_df, list_of_glide_path_func, startamount, contributions)\n",
    "\n",
    "        if (idx < 40):\n",
    "            single_df[f\"Line {idx + 1}\"] = new_df[[\"Total Leveraged Amount 0\"]]\n",
    "        \n",
    "        idx = idx + 1\n",
    "\n",
    "        for i in range(0, len(list_of_glide_path_func) + 1):\n",
    "            if (i == 0):\n",
    "                normal_end_amount = new_df[\"Total Normal Amount\"].iloc[-1]\n",
    "                array_of_amounts[i].append(normal_end_amount)\n",
    "            else :\n",
    "                leverage_amount_str =  \"Total Leveraged Amount \"\n",
    "                temp_str = leverage_amount_str + str(i - 1)\n",
    "                array_of_amounts[i].append(new_df[temp_str].iloc[-1])\n",
    "\n",
    "        for index, value in enumerate(index_of_months):\n",
    "            months_arr[index].append(value)\n",
    "    \n",
    "        start_date += relativedelta(months=month_interval)\n",
    "        end_date += relativedelta(months=month_interval)\n",
    "\n",
    "    print(end_date)\n",
    "    return months_arr, array_of_amounts, single_df"
   ]
  },
  {
   "cell_type": "markdown",
   "metadata": {},
   "source": [
    "## Attempt to maximize glidepath function return"
   ]
  },
  {
   "cell_type": "code",
   "execution_count": 10,
   "metadata": {},
   "outputs": [],
   "source": [
    "def calculate_growth_with_glide_path_opt (df, glide_func, start_amount=1000, contributions=500,):\n",
    "    #df.loc[0, \"Total Normal Amount\"] = start_amount\n",
    "    df.loc[0, \"Total Leveraged Amount\"] = start_amount\n",
    "\n",
    "    for i in range(1, len(df)):\n",
    "        percent_change = df.loc[i, \"Percent Change\"] - .001\n",
    "        interest_change  = df.loc[i, \"Interest\"]\n",
    "        #df.loc[i, 'Total Normal Amount'] = df.loc[i - 1, 'Total Normal Amount'] * (1 + percent_change) + contributions\n",
    "        prev_amount = df.loc[i - 1, \"Total Leveraged Amount\"]\n",
    "        glide_path = glide_func(prev_amount)\n",
    "        df.loc[i, 'Total Leveraged Amount'] = prev_amount * (1 + ((glide_path * percent_change) - ((glide_path - 1) * interest_change))) + contributions\n",
    "        # for x, glide_path_func in enumerate(list_of_glide_path_func):\n",
    "        #     t = leverage_amount_str + str(x)\n",
    "        #     prev_amount = df.loc[i - 1, t]\n",
    "        #     glide_path = glide_path_func(prev_amount)\n",
    "        #     df.loc[i, t] = prev_amount * (1 + ((glide_path * percent_change) - ((glide_path - 1) * interest_change))) + contributions\n",
    "\n",
    "    \n",
    "    return df\n",
    "\n",
    "def calculate_amount_with_glide_path_opt(df, glide_func, month_interval=6, startamount=1000., contributions=500.):\n",
    "    # 30 year time period\n",
    "    start_date = datetime(1871, 1, 1)\n",
    "    end_date = datetime(1901, 1, 1)\n",
    "\n",
    "    leverage_amount = []\n",
    "\n",
    "    while end_date < datetime(2024, 1, 1):\n",
    "        new_df = filter_dataframe_by_date(df, start_date, end_date)\n",
    "        new_df = calculate_growth_with_glide_path_opt(new_df, glide_func, startamount, contributions)\n",
    "\n",
    "        # for i in range(0, len(list_of_glide_path_func) + 1):\n",
    "        #     if (i == 0):\n",
    "        #         normal_end_amount = new_df[\"Total Normal Amount\"].iloc[-1]\n",
    "        #         array_of_amounts[i].append(normal_end_amount)\n",
    "        #     else :\n",
    "        #         leverage_amount_str =  \"Total Leveraged Amount \"\n",
    "        #         temp_str = leverage_amount_str + str(i - 1)\n",
    "        #         array_of_amounts[i].append(new_df[temp_str].iloc[-1])\n",
    "\n",
    "        leverage_amount.append(new_df['Total Leveraged Amount'].iloc[-1])\n",
    "    \n",
    "        start_date += relativedelta(months=month_interval)\n",
    "        end_date += relativedelta(months=month_interval)\n",
    "\n",
    "    print(end_date)\n",
    "    return leverage_amount"
   ]
  },
  {
   "cell_type": "code",
   "execution_count": 13,
   "metadata": {},
   "outputs": [],
   "source": [
    "def func_to_optmize(list_of_var):\n",
    "    amplitude, steepness, hort_shift, lower_bound = list_of_var\n",
    "\n",
    "    def decreasing_sigmoid2(amount):\n",
    "        return lower_bound + (amplitude / (1 + np.exp(steepness * (amount - hort_shift))))\n",
    "    \n",
    "    leverage_list_opt = calculate_amount_with_glide_path_opt(df, decreasing_sigmoid2 ,12 * 5)\n",
    "    result = -1. * np.percentile(leverage_list_opt, 25)\n",
    "    print(result)\n",
    "    return result\n",
    "guess = [5., .0000015, 1000000/2, 1]\n",
    "bound = [\n",
    "    (0.5, 9),\n",
    "    (0, 1),\n",
    "    (None, None),\n",
    "    (0, None)\n",
    "]"
   ]
  },
  {
   "cell_type": "code",
   "execution_count": 14,
   "metadata": {},
   "outputs": [
    {
     "name": "stdout",
     "output_type": "stream",
     "text": [
      "2026-01-01 00:00:00\n",
      "-204571.5962854294\n",
      "2026-01-01 00:00:00\n",
      "-204571.59561044237\n",
      "2026-01-01 00:00:00\n",
      "-204325.10914015336\n",
      "2026-01-01 00:00:00\n",
      "-204571.59628542743\n",
      "2026-01-01 00:00:00\n",
      "-204571.59508984617\n"
     ]
    },
    {
     "ename": "KeyboardInterrupt",
     "evalue": "",
     "output_type": "error",
     "traceback": [
      "\u001b[0;31m---------------------------------------------------------------------------\u001b[0m",
      "\u001b[0;31mKeyboardInterrupt\u001b[0m                         Traceback (most recent call last)",
      "\u001b[1;32m/Users/alanzhang/personal-finance/ideal_leverage_calculator.ipynb Cell 22\u001b[0m line \u001b[0;36m1\n\u001b[0;32m----> <a href='vscode-notebook-cell:/Users/alanzhang/personal-finance/ideal_leverage_calculator.ipynb#X66sZmlsZQ%3D%3D?line=0'>1</a>\u001b[0m result \u001b[39m=\u001b[39m minimize(func_to_optmize, guess, bounds\u001b[39m=\u001b[39;49mbound)\n",
      "File \u001b[0;32m/Library/Frameworks/Python.framework/Versions/3.12/lib/python3.12/site-packages/scipy/optimize/_minimize.py:710\u001b[0m, in \u001b[0;36mminimize\u001b[0;34m(fun, x0, args, method, jac, hess, hessp, bounds, constraints, tol, callback, options)\u001b[0m\n\u001b[1;32m    707\u001b[0m     res \u001b[39m=\u001b[39m _minimize_newtoncg(fun, x0, args, jac, hess, hessp, callback,\n\u001b[1;32m    708\u001b[0m                              \u001b[39m*\u001b[39m\u001b[39m*\u001b[39moptions)\n\u001b[1;32m    709\u001b[0m \u001b[39melif\u001b[39;00m meth \u001b[39m==\u001b[39m \u001b[39m'\u001b[39m\u001b[39ml-bfgs-b\u001b[39m\u001b[39m'\u001b[39m:\n\u001b[0;32m--> 710\u001b[0m     res \u001b[39m=\u001b[39m _minimize_lbfgsb(fun, x0, args, jac, bounds,\n\u001b[1;32m    711\u001b[0m                            callback\u001b[39m=\u001b[39;49mcallback, \u001b[39m*\u001b[39;49m\u001b[39m*\u001b[39;49moptions)\n\u001b[1;32m    712\u001b[0m \u001b[39melif\u001b[39;00m meth \u001b[39m==\u001b[39m \u001b[39m'\u001b[39m\u001b[39mtnc\u001b[39m\u001b[39m'\u001b[39m:\n\u001b[1;32m    713\u001b[0m     res \u001b[39m=\u001b[39m _minimize_tnc(fun, x0, args, jac, bounds, callback\u001b[39m=\u001b[39mcallback,\n\u001b[1;32m    714\u001b[0m                         \u001b[39m*\u001b[39m\u001b[39m*\u001b[39moptions)\n",
      "File \u001b[0;32m/Library/Frameworks/Python.framework/Versions/3.12/lib/python3.12/site-packages/scipy/optimize/_lbfgsb_py.py:365\u001b[0m, in \u001b[0;36m_minimize_lbfgsb\u001b[0;34m(fun, x0, args, jac, bounds, disp, maxcor, ftol, gtol, eps, maxfun, maxiter, iprint, callback, maxls, finite_diff_rel_step, **unknown_options)\u001b[0m\n\u001b[1;32m    359\u001b[0m task_str \u001b[39m=\u001b[39m task\u001b[39m.\u001b[39mtobytes()\n\u001b[1;32m    360\u001b[0m \u001b[39mif\u001b[39;00m task_str\u001b[39m.\u001b[39mstartswith(\u001b[39mb\u001b[39m\u001b[39m'\u001b[39m\u001b[39mFG\u001b[39m\u001b[39m'\u001b[39m):\n\u001b[1;32m    361\u001b[0m     \u001b[39m# The minimization routine wants f and g at the current x.\u001b[39;00m\n\u001b[1;32m    362\u001b[0m     \u001b[39m# Note that interruptions due to maxfun are postponed\u001b[39;00m\n\u001b[1;32m    363\u001b[0m     \u001b[39m# until the completion of the current minimization iteration.\u001b[39;00m\n\u001b[1;32m    364\u001b[0m     \u001b[39m# Overwrite f and g:\u001b[39;00m\n\u001b[0;32m--> 365\u001b[0m     f, g \u001b[39m=\u001b[39m func_and_grad(x)\n\u001b[1;32m    366\u001b[0m \u001b[39melif\u001b[39;00m task_str\u001b[39m.\u001b[39mstartswith(\u001b[39mb\u001b[39m\u001b[39m'\u001b[39m\u001b[39mNEW_X\u001b[39m\u001b[39m'\u001b[39m):\n\u001b[1;32m    367\u001b[0m     \u001b[39m# new iteration\u001b[39;00m\n\u001b[1;32m    368\u001b[0m     n_iterations \u001b[39m+\u001b[39m\u001b[39m=\u001b[39m \u001b[39m1\u001b[39m\n",
      "File \u001b[0;32m/Library/Frameworks/Python.framework/Versions/3.12/lib/python3.12/site-packages/scipy/optimize/_differentiable_functions.py:285\u001b[0m, in \u001b[0;36mScalarFunction.fun_and_grad\u001b[0;34m(self, x)\u001b[0m\n\u001b[1;32m    283\u001b[0m \u001b[39mif\u001b[39;00m \u001b[39mnot\u001b[39;00m np\u001b[39m.\u001b[39marray_equal(x, \u001b[39mself\u001b[39m\u001b[39m.\u001b[39mx):\n\u001b[1;32m    284\u001b[0m     \u001b[39mself\u001b[39m\u001b[39m.\u001b[39m_update_x_impl(x)\n\u001b[0;32m--> 285\u001b[0m \u001b[39mself\u001b[39;49m\u001b[39m.\u001b[39;49m_update_fun()\n\u001b[1;32m    286\u001b[0m \u001b[39mself\u001b[39m\u001b[39m.\u001b[39m_update_grad()\n\u001b[1;32m    287\u001b[0m \u001b[39mreturn\u001b[39;00m \u001b[39mself\u001b[39m\u001b[39m.\u001b[39mf, \u001b[39mself\u001b[39m\u001b[39m.\u001b[39mg\n",
      "File \u001b[0;32m/Library/Frameworks/Python.framework/Versions/3.12/lib/python3.12/site-packages/scipy/optimize/_differentiable_functions.py:251\u001b[0m, in \u001b[0;36mScalarFunction._update_fun\u001b[0;34m(self)\u001b[0m\n\u001b[1;32m    249\u001b[0m \u001b[39mdef\u001b[39;00m \u001b[39m_update_fun\u001b[39m(\u001b[39mself\u001b[39m):\n\u001b[1;32m    250\u001b[0m     \u001b[39mif\u001b[39;00m \u001b[39mnot\u001b[39;00m \u001b[39mself\u001b[39m\u001b[39m.\u001b[39mf_updated:\n\u001b[0;32m--> 251\u001b[0m         \u001b[39mself\u001b[39;49m\u001b[39m.\u001b[39;49m_update_fun_impl()\n\u001b[1;32m    252\u001b[0m         \u001b[39mself\u001b[39m\u001b[39m.\u001b[39mf_updated \u001b[39m=\u001b[39m \u001b[39mTrue\u001b[39;00m\n",
      "File \u001b[0;32m/Library/Frameworks/Python.framework/Versions/3.12/lib/python3.12/site-packages/scipy/optimize/_differentiable_functions.py:155\u001b[0m, in \u001b[0;36mScalarFunction.__init__.<locals>.update_fun\u001b[0;34m()\u001b[0m\n\u001b[1;32m    154\u001b[0m \u001b[39mdef\u001b[39;00m \u001b[39mupdate_fun\u001b[39m():\n\u001b[0;32m--> 155\u001b[0m     \u001b[39mself\u001b[39m\u001b[39m.\u001b[39mf \u001b[39m=\u001b[39m fun_wrapped(\u001b[39mself\u001b[39;49m\u001b[39m.\u001b[39;49mx)\n",
      "File \u001b[0;32m/Library/Frameworks/Python.framework/Versions/3.12/lib/python3.12/site-packages/scipy/optimize/_differentiable_functions.py:137\u001b[0m, in \u001b[0;36mScalarFunction.__init__.<locals>.fun_wrapped\u001b[0;34m(x)\u001b[0m\n\u001b[1;32m    133\u001b[0m \u001b[39mself\u001b[39m\u001b[39m.\u001b[39mnfev \u001b[39m+\u001b[39m\u001b[39m=\u001b[39m \u001b[39m1\u001b[39m\n\u001b[1;32m    134\u001b[0m \u001b[39m# Send a copy because the user may overwrite it.\u001b[39;00m\n\u001b[1;32m    135\u001b[0m \u001b[39m# Overwriting results in undefined behaviour because\u001b[39;00m\n\u001b[1;32m    136\u001b[0m \u001b[39m# fun(self.x) will change self.x, with the two no longer linked.\u001b[39;00m\n\u001b[0;32m--> 137\u001b[0m fx \u001b[39m=\u001b[39m fun(np\u001b[39m.\u001b[39;49mcopy(x), \u001b[39m*\u001b[39;49margs)\n\u001b[1;32m    138\u001b[0m \u001b[39m# Make sure the function returns a true scalar\u001b[39;00m\n\u001b[1;32m    139\u001b[0m \u001b[39mif\u001b[39;00m \u001b[39mnot\u001b[39;00m np\u001b[39m.\u001b[39misscalar(fx):\n",
      "\u001b[1;32m/Users/alanzhang/personal-finance/ideal_leverage_calculator.ipynb Cell 22\u001b[0m line \u001b[0;36m7\n\u001b[1;32m      <a href='vscode-notebook-cell:/Users/alanzhang/personal-finance/ideal_leverage_calculator.ipynb#X66sZmlsZQ%3D%3D?line=3'>4</a>\u001b[0m \u001b[39mdef\u001b[39;00m \u001b[39mdecreasing_sigmoid2\u001b[39m(amount):\n\u001b[1;32m      <a href='vscode-notebook-cell:/Users/alanzhang/personal-finance/ideal_leverage_calculator.ipynb#X66sZmlsZQ%3D%3D?line=4'>5</a>\u001b[0m     \u001b[39mreturn\u001b[39;00m lower_bound \u001b[39m+\u001b[39m (amplitude \u001b[39m/\u001b[39m (\u001b[39m1\u001b[39m \u001b[39m+\u001b[39m np\u001b[39m.\u001b[39mexp(steepness \u001b[39m*\u001b[39m (amount \u001b[39m-\u001b[39m hort_shift))))\n\u001b[0;32m----> <a href='vscode-notebook-cell:/Users/alanzhang/personal-finance/ideal_leverage_calculator.ipynb#X66sZmlsZQ%3D%3D?line=6'>7</a>\u001b[0m leverage_list_opt \u001b[39m=\u001b[39m calculate_amount_with_glide_path_opt(df, decreasing_sigmoid2 ,\u001b[39m12\u001b[39;49m \u001b[39m*\u001b[39;49m \u001b[39m5\u001b[39;49m)\n\u001b[1;32m      <a href='vscode-notebook-cell:/Users/alanzhang/personal-finance/ideal_leverage_calculator.ipynb#X66sZmlsZQ%3D%3D?line=7'>8</a>\u001b[0m result \u001b[39m=\u001b[39m \u001b[39m-\u001b[39m\u001b[39m1.\u001b[39m \u001b[39m*\u001b[39m np\u001b[39m.\u001b[39mpercentile(leverage_list_opt, \u001b[39m25\u001b[39m)\n\u001b[1;32m      <a href='vscode-notebook-cell:/Users/alanzhang/personal-finance/ideal_leverage_calculator.ipynb#X66sZmlsZQ%3D%3D?line=8'>9</a>\u001b[0m \u001b[39mprint\u001b[39m(result)\n",
      "\u001b[1;32m/Users/alanzhang/personal-finance/ideal_leverage_calculator.ipynb Cell 22\u001b[0m line \u001b[0;36m3\n\u001b[1;32m     <a href='vscode-notebook-cell:/Users/alanzhang/personal-finance/ideal_leverage_calculator.ipynb#X66sZmlsZQ%3D%3D?line=27'>28</a>\u001b[0m \u001b[39mwhile\u001b[39;00m end_date \u001b[39m<\u001b[39m datetime(\u001b[39m2024\u001b[39m, \u001b[39m1\u001b[39m, \u001b[39m1\u001b[39m):\n\u001b[1;32m     <a href='vscode-notebook-cell:/Users/alanzhang/personal-finance/ideal_leverage_calculator.ipynb#X66sZmlsZQ%3D%3D?line=28'>29</a>\u001b[0m     new_df \u001b[39m=\u001b[39m filter_dataframe_by_date(df, start_date, end_date)\n\u001b[0;32m---> <a href='vscode-notebook-cell:/Users/alanzhang/personal-finance/ideal_leverage_calculator.ipynb#X66sZmlsZQ%3D%3D?line=29'>30</a>\u001b[0m     new_df \u001b[39m=\u001b[39m calculate_growth_with_glide_path_opt(new_df, glide_func, startamount, contributions)\n\u001b[1;32m     <a href='vscode-notebook-cell:/Users/alanzhang/personal-finance/ideal_leverage_calculator.ipynb#X66sZmlsZQ%3D%3D?line=31'>32</a>\u001b[0m     \u001b[39m# for i in range(0, len(list_of_glide_path_func) + 1):\u001b[39;00m\n\u001b[1;32m     <a href='vscode-notebook-cell:/Users/alanzhang/personal-finance/ideal_leverage_calculator.ipynb#X66sZmlsZQ%3D%3D?line=32'>33</a>\u001b[0m     \u001b[39m#     if (i == 0):\u001b[39;00m\n\u001b[1;32m     <a href='vscode-notebook-cell:/Users/alanzhang/personal-finance/ideal_leverage_calculator.ipynb#X66sZmlsZQ%3D%3D?line=33'>34</a>\u001b[0m     \u001b[39m#         normal_end_amount = new_df[\"Total Normal Amount\"].iloc[-1]\u001b[39;00m\n\u001b[0;32m   (...)\u001b[0m\n\u001b[1;32m     <a href='vscode-notebook-cell:/Users/alanzhang/personal-finance/ideal_leverage_calculator.ipynb#X66sZmlsZQ%3D%3D?line=37'>38</a>\u001b[0m     \u001b[39m#         temp_str = leverage_amount_str + str(i - 1)\u001b[39;00m\n\u001b[1;32m     <a href='vscode-notebook-cell:/Users/alanzhang/personal-finance/ideal_leverage_calculator.ipynb#X66sZmlsZQ%3D%3D?line=38'>39</a>\u001b[0m     \u001b[39m#         array_of_amounts[i].append(new_df[temp_str].iloc[-1])\u001b[39;00m\n\u001b[1;32m     <a href='vscode-notebook-cell:/Users/alanzhang/personal-finance/ideal_leverage_calculator.ipynb#X66sZmlsZQ%3D%3D?line=40'>41</a>\u001b[0m     leverage_amount\u001b[39m.\u001b[39mappend(new_df[\u001b[39m'\u001b[39m\u001b[39mTotal Leveraged Amount\u001b[39m\u001b[39m'\u001b[39m]\u001b[39m.\u001b[39miloc[\u001b[39m-\u001b[39m\u001b[39m1\u001b[39m])\n",
      "\u001b[1;32m/Users/alanzhang/personal-finance/ideal_leverage_calculator.ipynb Cell 22\u001b[0m line \u001b[0;36m1\n\u001b[1;32m      <a href='vscode-notebook-cell:/Users/alanzhang/personal-finance/ideal_leverage_calculator.ipynb#X66sZmlsZQ%3D%3D?line=8'>9</a>\u001b[0m     prev_amount \u001b[39m=\u001b[39m df\u001b[39m.\u001b[39mloc[i \u001b[39m-\u001b[39m \u001b[39m1\u001b[39m, \u001b[39m\"\u001b[39m\u001b[39mTotal Leveraged Amount\u001b[39m\u001b[39m\"\u001b[39m]\n\u001b[1;32m     <a href='vscode-notebook-cell:/Users/alanzhang/personal-finance/ideal_leverage_calculator.ipynb#X66sZmlsZQ%3D%3D?line=9'>10</a>\u001b[0m     glide_path \u001b[39m=\u001b[39m glide_func(prev_amount)\n\u001b[0;32m---> <a href='vscode-notebook-cell:/Users/alanzhang/personal-finance/ideal_leverage_calculator.ipynb#X66sZmlsZQ%3D%3D?line=10'>11</a>\u001b[0m     df\u001b[39m.\u001b[39;49mloc[i, \u001b[39m'\u001b[39;49m\u001b[39mTotal Leveraged Amount\u001b[39;49m\u001b[39m'\u001b[39;49m] \u001b[39m=\u001b[39m prev_amount \u001b[39m*\u001b[39m (\u001b[39m1\u001b[39m \u001b[39m+\u001b[39m ((glide_path \u001b[39m*\u001b[39m percent_change) \u001b[39m-\u001b[39m ((glide_path \u001b[39m-\u001b[39m \u001b[39m1\u001b[39m) \u001b[39m*\u001b[39m interest_change))) \u001b[39m+\u001b[39m contributions\n\u001b[1;32m     <a href='vscode-notebook-cell:/Users/alanzhang/personal-finance/ideal_leverage_calculator.ipynb#X66sZmlsZQ%3D%3D?line=11'>12</a>\u001b[0m     \u001b[39m# for x, glide_path_func in enumerate(list_of_glide_path_func):\u001b[39;00m\n\u001b[1;32m     <a href='vscode-notebook-cell:/Users/alanzhang/personal-finance/ideal_leverage_calculator.ipynb#X66sZmlsZQ%3D%3D?line=12'>13</a>\u001b[0m     \u001b[39m#     t = leverage_amount_str + str(x)\u001b[39;00m\n\u001b[1;32m     <a href='vscode-notebook-cell:/Users/alanzhang/personal-finance/ideal_leverage_calculator.ipynb#X66sZmlsZQ%3D%3D?line=13'>14</a>\u001b[0m     \u001b[39m#     prev_amount = df.loc[i - 1, t]\u001b[39;00m\n\u001b[1;32m     <a href='vscode-notebook-cell:/Users/alanzhang/personal-finance/ideal_leverage_calculator.ipynb#X66sZmlsZQ%3D%3D?line=14'>15</a>\u001b[0m     \u001b[39m#     glide_path = glide_path_func(prev_amount)\u001b[39;00m\n\u001b[1;32m     <a href='vscode-notebook-cell:/Users/alanzhang/personal-finance/ideal_leverage_calculator.ipynb#X66sZmlsZQ%3D%3D?line=15'>16</a>\u001b[0m     \u001b[39m#     df.loc[i, t] = prev_amount * (1 + ((glide_path * percent_change) - ((glide_path - 1) * interest_change))) + contributions\u001b[39;00m\n\u001b[1;32m     <a href='vscode-notebook-cell:/Users/alanzhang/personal-finance/ideal_leverage_calculator.ipynb#X66sZmlsZQ%3D%3D?line=18'>19</a>\u001b[0m \u001b[39mreturn\u001b[39;00m df\n",
      "File \u001b[0;32m/Library/Frameworks/Python.framework/Versions/3.12/lib/python3.12/site-packages/pandas/core/indexing.py:885\u001b[0m, in \u001b[0;36m_LocationIndexer.__setitem__\u001b[0;34m(self, key, value)\u001b[0m\n\u001b[1;32m    882\u001b[0m \u001b[39mself\u001b[39m\u001b[39m.\u001b[39m_has_valid_setitem_indexer(key)\n\u001b[1;32m    884\u001b[0m iloc \u001b[39m=\u001b[39m \u001b[39mself\u001b[39m \u001b[39mif\u001b[39;00m \u001b[39mself\u001b[39m\u001b[39m.\u001b[39mname \u001b[39m==\u001b[39m \u001b[39m\"\u001b[39m\u001b[39miloc\u001b[39m\u001b[39m\"\u001b[39m \u001b[39melse\u001b[39;00m \u001b[39mself\u001b[39m\u001b[39m.\u001b[39mobj\u001b[39m.\u001b[39miloc\n\u001b[0;32m--> 885\u001b[0m iloc\u001b[39m.\u001b[39;49m_setitem_with_indexer(indexer, value, \u001b[39mself\u001b[39;49m\u001b[39m.\u001b[39;49mname)\n",
      "File \u001b[0;32m/Library/Frameworks/Python.framework/Versions/3.12/lib/python3.12/site-packages/pandas/core/indexing.py:1893\u001b[0m, in \u001b[0;36m_iLocIndexer._setitem_with_indexer\u001b[0;34m(self, indexer, value, name)\u001b[0m\n\u001b[1;32m   1890\u001b[0m \u001b[39m# align and set the values\u001b[39;00m\n\u001b[1;32m   1891\u001b[0m \u001b[39mif\u001b[39;00m take_split_path:\n\u001b[1;32m   1892\u001b[0m     \u001b[39m# We have to operate column-wise\u001b[39;00m\n\u001b[0;32m-> 1893\u001b[0m     \u001b[39mself\u001b[39;49m\u001b[39m.\u001b[39;49m_setitem_with_indexer_split_path(indexer, value, name)\n\u001b[1;32m   1894\u001b[0m \u001b[39melse\u001b[39;00m:\n\u001b[1;32m   1895\u001b[0m     \u001b[39mself\u001b[39m\u001b[39m.\u001b[39m_setitem_single_block(indexer, value, name)\n",
      "File \u001b[0;32m/Library/Frameworks/Python.framework/Versions/3.12/lib/python3.12/site-packages/pandas/core/indexing.py:1986\u001b[0m, in \u001b[0;36m_iLocIndexer._setitem_with_indexer_split_path\u001b[0;34m(self, indexer, value, name)\u001b[0m\n\u001b[1;32m   1983\u001b[0m \u001b[39melse\u001b[39;00m:\n\u001b[1;32m   1984\u001b[0m     \u001b[39m# scalar value\u001b[39;00m\n\u001b[1;32m   1985\u001b[0m     \u001b[39mfor\u001b[39;00m loc \u001b[39min\u001b[39;00m ilocs:\n\u001b[0;32m-> 1986\u001b[0m         \u001b[39mself\u001b[39;49m\u001b[39m.\u001b[39;49m_setitem_single_column(loc, value, pi)\n",
      "File \u001b[0;32m/Library/Frameworks/Python.framework/Versions/3.12/lib/python3.12/site-packages/pandas/core/indexing.py:2095\u001b[0m, in \u001b[0;36m_iLocIndexer._setitem_single_column\u001b[0;34m(self, loc, value, plane_indexer)\u001b[0m\n\u001b[1;32m   2091\u001b[0m         \u001b[39mself\u001b[39m\u001b[39m.\u001b[39mobj\u001b[39m.\u001b[39misetitem(loc, value)\n\u001b[1;32m   2092\u001b[0m \u001b[39melse\u001b[39;00m:\n\u001b[1;32m   2093\u001b[0m     \u001b[39m# set value into the column (first attempting to operate inplace, then\u001b[39;00m\n\u001b[1;32m   2094\u001b[0m     \u001b[39m#  falling back to casting if necessary)\u001b[39;00m\n\u001b[0;32m-> 2095\u001b[0m     \u001b[39mself\u001b[39;49m\u001b[39m.\u001b[39;49mobj\u001b[39m.\u001b[39;49m_mgr\u001b[39m.\u001b[39;49mcolumn_setitem(loc, plane_indexer, value)\n\u001b[1;32m   2097\u001b[0m \u001b[39mself\u001b[39m\u001b[39m.\u001b[39mobj\u001b[39m.\u001b[39m_clear_item_cache()\n",
      "File \u001b[0;32m/Library/Frameworks/Python.framework/Versions/3.12/lib/python3.12/site-packages/pandas/core/internals/managers.py:1308\u001b[0m, in \u001b[0;36mBlockManager.column_setitem\u001b[0;34m(self, loc, idx, value, inplace_only)\u001b[0m\n\u001b[1;32m   1306\u001b[0m     col_mgr\u001b[39m.\u001b[39msetitem_inplace(idx, value)\n\u001b[1;32m   1307\u001b[0m \u001b[39melse\u001b[39;00m:\n\u001b[0;32m-> 1308\u001b[0m     new_mgr \u001b[39m=\u001b[39m col_mgr\u001b[39m.\u001b[39;49msetitem((idx,), value)\n\u001b[1;32m   1309\u001b[0m     \u001b[39mself\u001b[39m\u001b[39m.\u001b[39miset(loc, new_mgr\u001b[39m.\u001b[39m_block\u001b[39m.\u001b[39mvalues, inplace\u001b[39m=\u001b[39m\u001b[39mTrue\u001b[39;00m)\n",
      "File \u001b[0;32m/Library/Frameworks/Python.framework/Versions/3.12/lib/python3.12/site-packages/pandas/core/internals/managers.py:399\u001b[0m, in \u001b[0;36mBaseBlockManager.setitem\u001b[0;34m(self, indexer, value)\u001b[0m\n\u001b[1;32m    395\u001b[0m     \u001b[39m# No need to split if we either set all columns or on a single block\u001b[39;00m\n\u001b[1;32m    396\u001b[0m     \u001b[39m# manager\u001b[39;00m\n\u001b[1;32m    397\u001b[0m     \u001b[39mself\u001b[39m \u001b[39m=\u001b[39m \u001b[39mself\u001b[39m\u001b[39m.\u001b[39mcopy()\n\u001b[0;32m--> 399\u001b[0m \u001b[39mreturn\u001b[39;00m \u001b[39mself\u001b[39;49m\u001b[39m.\u001b[39;49mapply(\u001b[39m\"\u001b[39;49m\u001b[39msetitem\u001b[39;49m\u001b[39m\"\u001b[39;49m, indexer\u001b[39m=\u001b[39;49mindexer, value\u001b[39m=\u001b[39;49mvalue)\n",
      "File \u001b[0;32m/Library/Frameworks/Python.framework/Versions/3.12/lib/python3.12/site-packages/pandas/core/internals/managers.py:354\u001b[0m, in \u001b[0;36mBaseBlockManager.apply\u001b[0;34m(self, f, align_keys, **kwargs)\u001b[0m\n\u001b[1;32m    352\u001b[0m         applied \u001b[39m=\u001b[39m b\u001b[39m.\u001b[39mapply(f, \u001b[39m*\u001b[39m\u001b[39m*\u001b[39mkwargs)\n\u001b[1;32m    353\u001b[0m     \u001b[39melse\u001b[39;00m:\n\u001b[0;32m--> 354\u001b[0m         applied \u001b[39m=\u001b[39m \u001b[39mgetattr\u001b[39;49m(b, f)(\u001b[39m*\u001b[39;49m\u001b[39m*\u001b[39;49mkwargs)\n\u001b[1;32m    355\u001b[0m     result_blocks \u001b[39m=\u001b[39m extend_blocks(applied, result_blocks)\n\u001b[1;32m    357\u001b[0m out \u001b[39m=\u001b[39m \u001b[39mtype\u001b[39m(\u001b[39mself\u001b[39m)\u001b[39m.\u001b[39mfrom_blocks(result_blocks, \u001b[39mself\u001b[39m\u001b[39m.\u001b[39maxes)\n",
      "File \u001b[0;32m/Library/Frameworks/Python.framework/Versions/3.12/lib/python3.12/site-packages/pandas/core/internals/blocks.py:1163\u001b[0m, in \u001b[0;36mBlock.setitem\u001b[0;34m(self, indexer, value, using_cow)\u001b[0m\n\u001b[1;32m   1161\u001b[0m     value \u001b[39m=\u001b[39m extract_array(value, extract_numpy\u001b[39m=\u001b[39m\u001b[39mTrue\u001b[39;00m)\n\u001b[1;32m   1162\u001b[0m \u001b[39mtry\u001b[39;00m:\n\u001b[0;32m-> 1163\u001b[0m     casted \u001b[39m=\u001b[39m np_can_hold_element(values\u001b[39m.\u001b[39;49mdtype, value)\n\u001b[1;32m   1164\u001b[0m \u001b[39mexcept\u001b[39;00m LossySetitemError:\n\u001b[1;32m   1165\u001b[0m     \u001b[39m# current dtype cannot store value, coerce to common dtype\u001b[39;00m\n\u001b[1;32m   1166\u001b[0m     nb \u001b[39m=\u001b[39m \u001b[39mself\u001b[39m\u001b[39m.\u001b[39mcoerce_to_target_dtype(value, warn_on_upcast\u001b[39m=\u001b[39m\u001b[39mTrue\u001b[39;00m)\n",
      "File \u001b[0;32m/Library/Frameworks/Python.framework/Versions/3.12/lib/python3.12/site-packages/pandas/core/dtypes/cast.py:1806\u001b[0m, in \u001b[0;36mnp_can_hold_element\u001b[0;34m(dtype, element)\u001b[0m\n\u001b[1;32m   1804\u001b[0m \u001b[39mif\u001b[39;00m dtype\u001b[39m.\u001b[39mkind \u001b[39m==\u001b[39m \u001b[39m\"\u001b[39m\u001b[39mf\u001b[39m\u001b[39m\"\u001b[39m:\n\u001b[1;32m   1805\u001b[0m     \u001b[39mif\u001b[39;00m lib\u001b[39m.\u001b[39mis_integer(element) \u001b[39mor\u001b[39;00m lib\u001b[39m.\u001b[39mis_float(element):\n\u001b[0;32m-> 1806\u001b[0m         casted \u001b[39m=\u001b[39m dtype\u001b[39m.\u001b[39;49mtype(element)\n\u001b[1;32m   1807\u001b[0m         \u001b[39mif\u001b[39;00m np\u001b[39m.\u001b[39misnan(casted) \u001b[39mor\u001b[39;00m casted \u001b[39m==\u001b[39m element:\n\u001b[1;32m   1808\u001b[0m             \u001b[39mreturn\u001b[39;00m casted\n",
      "\u001b[0;31mKeyboardInterrupt\u001b[0m: "
     ]
    }
   ],
   "source": [
    "result = minimize(func_to_optmize, guess, bounds=bound)"
   ]
  },
  {
   "cell_type": "code",
   "execution_count": 15,
   "metadata": {},
   "outputs": [
    {
     "name": "stdout",
     "output_type": "stream",
     "text": [
      "[2.67608635e+00 4.49219429e-07 4.99999985e+05 4.83574743e-01]\n",
      "-416254.30552084395\n",
      "True\n",
      "CONVERGENCE: REL_REDUCTION_OF_F_<=_FACTR*EPSMCH\n"
     ]
    }
   ],
   "source": [
    "print(result.x)\n",
    "print(result.fun)\n",
    "print(result.success)\n",
    "print(result.message)"
   ]
  },
  {
   "cell_type": "markdown",
   "metadata": {},
   "source": [
    "## Visualize graph of each year\n"
   ]
  },
  {
   "cell_type": "code",
   "execution_count": null,
   "metadata": {},
   "outputs": [],
   "source": [
    "single_list = [sigmoid_glide_path]\n",
    "months_list2, leverage_list2, visualize_df = visualize(df, single_list, 12 * 5)"
   ]
  },
  {
   "cell_type": "code",
   "execution_count": null,
   "metadata": {},
   "outputs": [],
   "source": [
    "# Plot each column with an offset\n",
    "plt.figure(figsize=(10, 6))\n",
    "offset_value = 1  # Define the offset value\n",
    "for column in visualize_df.columns:\n",
    "    plt.plot(visualize_df.index, visualize_df[column], label=column)\n",
    "\n",
    "plt.xlabel('Index')\n",
    "plt.ylabel('Value')\n",
    "plt.yscale('log')\n",
    "plt.title('Glide Path Proof')\n",
    "plt.legend()\n",
    "plt.show()"
   ]
  },
  {
   "cell_type": "code",
   "execution_count": 18,
   "metadata": {},
   "outputs": [
    {
     "name": "stderr",
     "output_type": "stream",
     "text": [
      "/var/folders/n2/252z04_101n54c1ypn6y1l9r0000gn/T/ipykernel_60466/4288216943.py:5: RuntimeWarning: overflow encountered in exp\n",
      "  sigmoid = 1 / (1 + np.exp(-steepness * (amount - max_amount / 2)))\n",
      "/var/folders/n2/252z04_101n54c1ypn6y1l9r0000gn/T/ipykernel_60466/4288216943.py:5: RuntimeWarning: overflow encountered in exp\n",
      "  sigmoid = 1 / (1 + np.exp(-steepness * (amount - max_amount / 2)))\n"
     ]
    },
    {
     "name": "stdout",
     "output_type": "stream",
     "text": [
      "2024-01-01 00:00:00\n"
     ]
    }
   ],
   "source": [
    "list_of_glide_path_func = [decreasing_sigmoid, sigmoid_glide_path, other2_glide_path]\n",
    "months_list, leverage_list = calculate_all_amounts_with_glide_paths(df, list_of_glide_path_func)"
   ]
  },
  {
   "cell_type": "code",
   "execution_count": 19,
   "metadata": {},
   "outputs": [
    {
     "name": "stdout",
     "output_type": "stream",
     "text": [
      "201574.84924781803\n"
     ]
    }
   ],
   "source": [
    "series_list = [pd.Series(inner_list) for inner_list in leverage_list]\n",
    "# for list in series_list:\n",
    "#     print(list.describe())\n",
    "print(np.percentile(leverage_list[0], 2))"
   ]
  },
  {
   "cell_type": "code",
   "execution_count": 20,
   "metadata": {},
   "outputs": [
    {
     "data": {
      "image/png": "[encoded data removed]",
      "text/plain": [
       "<Figure size 800x1200 with 1 Axes>"
      ]
     },
     "metadata": {},
     "output_type": "display_data"
    }
   ],
   "source": [
    "# Plotting side-by-side boxplots\n",
    "plt.figure(figsize=(8, 12))\n",
    "plt.boxplot(series_list, positions=[i for i in range(1,len(series_list) + 1)], showfliers=False)\n",
    "\n",
    "# Calculate the xth percentile for each dataset\n",
    "xth_perc = 5\n",
    "for i, series in enumerate(series_list):\n",
    "    percentile = np.percentile(series, xth_perc)\n",
    "    plt.hlines(percentile, i + 0.9, i + 1.1, linestyles='dashed')\n",
    "\n",
    "\n",
    "plt.yscale('log')  # Using a logarithmic scale\n",
    "func_names = []\n",
    "func_names.append\n",
    "plt.xticks([i for i in range(1,len(series_list) + 1)], [\"Normal\"] + [func.__name__ for func in list_of_glide_path_func])\n",
    "plt.xticks(rotation=45)\n",
    "plt.title('Normal vs Leverage with Glide Returns')\n",
    "plt.ylabel('Value (log scale)')\n",
    "plt.show()"
   ]
  },
  {
   "cell_type": "code",
   "execution_count": null,
   "metadata": {},
   "outputs": [],
   "source": [
    "series_months_list = [pd.Series(inner_list) for inner_list in months_list]\n",
    "# for list in series_months_list:\n",
    "#     print(list.describe())"
   ]
  },
  {
   "cell_type": "code",
   "execution_count": null,
   "metadata": {},
   "outputs": [],
   "source": [
    "# plt.figure(figsize=(8, 12))\n",
    "# plt.boxplot([series_months_list], positions=[1], showfliers=False)\n",
    "# percentile_month = np.percentile(series_months_list, 90)\n",
    "# plt.hlines(percentile_month, 0.9, 1.1, colors='blue', linestyles='dashed')\n",
    "# plt.xticks([1], ['Months'])\n",
    "# plt.title('Month Distribution')\n",
    "# plt.ylabel('# of months')\n",
    "# plt.show()\n",
    "\n",
    "\n",
    "# Plotting side-by-side boxplots\n",
    "plt.figure(figsize=(8, 12))\n",
    "plt.boxplot(series_months_list, positions=[i for i in range(1,len(series_months_list) + 1)], showfliers=False)\n",
    "\n",
    "# Calculate the xth percentile for each dataset\n",
    "xth_perc = 98\n",
    "for i, series in enumerate(series_months_list):\n",
    "    percentile = np.percentile(series, xth_perc)\n",
    "    plt.hlines(percentile, i + 0.9, i + 1.1, linestyles='dashed')\n",
    "\n",
    "func_names = []\n",
    "func_names.append\n",
    "plt.xticks([i for i in range(1,len(series_months_list) + 1)], [func.__name__ for func in list_of_glide_path_func])\n",
    "plt.xticks(rotation=45)\n",
    "plt.title('Distrubtion of months till launch')\n",
    "plt.ylabel('# of months till passed half mark')\n",
    "plt.show()"
   ]
  },
  {
   "cell_type": "code",
   "execution_count": null,
   "metadata": {},
   "outputs": [],
   "source": []
  }
 ],
 "metadata": {
  "kernelspec": {
   "display_name": "Python 3",
   "language": "python",
   "name": "python3"
  },
  "language_info": {
   "codemirror_mode": {
    "name": "ipython",
    "version": 3
   },
   "file_extension": ".py",
   "mimetype": "text/x-python",
   "name": "python",
   "nbconvert_exporter": "python",
   "pygments_lexer": "ipython3",
   "version": "3.12.0"
  },
  "orig_nbformat": 4
 },
 "nbformat": 4,
 "nbformat_minor": 2
}
