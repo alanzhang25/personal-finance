{
 "cells": [
  {
   "cell_type": "code",
   "execution_count": null,
   "metadata": {},
   "outputs": [],
   "source": [
    "import pandas as pd\n",
    "import numpy as np\n",
    "import seaborn as sns\n",
    "import matplotlib.pyplot as plt\n",
    "import matplotlib.ticker as ticker\n",
    "\n",
    "from sympy import symbols, Eq, solve\n",
    "from datetime import datetime\n",
    "from datetime import datetime\n",
    "from dateutil.relativedelta import relativedelta\n",
    "\n",
    "from scipy.optimize import minimize, Bounds, show_options, basinhopping, brute, differential_evolution, dual_annealing\n",
    "import math\n"
   ]
  },
  {
   "cell_type": "markdown",
   "metadata": {},
   "source": [
    "# Basic Setup"
   ]
  },
  {
   "cell_type": "code",
   "execution_count": null,
   "metadata": {},
   "outputs": [],
   "source": [
    "%%capture\n",
    "%run -i basic_dataframe_setup.ipynb"
   ]
  },
  {
   "cell_type": "code",
   "execution_count": null,
   "metadata": {},
   "outputs": [],
   "source": [
    "from glide_path_functions.manual_glide_paths import sigmoid_glide_path, linear_glide_path, other_glide_path, other2_glide_path, constant_leverage, normalized_sigmoid, book_path\n",
    "from dataframe_utils import calculate_growth_with_glide_path, calculate_all_amounts_with_glide_paths, visualize, calculate_amount_with_glide_path_opt\n",
    "from graph_utils import box_plot_comparison_of_glide_paths, line_graph_of_each_glide_path\n",
    "from utils import calc_quartile_avg"
   ]
  },
  {
   "cell_type": "markdown",
   "metadata": {},
   "source": [
    "## Graph of the Manual Glide Path Functions"
   ]
  },
  {
   "cell_type": "code",
   "execution_count": null,
   "metadata": {},
   "outputs": [],
   "source": [
    "glide_path_functions = [\n",
    "    (\"Sigmoid Glide Path\", sigmoid_glide_path),\n",
    "    (\"Linear Glide Path\", linear_glide_path),\n",
    "    (\"Other Glide Path\", other_glide_path),\n",
    "    (\"Other Glide Path 2\", other2_glide_path),\n",
    "    (\"Constant Leverage\", constant_leverage),\n",
    "    (\"sigmoid_glide_path_test\", normalized_sigmoid),\n",
    "    (\"Book Path\", book_path)\n",
    "]\n",
    "\n",
    "line_graph_of_each_glide_path(glide_path_functions)"
   ]
  },
  {
   "cell_type": "code",
   "execution_count": null,
   "metadata": {},
   "outputs": [],
   "source": [
    "list_of_glide_path_func = [book_path, sigmoid_glide_path, other_glide_path, other2_glide_path, constant_leverage]\n",
    "months_list, leverage_list = calculate_all_amounts_with_glide_paths(df, list_of_glide_path_func)"
   ]
  },
  {
   "cell_type": "code",
   "execution_count": null,
   "metadata": {},
   "outputs": [],
   "source": [
    "box_plot_comparison_of_glide_paths(leverage_list, list_of_glide_path_func)"
   ]
  },
  {
   "cell_type": "markdown",
   "metadata": {},
   "source": [
    "# Optimizing Glide Paths\n",
    "\n",
    "We see above that we can habe multiple diferent possible glide paths that can each produce different results for the box plots. We are unsure of the exact shape of the 'ideal' glide path but that is the goal for the rest of this notebook."
   ]
  },
  {
   "cell_type": "code",
   "execution_count": null,
   "metadata": {},
   "outputs": [],
   "source": [
    "from glide_path_functions.optimized_glide_paths import sigmoid, sigmoid_default, piecewise, piecewise_default, polynomial, normalized_sigmoid"
   ]
  },
  {
   "cell_type": "code",
   "execution_count": null,
   "metadata": {},
   "outputs": [],
   "source": [
    "def optimize(list_of_var, func):\n",
    "    def helper (amount):\n",
    "        return func(amount, list_of_var)\n",
    "    \n",
    "    leverage_list_opt = calculate_amount_with_glide_path_opt(df, helper)\n",
    "    avg = calc_quartile_avg(leverage_list_opt)\n",
    "    \n",
    "    result = -1. * avg\n",
    "    return result\n",
    "\n",
    "def sigmoid_optimize(list_of_var):\n",
    "    return optimize(list_of_var, normalized_sigmoid)\n",
    "\n",
    "def piecewise_optimize(list_of_var):\n",
    "    return optimize(list_of_var, piecewise)\n",
    "\n",
    "def polynomial_optimize(list_of_var):\n",
    "    return optimize(list_of_var, polynomial)\n",
    "\n",
    "guess_sigmoid = [7.52701453e+00, 2.08417665e-06, 6.22858109e+06, 6.72461394e-01]\n",
    "guess_n_sigmoid = [6, 2, 5, 0.5]\n",
    "guess_piecewise = [-3, 8 , -6, 8, -3, 10, -1, 20, 2, 4, 8]\n",
    "\n",
    "\n",
    "bound_sigmoid = [\n",
    "    (0.0, 9),\n",
    "    (2e-07, 1e-05),\n",
    "    (-5e+06, 10e+06),\n",
    "    (0, 1.2)\n",
    "]\n",
    "bound_n_sigmoid = [\n",
    "    (0.0, 9),\n",
    "    (0.5, 10),\n",
    "    (-1, 10),\n",
    "    (0, 2)\n",
    "]\n",
    "bound_piecewise =[\n",
    "    (-10, 10),\n",
    "    (0, 50),\n",
    "    (-10, 10),\n",
    "    (0, 50),\n",
    "    (-10, 10),\n",
    "    (0, 50),\n",
    "    (-10, 10),\n",
    "    (0, 50),\n",
    "    (0, 10),\n",
    "    (0, 20),\n",
    "    (0, 30),\n",
    "]\n",
    "bound_polynomial = [\n",
    "    (-10, 10),\n",
    "    (-10, 10),\n",
    "    (-10, 10),\n",
    "    (-10, 10),\n",
    "    (-10, 10),\n",
    "    (-5, 5),\n",
    "]"
   ]
  },
  {
   "cell_type": "code",
   "execution_count": null,
   "metadata": {},
   "outputs": [],
   "source": [
    "# Check if initial guess is within bounds\n",
    "# if not all(lower <= x <= upper for x, (lower, upper) in zip(guess_piecewise, bound_piecewise)):\n",
    "#     print (\"Initial guess is not within the specified bounds\")\n",
    "# show_options(solver='minimize', method='COBYLA', disp=True)"
   ]
  },
  {
   "cell_type": "code",
   "execution_count": null,
   "metadata": {},
   "outputs": [],
   "source": [
    "#accept is not per step, it is per iteration (per local minima)\n",
    "def accept(**kwargs):\n",
    "    xnew = kwargs['x_new']\n",
    "    print(\"test\")\n",
    "    for xi, (low, high) in zip(xnew, bound_piecewise):\n",
    "        if not (low <= xi <= high):\n",
    "            return False\n",
    "    return True\n",
    "\n",
    "result = minimize(piecewise_optimize, guess_piecewise, method='L-BFGS-B', bounds=bound_piecewise, options={'gtol': 1e-6})\n",
    "#result = differential_evolution(sigmoid_optimize, bound_sigmoid, disp=True) #need to try dual annuel\n",
    "\n",
    "#piecewise_minimizer_kwargs = { \"method\": \"Nelder-Mead\",\"bounds\":bound_piecewise }\n",
    "#basinhopping(piecewise_optimize, guess_piecewise, T=2, accept_test=accept, minimizer_kwargs=piecewise_minimizer_kwargs, disp=True, niter_success=1)"
   ]
  },
  {
   "cell_type": "code",
   "execution_count": null,
   "metadata": {},
   "outputs": [],
   "source": [
    "print(result.x)\n",
    "print(result.fun)\n",
    "print(result.success)\n",
    "print(result.message)\n",
    "\n",
    "temp_opt = [x for x in result.x]\n",
    "print(len(temp_opt))"
   ]
  },
  {
   "cell_type": "markdown",
   "metadata": {},
   "source": [
    "## Guesses\n",
    "\n",
    "1. [7.61645333e+00 1.42234210e-06 8.68306690e+06 6.21570943e-01] => -7.236472384747586\n",
    "\n",
    "    This is for sigmoid_opt of default_start_amount = 10000, default_contribution_amount = 5000, default_month_interval = 12 * 2.5, default_difference = .000\n",
    "\n",
    "2. [-2.97517529e-06  8.04051349e+00 -1.01686877e-06  8.72164523e+00 -7.45196808e-07  9.53897600e+00 -4.31036545e-06  8.00850297e+00] => -7.087004155096324\n",
    "\n",
    "    This is for piecewise of default_start_amount = 10000, default_contribution_amount = 5000, default_month_interval = 12 * 2.5, default_difference = .000 with set x values\n",
    "\n",
    "3. [-2.17423293e-07  8.38021564e+00 -4.05258433e-06  6.39217193e+00 -9.82229827e-06  9.32770644e+00 -1.10854224e-07  2.22762317e+00 4.96697812e+06  2.43985089e+06  1.83686376e+06] => -7.111982124971696\n",
    "\n",
    "    This is for piecewise of default_start_amount = 10000, default_contribution_amount = 5000, default_month_interval = 12 * 2.5, default_difference = .000 with varying x values.\n",
    "\n",
    "4. [-5.25354450e-08  8.36252777e+00 -1.59055917e-06  5.37105628e+00\n",
    " -3.33447881e-06  3.21115594e+00 -2.16527293e-07  3.54469172e+00\n",
    "  4.48643019e+06  2.93376744e+06  2.47906832e+06  6.80476220e-01\n",
    "  7.94358320e+00]\n",
    "-7.16883075317587\n",
    "\n",
    "5. [-1.52220080e-07  8.46270441e+00 -3.10300019e-06  6.63992385e+00\n",
    " -2.47083369e-06  3.19308924e+00 -8.11634160e-07  9.79006055e+00\n",
    "  3.53446409e+06  2.33426388e+06  3.39381660e+06  8.26682453e-01\n",
    "  7.83147076e+00]\n",
    "-7.199014790128642\n",
    "\n",
    "6. [7.79498742e+00 6.78299963e-06 7.59723102e+06 1.09826310e+00]\n",
    "-7.315850902854188\n",
    "\n",
    "7. [-3.58192185e-07  7.50307722e+00 -3.90285116e-06  3.33148209e+00\n",
    " -6.86964144e-06  6.22891024e-01 -6.07844579e-08  2.68487418e+00\n",
    "  4.20075564e+06  4.68437616e+06  8.40069262e+05]\n",
    "-7.173083995208977 \n",
    "\n",
    "    This is unbounded piecewise, it goes into negative leverage which is a problem. Current problem is that if we (min max) the bounds of the leverage function, i am not sure if this correctly utilizing the optimize func because any paramters that exceed the bounds of lev func will result in the same value.\n",
    "\n",
    "\n",
    "8. [-0.4716598   6.87965871 -2.85194484  7.62151847  0.63390778  4.38047322]\n",
    "-7.420124470290059\n",
    "\n",
    "    This is polynomial that achieved a negative value somehow\n",
    "\n",
    "\n",
    "9. [8.99967086e+00 3.03509188e-06 5.02974074e+06 8.89664075e-01]\n",
    "-7.061722612608467\n",
    "\n",
    "    This is dual annualeing for sigmoid.\n",
    "    \n",
    "## Normalzied sigmoid\n",
    "10. [7.60560019 2.4686383  5.54660909 0.772898  ] = -7.047447257735126\n",
    "\n",
    "11. [8.59389735 2.83805718 5.01756339 0.91160879] = -7.071055942899254 DD -.001\n",
    "\n",
    "12. [2.30399719 0.82899821 1.         0.        ] = -6.40649749289058 DD -.003\n",
    "\n",
    "13. [1.57473466 2.33058679 3.14965699 0.34092716] = -6.505114042523816 DD -.002\n",
    "\n",
    "14. [1.59613352 4.05636477 6.07167297 0.21810374] = -6.510032975958444 DD -.002 Nedler-Mead\n",
    "\n",
    "15. [1.49806639 2.43540902 3.09735225 0.37342204] = -6.505196146714003 DD -.002 regular BFGS"
   ]
  },
  {
   "cell_type": "code",
   "execution_count": null,
   "metadata": {},
   "outputs": [],
   "source": [
    "temp_opt = [8.59389735, 2.83805718, 5.01756339, 0.91160879]"
   ]
  },
  {
   "cell_type": "code",
   "execution_count": null,
   "metadata": {},
   "outputs": [],
   "source": [
    "amounts = np.linspace(0, 15000000, 1000)  # From 0 to 8,000,000\n",
    "glide_path_values = [normalized_sigmoid(amount, temp_opt) for amount in amounts]\n",
    "\n",
    "# Plotting\n",
    "plt.figure(figsize=(10, 6))\n",
    "plt.plot(amounts, glide_path_values, label='Glide Path')\n",
    "\n",
    "scale_factor = 1e6\n",
    "ticks = ticker.FuncFormatter(lambda x, pos: '{0:g}'.format(x/scale_factor))\n",
    "plt.gca().xaxis.set_major_formatter(ticks)\n",
    "plt.title('Glide Path Function Graph')\n",
    "plt.xlabel('Amount')\n",
    "plt.ylabel('Glide Path Value')\n",
    "plt.grid(True)\n",
    "plt.show()"
   ]
  },
  {
   "cell_type": "markdown",
   "metadata": {},
   "source": [
    "## Visualize growth graph for each 30-year period\n"
   ]
  },
  {
   "cell_type": "code",
   "execution_count": null,
   "metadata": {},
   "outputs": [],
   "source": [
    "single_list = [lambda x: normalized_sigmoid(x, temp_opt)]\n",
    "visualize_df = visualize(df, single_list)"
   ]
  },
  {
   "cell_type": "code",
   "execution_count": null,
   "metadata": {},
   "outputs": [],
   "source": [
    "# Plot each column with an offset\n",
    "plt.figure(figsize=(10, 6))\n",
    "offset_value = 1  # Define the offset value\n",
    "for column in visualize_df.columns:\n",
    "    plt.plot(visualize_df.index, visualize_df[column], label=column)\n",
    "\n",
    "plt.xlabel('Index')\n",
    "plt.ylabel('Value')\n",
    "plt.yscale('log')\n",
    "plt.title('Glide Path Proof')\n",
    "plt.legend()\n",
    "plt.show()"
   ]
  },
  {
   "cell_type": "markdown",
   "metadata": {},
   "source": [
    "# Collecting data on multiple glide paths"
   ]
  },
  {
   "cell_type": "code",
   "execution_count": null,
   "metadata": {},
   "outputs": [],
   "source": [
    "glide_path_functions = [\n",
    "    (\"Piecewise Default\", piecewise_default),\n",
    "    (\"Sigmoid Glide Path\", sigmoid_glide_path),\n",
    "    (\"Sigmoid Def.\", sigmoid_default),\n",
    "    (\"Lambda\", lambda x: normalized_sigmoid(x, temp_opt)),\n",
    "]\n",
    "\n",
    "line_graph_of_each_glide_path(glide_path_functions)"
   ]
  },
  {
   "cell_type": "code",
   "execution_count": null,
   "metadata": {},
   "outputs": [],
   "source": [
    "list_of_glide_path_func = [book_path, other2_glide_path, lambda x: normalized_sigmoid(x, temp_opt), piecewise_default, sigmoid_glide_path, constant_leverage]\n",
    "months_list, leverage_list = calculate_all_amounts_with_glide_paths(df, list_of_glide_path_func)\n",
    "box_plot_comparison_of_glide_paths(leverage_list, list_of_glide_path_func)"
   ]
  },
  {
   "cell_type": "code",
   "execution_count": null,
   "metadata": {},
   "outputs": [],
   "source": [
    "# s = pd.Series(calculate_amount_with_glide_path_opt(df, lambda x: sigmoid(x, temp_opt)))\n",
    "# s.describe()"
   ]
  },
  {
   "cell_type": "code",
   "execution_count": null,
   "metadata": {},
   "outputs": [],
   "source": [
    "# series_list = [pd.Series(inner_list) for inner_list in leverage_list]\n",
    "# for list in series_list:\n",
    "#     print(list.describe())"
   ]
  },
  {
   "cell_type": "markdown",
   "metadata": {},
   "source": [
    "# Visulaize distrubution of months across glidepath functions"
   ]
  },
  {
   "cell_type": "code",
   "execution_count": null,
   "metadata": {},
   "outputs": [],
   "source": [
    "series_months_list = [pd.Series(inner_list) for inner_list in months_list]\n",
    "# for list in series_months_list:\n",
    "#     print(list.describe())"
   ]
  },
  {
   "cell_type": "code",
   "execution_count": null,
   "metadata": {},
   "outputs": [],
   "source": [
    "# plt.figure(figsize=(8, 12))\n",
    "# plt.boxplot([series_months_list], positions=[1], showfliers=False)\n",
    "# percentile_month = np.percentile(series_months_list, 90)\n",
    "# plt.hlines(percentile_month, 0.9, 1.1, colors='blue', linestyles='dashed')\n",
    "# plt.xticks([1], ['Months'])\n",
    "# plt.title('Month Distribution')\n",
    "# plt.ylabel('# of months')\n",
    "# plt.show()\n",
    "\n",
    "\n",
    "# Plotting side-by-side boxplots\n",
    "plt.figure(figsize=(8, 12))\n",
    "plt.boxplot(series_months_list, positions=[i for i in range(1,len(series_months_list) + 1)], showfliers=False)\n",
    "\n",
    "# Calculate the xth percentile for each dataset\n",
    "xth_perc = 98\n",
    "for i, series in enumerate(series_months_list):\n",
    "    percentile = np.percentile(series, xth_perc)\n",
    "    plt.hlines(percentile, i + 0.9, i + 1.1, linestyles='dashed')\n",
    "\n",
    "func_names = []\n",
    "func_names.append\n",
    "plt.xticks([i for i in range(1,len(series_months_list) + 1)], [func.__name__ for func in list_of_glide_path_func])\n",
    "plt.xticks(rotation=45)\n",
    "plt.title('Distrubtion of months till launch')\n",
    "plt.ylabel('# of months till passed half mark')\n",
    "plt.show()"
   ]
  },
  {
   "cell_type": "code",
   "execution_count": null,
   "metadata": {},
   "outputs": [],
   "source": []
  }
 ],
 "metadata": {
  "kernelspec": {
   "display_name": "Python 3",
   "language": "python",
   "name": "python3"
  },
  "language_info": {
   "codemirror_mode": {
    "name": "ipython",
    "version": 3
   },
   "file_extension": ".py",
   "mimetype": "text/x-python",
   "name": "python",
   "nbconvert_exporter": "python",
   "pygments_lexer": "ipython3",
   "version": "3.12.0"
  },
  "orig_nbformat": 4
 },
 "nbformat": 4,
 "nbformat_minor": 2
}
