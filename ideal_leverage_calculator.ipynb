{
 "cells": [
  {
   "cell_type": "code",
   "execution_count": 3,
   "metadata": {},
   "outputs": [],
   "source": [
    "import pandas as pd\n",
    "import numpy as np\n",
    "import seaborn as sns\n",
    "import matplotlib.pyplot as plt\n",
    "import matplotlib.ticker as ticker\n",
    "\n",
    "from sympy import symbols, Eq, solve\n",
    "from datetime import datetime\n",
    "from datetime import datetime\n",
    "from dateutil.relativedelta import relativedelta\n",
    "\n",
    "from scipy.optimize import minimize, Bounds, show_options, basinhopping, brute, differential_evolution, dual_annealing\n",
    "import math\n"
   ]
  },
  {
   "cell_type": "markdown",
   "metadata": {},
   "source": [
    "# Creating Dataframe\n",
    "\n",
    "We are just builidng our original dataframe here with date, price, interest, and price changes"
   ]
  },
  {
   "cell_type": "code",
   "execution_count": 4,
   "metadata": {},
   "outputs": [],
   "source": [
    "excel_file_path = 'chapt26.xlsx'\n",
    "interest = pd.read_excel(excel_file_path, sheet_name='Data', usecols='A,H')\n",
    "interest = interest.iloc[7:]\n",
    "interest.columns = ['Year', 'Interest']\n",
    "interest = interest.reset_index(drop=True)"
   ]
  },
  {
   "cell_type": "code",
   "execution_count": 5,
   "metadata": {},
   "outputs": [],
   "source": [
    "excel_file_path = 'monthly_data.xls'\n",
    "df = pd.read_excel(excel_file_path, sheet_name='Data', usecols='A,J')\n",
    "df = df.iloc[7:]\n",
    "df = df.reset_index(drop=True)\n",
    "df.columns = ['Date', 'Price']\n",
    "\n",
    "def correct_date_string_specific(date_str):\n",
    "    parts = str(date_str).split('.')\n",
    "    if len(parts) == 2 and parts[1] == '1':\n",
    "        parts[1] = '10'\n",
    "    return '.'.join(parts)\n",
    "\n",
    "df['Date'] = df['Date'].apply(correct_date_string_specific)\n",
    "df['Date'] = pd.to_datetime(df['Date'], format='%Y.%m')\n",
    "df['Year'] = df['Date'].dt.year"
   ]
  },
  {
   "cell_type": "code",
   "execution_count": 6,
   "metadata": {},
   "outputs": [
    {
     "data": {
      "text/html": [
       "<div>\n",
       "<style scoped>\n",
       "    .dataframe tbody tr th:only-of-type {\n",
       "        vertical-align: middle;\n",
       "    }\n",
       "\n",
       "    .dataframe tbody tr th {\n",
       "        vertical-align: top;\n",
       "    }\n",
       "\n",
       "    .dataframe thead th {\n",
       "        text-align: right;\n",
       "    }\n",
       "</style>\n",
       "<table border=\"1\" class=\"dataframe\">\n",
       "  <thead>\n",
       "    <tr style=\"text-align: right;\">\n",
       "      <th></th>\n",
       "      <th>Date</th>\n",
       "      <th>Price</th>\n",
       "      <th>Interest</th>\n",
       "      <th>Percent Change</th>\n",
       "    </tr>\n",
       "  </thead>\n",
       "  <tbody>\n",
       "    <tr>\n",
       "      <th>0</th>\n",
       "      <td>1871-01-01</td>\n",
       "      <td>109.050018</td>\n",
       "      <td>0.003959</td>\n",
       "      <td>NaN</td>\n",
       "    </tr>\n",
       "    <tr>\n",
       "      <th>1</th>\n",
       "      <td>1871-02-01</td>\n",
       "      <td>107.765291</td>\n",
       "      <td>0.003959</td>\n",
       "      <td>-0.011781</td>\n",
       "    </tr>\n",
       "    <tr>\n",
       "      <th>2</th>\n",
       "      <td>1871-03-01</td>\n",
       "      <td>109.298845</td>\n",
       "      <td>0.003959</td>\n",
       "      <td>0.01423</td>\n",
       "    </tr>\n",
       "    <tr>\n",
       "      <th>3</th>\n",
       "      <td>1871-04-01</td>\n",
       "      <td>117.171191</td>\n",
       "      <td>0.003959</td>\n",
       "      <td>0.072026</td>\n",
       "    </tr>\n",
       "    <tr>\n",
       "      <th>4</th>\n",
       "      <td>1871-05-01</td>\n",
       "      <td>123.479273</td>\n",
       "      <td>0.003959</td>\n",
       "      <td>0.053836</td>\n",
       "    </tr>\n",
       "  </tbody>\n",
       "</table>\n",
       "</div>"
      ],
      "text/plain": [
       "        Date       Price  Interest Percent Change\n",
       "0 1871-01-01  109.050018  0.003959            NaN\n",
       "1 1871-02-01  107.765291  0.003959      -0.011781\n",
       "2 1871-03-01  109.298845  0.003959        0.01423\n",
       "3 1871-04-01  117.171191  0.003959       0.072026\n",
       "4 1871-05-01  123.479273  0.003959       0.053836"
      ]
     },
     "execution_count": 6,
     "metadata": {},
     "output_type": "execute_result"
    }
   ],
   "source": [
    "df = pd.merge(interest, df, on = \"Year\")\n",
    "df[\"Interest\"] = (df[\"Interest\"] - 1)/12\n",
    "df = df[[\"Date\", \"Price\", \"Interest\"]]\n",
    "\n",
    "def add_percent_change (df):\n",
    "    df = df.copy()\n",
    "    diff = df['Price'].pct_change(fill_method=None)\n",
    "    df[\"Percent Change\"] = diff\n",
    "    return df\n",
    "\n",
    "df = add_percent_change(df)\n",
    "df.head()"
   ]
  },
  {
   "cell_type": "markdown",
   "metadata": {},
   "source": [
    "# DataFrame Functions"
   ]
  },
  {
   "cell_type": "code",
   "execution_count": 7,
   "metadata": {},
   "outputs": [],
   "source": [
    "def filter_dataframe_by_date (df, start_date=datetime(1500, 1, 1), end_date=datetime(9999, 1, 1)):\n",
    "    \n",
    "    filtered_df = df[(df['Date'] >= start_date) & (df['Date'] <= end_date)]\n",
    "    filtered_df.head()\n",
    "\n",
    "    return filtered_df.reset_index(drop=True)\n",
    "\n",
    "def compare_growth_of_diff_leverages (df, start_amount, contributions=5000):\n",
    "    df.loc[0, \"Total Normal Amount\"] = start_amount\n",
    "    df.loc[0, \"Total 3x Leveraged Amount\"] = start_amount\n",
    "    df.loc[0, \"Total 2.5x Leveraged Amount\"] = start_amount\n",
    "    df.loc[0, \"Total 2x Leveraged Amount\"] = start_amount\n",
    "    for i in range(1, len(df)):\n",
    "        percent_change = df.loc[i, \"Percent Change\"]\n",
    "        interest_change  = df.loc[i, \"Interest\"]\n",
    "        df.loc[i, 'Total Normal Amount'] = df.loc[i - 1, 'Total Normal Amount'] * (1 + percent_change) + contributions\n",
    "        df.loc[i, 'Total 3x Leveraged Amount'] = df.loc[i - 1, 'Total 3x Leveraged Amount'] * (1 + ((3 * percent_change) - (2 * interest_change))) + contributions\n",
    "        df.loc[i, 'Total 2.5x Leveraged Amount'] = df.loc[i - 1, 'Total 2.5x Leveraged Amount'] * (1 + ((2.5 * percent_change) - (1.5 * interest_change))) + contributions\n",
    "        df.loc[i, 'Total 2x Leveraged Amount'] = df.loc[i - 1, 'Total 2x Leveraged Amount'] * (1 + ((2 * percent_change) - (1 * interest_change))) + contributions\n",
    "    return df\n"
   ]
  },
  {
   "cell_type": "markdown",
   "metadata": {},
   "source": [
    "# Math Functions"
   ]
  },
  {
   "cell_type": "code",
   "execution_count": 8,
   "metadata": {},
   "outputs": [],
   "source": [
    "\n",
    "def market_drop(leveraged_x, new_leveraged_x):\n",
    "    amount = 10000.\n",
    "    leveraged_amount = amount * leveraged_x\n",
    "\n",
    "    x = symbols('x')\n",
    "    equation = Eq((leveraged_amount - x) / (amount - x), new_leveraged_x)\n",
    "    total_amount_drop = solve(equation, x)[0]\n",
    "    return total_amount_drop / amount\n",
    "\n",
    "\n",
    "def calculate_diff_leverages_growth(df, month_interval=6, startamount=10000, contributions=5000):\n",
    "    start_date = datetime(1871, 1, 1)\n",
    "    end_date = datetime(1906, 1, 1)\n",
    "\n",
    "    normal_end_amounts = []\n",
    "    leveraged3x_end_amounts = []\n",
    "    leveraged25x_end_amounts = []\n",
    "    leveraged2x_end_amounts = []\n",
    "    while end_date < datetime(2024, 1, 1):\n",
    "        new_df = filter_dataframe_by_date(df, start_date, end_date)\n",
    "        new_df = compare_growth_of_diff_leverages(new_df, startamount, contributions)\n",
    "\n",
    "        normal_end_amount = new_df[\"Total Normal Amount\"].iloc[-1]\n",
    "        leveraged3x_end_amount = new_df[\"Total 3x Leveraged Amount\"].iloc[-1]\n",
    "        leveraged25x_end_amount = new_df[\"Total 2.5x Leveraged Amount\"].iloc[-1]\n",
    "        leveraged2x_end_amount = new_df[\"Total 2x Leveraged Amount\"].iloc[-1]\n",
    "\n",
    "        normal_end_amounts.append(normal_end_amount)\n",
    "        leveraged3x_end_amounts.append(leveraged3x_end_amount)\n",
    "        leveraged25x_end_amounts.append(leveraged25x_end_amount)\n",
    "        leveraged2x_end_amounts.append(leveraged2x_end_amount)\n",
    "\n",
    "\n",
    "        start_date += relativedelta(months=month_interval)\n",
    "        end_date += relativedelta(months=month_interval)\n",
    "\n",
    "    print(end_date)\n",
    "    return normal_end_amounts, leveraged3x_end_amounts, leveraged25x_end_amounts, leveraged2x_end_amounts\n",
    "    "
   ]
  },
  {
   "cell_type": "code",
   "execution_count": 9,
   "metadata": {},
   "outputs": [],
   "source": [
    "# price_diff = filter_dataframe_by_date(df, datetime(1871, 2, 1), datetime(1901, 2, 1))\n",
    "# price_diff = compare_growth_of_diff_leverages(price_diff, 10000.)\n",
    "# price_diff.tail()"
   ]
  },
  {
   "cell_type": "code",
   "execution_count": 10,
   "metadata": {},
   "outputs": [],
   "source": [
    "# normal_list, leverage3x_list, leverage25x_list, leverage2x_list  = calculate_diff_leverages_growth(df, 6, 10000)"
   ]
  },
  {
   "cell_type": "code",
   "execution_count": 11,
   "metadata": {},
   "outputs": [],
   "source": [
    "# s_normal = pd.Series(normal_list)\n",
    "# s_leverage3x = pd.Series(leverage3x_list)\n",
    "# s_leverage25x = pd.Series(leverage25x_list)\n",
    "# s_leverage2x = pd.Series(leverage2x_list)\n",
    "# print(s_normal.describe())\n",
    "# print(s_leverage3x.describe())"
   ]
  },
  {
   "cell_type": "code",
   "execution_count": 12,
   "metadata": {},
   "outputs": [],
   "source": [
    "# # Plotting side-by-side boxplots\n",
    "# plt.figure(figsize=(8, 16))\n",
    "# plt.boxplot([s_normal, s_leverage3x, s_leverage25x, s_leverage2x], positions=[1, 2, 3, 4], showfliers=False)\n",
    "# plt.yscale('log')  # Using a logarithmic scale\n",
    "# plt.xticks([1, 2, 3, 4], ['Normal 1', '3x', '2.5x', '2x'])\n",
    "# plt.title('Comparison of Datasets')\n",
    "# plt.ylabel('Value (log scale)')\n",
    "# plt.show()"
   ]
  },
  {
   "cell_type": "markdown",
   "metadata": {},
   "source": [
    "## List of Possible Glidepath Functions"
   ]
  },
  {
   "cell_type": "code",
   "execution_count": 13,
   "metadata": {},
   "outputs": [],
   "source": [
    "def sigmoid_glide_path(amount):\n",
    "    max_amount = 10000000\n",
    "    steepness = 0.0000015\n",
    "    # The logistic sigmoid function scaled to range from 1 to 3\n",
    "    sigmoid = 1 / (1 + np.exp(-steepness * (amount - max_amount / 2)))\n",
    "    return 5 - 4 * sigmoid\n",
    "\n",
    "def linear_glide_path(amount, start_value=5, end_value=1, max_amount=10000000):\n",
    "    if (amount > max_amount):\n",
    "        return 1\n",
    "    slope = (end_value - start_value) / max_amount\n",
    "    return start_value + slope * amount\n",
    "\n",
    "def other_glide_path (amount):\n",
    "    amount = amount/1000000\n",
    "    if amount < 2:\n",
    "        return 5\n",
    "    elif 2 <= amount <= 10:  # Adjusted curve to start from glide path of 5\n",
    "        # Using a logarithmic curve for a smoother transition from 5\n",
    "        return 5 - 4 * np.log10(1 + amount - 2) / np.log10(9)\n",
    "    else:\n",
    "        return 1\n",
    "    \n",
    "def other2_glide_path (amount):\n",
    "    lev = 4000000/(amount+1)\n",
    "    return max(1, min(3, lev+.3))\n",
    "\n",
    "def constant_leverage (amount, lev=3):\n",
    "    return lev\n"
   ]
  },
  {
   "cell_type": "markdown",
   "metadata": {},
   "source": [
    "## Graph of our manual Path Function"
   ]
  },
  {
   "cell_type": "code",
   "execution_count": 14,
   "metadata": {},
   "outputs": [
    {
     "data": {
      "image/png": "[encoded data removed]",
      "text/plain": [
       "<Figure size 1000x600 with 1 Axes>"
      ]
     },
     "metadata": {},
     "output_type": "display_data"
    }
   ],
   "source": [
    "amounts = np.linspace(0, 10000000, 1000)  # From 0 to 8,000,000\n",
    "glide_path_values = [sigmoid_glide_path(amount) for amount in amounts]\n",
    "\n",
    "# Plotting\n",
    "plt.figure(figsize=(10, 6))\n",
    "plt.plot(amounts, glide_path_values, label='Glide Path')\n",
    "\n",
    "scale_factor = 1e6\n",
    "ticks = ticker.FuncFormatter(lambda x, pos: '{0:g}'.format(x/scale_factor))\n",
    "plt.gca().xaxis.set_major_formatter(ticks)\n",
    "plt.title('Glide Path Function Graph')\n",
    "plt.xlabel('Amount (in millions)')\n",
    "plt.ylabel('Glide Path Value')\n",
    "plt.grid(True)\n",
    "plt.show()"
   ]
  },
  {
   "cell_type": "markdown",
   "metadata": {},
   "source": [
    "### Defalt Values Set Here"
   ]
  },
  {
   "cell_type": "code",
   "execution_count": 15,
   "metadata": {},
   "outputs": [],
   "source": [
    "default_start_amount = 10000\n",
    "default_contribution_amount = 5000\n",
    "default_month_interval = 12 * 2.5\n",
    "default_difference = .001"
   ]
  },
  {
   "cell_type": "code",
   "execution_count": 16,
   "metadata": {},
   "outputs": [],
   "source": [
    "def calculate_growth_with_glide_path (df, list_of_glide_path_func, start_amount=default_start_amount, contributions=default_contribution_amount,):\n",
    "    df.loc[0, \"Total Normal Amount\"] = start_amount\n",
    "    leverage_amount_str =  \"Total Leveraged Amount \"\n",
    "    for i in range(0, len(list_of_glide_path_func)):\n",
    "        t = leverage_amount_str + str(i)\n",
    "        df.loc[0, t] = start_amount\n",
    "\n",
    "    first_occur_arr = [0 for _ in range(len(list_of_glide_path_func))]\n",
    "    happ = [False for _ in range(len(list_of_glide_path_func))]\n",
    "    for i in range(1, len(df)):\n",
    "        percent_change = df.loc[i, \"Percent Change\"] - default_difference\n",
    "        interest_change  = df.loc[i, \"Interest\"]\n",
    "        df.loc[i, 'Total Normal Amount'] = df.loc[i - 1, 'Total Normal Amount'] * (1 + percent_change) + contributions\n",
    "\n",
    "\n",
    "        for x, glide_path_func in enumerate(list_of_glide_path_func):\n",
    "            t = leverage_amount_str + str(x)\n",
    "            prev_amount = df.loc[i - 1, t]\n",
    "            glide_path = glide_path_func(prev_amount)\n",
    "            df.loc[i, t] = max(1, prev_amount * (1 + ((glide_path * percent_change) - ((glide_path - 1) * interest_change))) + contributions)\n",
    "            if (not happ[x] and df.loc[i, t] > 5000000):\n",
    "                first_occur_arr[x] = i\n",
    "                happ[x] = True\n",
    "\n",
    "    \n",
    "    return df, first_occur_arr\n",
    "\n",
    "def calculate_all_amounts_with_glide_paths(df, list_of_glide_path_func, month_interval=default_month_interval, start_amount=default_start_amount, contributions=default_contribution_amount):\n",
    "    # 30 year time period\n",
    "    start_date = datetime(1871, 1, 1)\n",
    "    end_date = datetime(1901, 1, 1)\n",
    "\n",
    "    array_of_amounts = []\n",
    "    for _ in range(len(list_of_glide_path_func) + 1):\n",
    "        array_of_amounts.append([])\n",
    "\n",
    "    months_arr = []\n",
    "    for _ in range(len(list_of_glide_path_func) ):\n",
    "        months_arr.append([])\n",
    "\n",
    "    while end_date < datetime(2024, 1, 1):\n",
    "        new_df = filter_dataframe_by_date(df, start_date, end_date)\n",
    "        new_df, index_of_months = calculate_growth_with_glide_path(new_df, list_of_glide_path_func, start_amount, contributions)\n",
    "\n",
    "        for i in range(0, len(list_of_glide_path_func) + 1):\n",
    "            if (i == 0):\n",
    "                normal_end_amount = new_df[\"Total Normal Amount\"].iloc[-1]\n",
    "                array_of_amounts[i].append(normal_end_amount)\n",
    "            else :\n",
    "                leverage_amount_str =  \"Total Leveraged Amount \"\n",
    "                temp_str = leverage_amount_str + str(i - 1)\n",
    "                array_of_amounts[i].append(max(1, new_df[temp_str].iloc[-1]))\n",
    "\n",
    "        for index, value in enumerate(index_of_months):\n",
    "            months_arr[index].append(value)\n",
    "    \n",
    "        start_date += relativedelta(months=month_interval)\n",
    "        end_date += relativedelta(months=month_interval)\n",
    "\n",
    "    print(end_date)\n",
    "    return months_arr, array_of_amounts\n",
    "\n",
    "\n",
    "# Visualize the 30-year growth periods to see how volatile  \n",
    "def visualize(df, list_of_glide_path_func, month_interval=default_month_interval, start_amount=default_start_amount, contributions=default_contribution_amount):\n",
    "    # 30 year time period\n",
    "    start_date = datetime(1871, 1, 1)\n",
    "    end_date = datetime(1901, 1, 1)\n",
    "\n",
    "    single_df = pd.DataFrame()\n",
    "    idx = 0\n",
    "    happ = True\n",
    "    while end_date < datetime(2024, 1, 1):\n",
    "        new_df = filter_dataframe_by_date(df, start_date, end_date)\n",
    "        new_df, index_of_months = calculate_growth_with_glide_path(new_df, list_of_glide_path_func, start_amount, contributions)\n",
    "\n",
    "        if (happ & idx < 40):\n",
    "            single_df[f\"Line {idx + 1}\"] = new_df[[\"Total Leveraged Amount 0\"]]\n",
    "            idx = idx + 1\n",
    "\n",
    "        happ = not happ\n",
    "    \n",
    "        start_date += relativedelta(months=month_interval)\n",
    "        end_date += relativedelta(months=month_interval)\n",
    "\n",
    "    print(end_date)\n",
    "    return single_df"
   ]
  },
  {
   "cell_type": "markdown",
   "metadata": {},
   "source": [
    "# Attempt to maximize glidepath function return"
   ]
  },
  {
   "cell_type": "markdown",
   "metadata": {},
   "source": [
    "### Helper functions to help calculate cohort end values"
   ]
  },
  {
   "cell_type": "code",
   "execution_count": 17,
   "metadata": {},
   "outputs": [],
   "source": [
    "def calculate_growth_with_glide_path_opt (df, glide_func, start_amount=default_start_amount, contributions=default_contribution_amount):\n",
    "    df.loc[0, \"Total Leveraged Amount\"] = start_amount\n",
    "\n",
    "    for i in range(1, len(df)):\n",
    "        percent_change = df.loc[i, \"Percent Change\"] - default_difference\n",
    "        interest_change  = df.loc[i, \"Interest\"]\n",
    "\n",
    "        prev_amount = df.loc[i - 1, \"Total Leveraged Amount\"]\n",
    "        glide_path = glide_func(prev_amount)\n",
    "        df.loc[i, 'Total Leveraged Amount'] = max(1, prev_amount * (1 + ((glide_path * percent_change) - ((glide_path - 1) * interest_change))) + contributions)\n",
    "\n",
    "    \n",
    "    return df\n",
    "\n",
    "def calculate_amount_with_glide_path_opt(df, glide_func, month_interval=default_month_interval, start_amount=default_start_amount, contributions=default_contribution_amount):\n",
    "    start_date = datetime(1871, 1, 1)\n",
    "    end_date = datetime(1901, 1, 1)\n",
    "\n",
    "    leverage_amount = []\n",
    "\n",
    "    while end_date < datetime(2024, 1, 1):\n",
    "        new_df = filter_dataframe_by_date(df, start_date, end_date)\n",
    "        new_df = calculate_growth_with_glide_path_opt(new_df, glide_func, start_amount, contributions)\n",
    "\n",
    "        leverage_amount.append(max(1, new_df['Total Leveraged Amount'].iloc[-1]))\n",
    "    \n",
    "        start_date += relativedelta(months=month_interval)\n",
    "        end_date += relativedelta(months=month_interval)\n",
    "\n",
    "    #print(end_date)\n",
    "    return np.array(leverage_amount)"
   ]
  },
  {
   "cell_type": "markdown",
   "metadata": {},
   "source": [
    "### Glide Path functions that we want to optimize"
   ]
  },
  {
   "cell_type": "code",
   "execution_count": 18,
   "metadata": {},
   "outputs": [],
   "source": [
    "sigmoid_temp = [7.61645333e+00, 1.42234210e-06, 8.68306690e+06, 6.21570943e-01]\n",
    "piecewise_temp = [-2.17423293e-07,  8.38021564e+00, -4.05258433e-06, 6.39217193e+00, -9.82229827e-06, \n",
    "                  9.32770644e+00, -1.10854224e-07,  2.22762317e+00, \n",
    "                  4.96697812e+06,  2.43985089e+06,  1.83686376e+06]\n",
    "\n",
    "max_lev = 9\n",
    "min_lev = 0.1\n",
    "\n",
    "def sigmoid(amount, arr):\n",
    "    amplitude, steepness, hort_shift, lower_bound = arr\n",
    "    exp_input = steepness * (amount - hort_shift)\n",
    "    safe_exp_input = np.clip(exp_input, None, 700)\n",
    "    return min(max_lev, lower_bound + (amplitude / (1 + np.exp(safe_exp_input))))\n",
    "\n",
    "def sigmoid_default(amount, arr=sigmoid_temp):\n",
    "    amplitude, steepness, hort_shift, lower_bound = arr\n",
    "    exp_input = steepness * (amount - hort_shift)\n",
    "    safe_exp_input = np.clip(exp_input, None, 700)\n",
    "    return min(max_lev, lower_bound + (amplitude / (1 + np.exp(safe_exp_input))))\n",
    "\n",
    "def piecewise (amount, arr):\n",
    "        slope_1, y_1, slope_2, y_2, slope_3, y_3, slope_4, y_4, x1, x2, x3 = arr\n",
    "        if (amount < x1):\n",
    "            return slope_1 * amount + y_1\n",
    "        elif (amount >= x1 and amount < x2):\n",
    "            return slope_2 * amount + y_2\n",
    "        elif (amount >= x2 and amount < x3):\n",
    "            return slope_3 * amount + y_3\n",
    "        elif (amount >= x3):\n",
    "            return slope_4 * amount + y_4\n",
    "        \n",
    "def piecewise_default (amount, arr=piecewise_temp):\n",
    "        slope_1, y_1, slope_2, y_2, slope_3, y_3, slope_4, y_4, x1, x2, x3 = arr\n",
    "        if (amount < x1):\n",
    "            return min(max_lev, max(min_lev, slope_1 * amount + y_1))\n",
    "        elif (amount >= x1 and amount < x2):\n",
    "            return min(max_lev, max(min_lev, slope_2 * amount + y_2))\n",
    "        elif (amount >= x2 and amount < x3):\n",
    "            return min(max_lev, max(min_lev, slope_3 * amount + y_3))\n",
    "        elif (amount >= x3):\n",
    "            return min(max_lev, max(min_lev, slope_4 * amount + y_4))\n",
    "        \n",
    "def polynomial (amount, arr):\n",
    "     five, four, three, two, one, hort_shift = arr\n",
    "     amount = (amount / 1e6) - hort_shift\n",
    "     res = five * amount**5 + four * amount**4 + three * amount**3 + two * amount**2 + one * amount**1\n",
    "     return np.clip(res, min_lev, max_lev)\n",
    "        \n"
   ]
  },
  {
   "cell_type": "code",
   "execution_count": 22,
   "metadata": {},
   "outputs": [],
   "source": [
    "def calc_quartile_avg (passed_list, log=True):\n",
    "    if (log):\n",
    "        passed_list = np.log10(passed_list)\n",
    "    weight_quartile_1 = 0.4\n",
    "    weight_quartile_2 = 0.3\n",
    "    weight_quartile_3 = 0.2\n",
    "    weight_quartile_4 = 0.1\n",
    "    weight_quartile_5 = 0\n",
    "\n",
    "    percentile_20 = np.percentile(passed_list, 20)\n",
    "    percentile_40 = np.percentile(passed_list, 40)\n",
    "    percentile_60 = np.percentile(passed_list, 60)\n",
    "    percentile_80 = np.percentile(passed_list, 80)\n",
    "\n",
    "    quartile_1 = np.mean(passed_list[passed_list < percentile_20])\n",
    "    quartile_2 = np.mean(passed_list[(passed_list >= percentile_20) & (passed_list < percentile_40)])\n",
    "    quartile_3 = np.mean(passed_list[(passed_list >= percentile_40) & (passed_list < percentile_60)])\n",
    "    quartile_4 = np.mean(passed_list[(passed_list >= percentile_60) & (passed_list < percentile_80)])\n",
    "    quartile_5 = np.mean(passed_list[passed_list >= percentile_80])\n",
    "    avg = weight_quartile_1 * quartile_1 + weight_quartile_2 * quartile_2 + weight_quartile_3 * quartile_3 + weight_quartile_4 * quartile_4 + weight_quartile_5 * quartile_5\n",
    "\n",
    "    return avg\n",
    "\n",
    "\n",
    "def optimize(list_of_var, func):\n",
    "    def helper (amount):\n",
    "        return func(amount, list_of_var)\n",
    "    \n",
    "    leverage_list_opt = calculate_amount_with_glide_path_opt(df, helper)\n",
    "    avg = calc_quartile_avg(leverage_list_opt)\n",
    "    \n",
    "\n",
    "    result = -1. * avg\n",
    "    #print(result)\n",
    "    return result\n",
    "\n",
    "def sigmoid_optimize(list_of_var):\n",
    "    return optimize(list_of_var, sigmoid)\n",
    "\n",
    "def piecewise_optimize(list_of_var):\n",
    "    return optimize(list_of_var, piecewise)\n",
    "\n",
    "def polynomial_optimize(list_of_var):\n",
    "    return optimize(list_of_var, polynomial)\n",
    "\n",
    "guess_sigmoid = [7.52701453e+00, 2.08417665e-06, 6.22858109e+06, 6.72461394e-01]\n",
    "guess_piecewise = [-1e-6, 5 , -1e-6, 4.8, -1e-6, 4, -1e-6, 3]\n",
    "\n",
    "\n",
    "bound_sigmoid = [\n",
    "    (0.0, 9),\n",
    "    (2e-07, 1e-05),\n",
    "    (-5e+06, 10e+06),\n",
    "    (0, 1.2)\n",
    "]\n",
    "bound_piecewise =[\n",
    "    (-1e-5, -1e-8),\n",
    "    (0, 8),\n",
    "    (-1e-5, -1e-8),\n",
    "    (0, 8),\n",
    "    (-1e-5, -1e-8),\n",
    "    (0, 8),\n",
    "    (-1e-5, -1e-8),\n",
    "    (0, 8),\n",
    "    (0, 5e6),\n",
    "    (0, 5e6),\n",
    "    (0, 7e6),\n",
    "]\n",
    "bound_polynomial = [\n",
    "    (-10, 10),\n",
    "    (-10, 10),\n",
    "    (-10, 10),\n",
    "    (-10, 10),\n",
    "    (-10, 10),\n",
    "    (-5, 5),\n",
    "]"
   ]
  },
  {
   "cell_type": "code",
   "execution_count": 20,
   "metadata": {},
   "outputs": [],
   "source": [
    "# Check if initial guess is within bounds\n",
    "# if not all(lower <= x <= upper for x, (lower, upper) in zip(guess_piecewise, bound_piecewise)):\n",
    "#     print (\"Initial guess is not within the specified bounds\")\n",
    "# show_options(solver='minimize', method='COBYLA', disp=True)"
   ]
  },
  {
   "cell_type": "code",
   "execution_count": 23,
   "metadata": {},
   "outputs": [
    {
     "name": "stdout",
     "output_type": "stream",
     "text": [
      "differential_evolution step 1: f(x)= -6.9854\n",
      "differential_evolution step 2: f(x)= -7.00543\n",
      "differential_evolution step 3: f(x)= -7.00543\n",
      "differential_evolution step 4: f(x)= -7.00543\n",
      "differential_evolution step 5: f(x)= -7.04108\n",
      "differential_evolution step 6: f(x)= -7.04108\n",
      "differential_evolution step 7: f(x)= -7.04108\n",
      "differential_evolution step 8: f(x)= -7.04108\n",
      "differential_evolution step 9: f(x)= -7.04108\n",
      "differential_evolution step 10: f(x)= -7.04529\n",
      "differential_evolution step 11: f(x)= -7.04877\n",
      "differential_evolution step 12: f(x)= -7.05198\n",
      "differential_evolution step 13: f(x)= -7.05261\n",
      "Polishing solution with 'L-BFGS-B'\n"
     ]
    }
   ],
   "source": [
    "#accept is not per step, it is per iteration (per local minima)\n",
    "def accept(**kwargs):\n",
    "    xnew = kwargs['x_new']\n",
    "    print(\"test\")\n",
    "    for xi, (low, high) in zip(xnew, bound_piecewise):\n",
    "        if not (low <= xi <= high):\n",
    "            return False\n",
    "    return True\n",
    "\n",
    "result = differential_evolution(sigmoid_optimize, bound_sigmoid, disp=True) #need to try dual annuel\n",
    "\n",
    "#piecewise_minimizer_kwargs = { \"method\": \"Nelder-Mead\",\"bounds\":bound_piecewise }\n",
    "#basinhopping(piecewise_optimize, guess_piecewise, T=2, accept_test=accept, minimizer_kwargs=piecewise_minimizer_kwargs, disp=True, niter_success=1)"
   ]
  },
  {
   "cell_type": "code",
   "execution_count": 24,
   "metadata": {},
   "outputs": [
    {
     "name": "stdout",
     "output_type": "stream",
     "text": [
      "[8.95681337e+00 1.52215659e-06 5.09359033e+06 8.13207557e-01]\n",
      "-7.0552869521824375\n",
      "True\n",
      "Optimization terminated successfully.\n",
      "4\n"
     ]
    }
   ],
   "source": [
    "print(result.x)\n",
    "print(result.fun)\n",
    "print(result.success)\n",
    "print(result.message)\n",
    "\n",
    "temp_opt = [x for x in result.x]\n",
    "print(len(temp_opt))"
   ]
  },
  {
   "cell_type": "markdown",
   "metadata": {},
   "source": [
    "## Guesses\n",
    "\n",
    "1. [7.61645333e+00 1.42234210e-06 8.68306690e+06 6.21570943e-01] => -7.236472384747586\n",
    "\n",
    "    This is for sigmoid_opt of default_start_amount = 10000, default_contribution_amount = 5000, default_month_interval = 12 * 2.5, default_difference = .000\n",
    "\n",
    "2. [-2.97517529e-06  8.04051349e+00 -1.01686877e-06  8.72164523e+00 -7.45196808e-07  9.53897600e+00 -4.31036545e-06  8.00850297e+00] => -7.087004155096324\n",
    "\n",
    "    This is for piecewise of default_start_amount = 10000, default_contribution_amount = 5000, default_month_interval = 12 * 2.5, default_difference = .000 with set x values\n",
    "\n",
    "3. [-2.17423293e-07  8.38021564e+00 -4.05258433e-06  6.39217193e+00 -9.82229827e-06  9.32770644e+00 -1.10854224e-07  2.22762317e+00 4.96697812e+06  2.43985089e+06  1.83686376e+06] => -7.111982124971696\n",
    "\n",
    "    This is for piecewise of default_start_amount = 10000, default_contribution_amount = 5000, default_month_interval = 12 * 2.5, default_difference = .000 with varying x values.\n",
    "\n",
    "4. [-5.25354450e-08  8.36252777e+00 -1.59055917e-06  5.37105628e+00\n",
    " -3.33447881e-06  3.21115594e+00 -2.16527293e-07  3.54469172e+00\n",
    "  4.48643019e+06  2.93376744e+06  2.47906832e+06  6.80476220e-01\n",
    "  7.94358320e+00]\n",
    "-7.16883075317587\n",
    "\n",
    "5. [-1.52220080e-07  8.46270441e+00 -3.10300019e-06  6.63992385e+00\n",
    " -2.47083369e-06  3.19308924e+00 -8.11634160e-07  9.79006055e+00\n",
    "  3.53446409e+06  2.33426388e+06  3.39381660e+06  8.26682453e-01\n",
    "  7.83147076e+00]\n",
    "-7.199014790128642\n",
    "\n",
    "6. [7.79498742e+00 6.78299963e-06 7.59723102e+06 1.09826310e+00]\n",
    "-7.315850902854188\n",
    "\n",
    "7. [-3.58192185e-07  7.50307722e+00 -3.90285116e-06  3.33148209e+00\n",
    " -6.86964144e-06  6.22891024e-01 -6.07844579e-08  2.68487418e+00\n",
    "  4.20075564e+06  4.68437616e+06  8.40069262e+05]\n",
    "-7.173083995208977 \n",
    "\n",
    "    This is unbounded piecewise, it goes into negative leverage which is a problem. Current problem is that if we (min max) the bounds of the leverage function, i am not sure if this correctly utilizing the optimize func because any paramters that exceed the bounds of lev func will result in the same value.\n",
    "\n",
    "\n",
    "8. [-0.4716598   6.87965871 -2.85194484  7.62151847  0.63390778  4.38047322]\n",
    "-7.420124470290059\n",
    "\n",
    "    This is polynomial that achieved a negative value somehow\n",
    "\n",
    "\n",
    "9. [8.99967086e+00 3.03509188e-06 5.02974074e+06 8.89664075e-01]\n",
    "-7.061722612608467\n",
    "\n",
    "    This is dual annualeing for sigmoid.\n",
    "    \n"
   ]
  },
  {
   "cell_type": "code",
   "execution_count": 25,
   "metadata": {},
   "outputs": [],
   "source": [
    "# temp_opt = [-0.4716598,   6.87965871, -2.85194484,  7.62151847,  0.63390778, 4.38047322]"
   ]
  },
  {
   "cell_type": "code",
   "execution_count": 26,
   "metadata": {},
   "outputs": [
    {
     "data": {
      "image/png": "[encoded data removed]",
      "text/plain": [
       "<Figure size 1000x600 with 1 Axes>"
      ]
     },
     "metadata": {},
     "output_type": "display_data"
    }
   ],
   "source": [
    "amounts = np.linspace(0, 15000000, 1000)  # From 0 to 8,000,000\n",
    "glide_path_values = [sigmoid(amount, temp_opt) for amount in amounts]\n",
    "\n",
    "# Plotting\n",
    "plt.figure(figsize=(10, 6))\n",
    "plt.plot(amounts, glide_path_values, label='Glide Path')\n",
    "\n",
    "plt.gca().xaxis.set_major_formatter(ticks)\n",
    "plt.title('Glide Path Function Graph')\n",
    "plt.xlabel('Amount')\n",
    "plt.ylabel('Glide Path Value')\n",
    "plt.grid(True)\n",
    "plt.show()"
   ]
  },
  {
   "cell_type": "markdown",
   "metadata": {},
   "source": [
    "## Visualize growth graph for each 30-year period\n"
   ]
  },
  {
   "cell_type": "code",
   "execution_count": null,
   "metadata": {},
   "outputs": [],
   "source": [
    "single_list = [lambda x: polynomial(x, temp_opt)]\n",
    "visualize_df = visualize(df, single_list)"
   ]
  },
  {
   "cell_type": "code",
   "execution_count": null,
   "metadata": {},
   "outputs": [],
   "source": [
    "# Plot each column with an offset\n",
    "plt.figure(figsize=(10, 6))\n",
    "offset_value = 1  # Define the offset value\n",
    "for column in visualize_df.columns:\n",
    "    plt.plot(visualize_df.index, visualize_df[column], label=column)\n",
    "\n",
    "plt.xlabel('Index')\n",
    "plt.ylabel('Value')\n",
    "plt.yscale('log')\n",
    "plt.title('Glide Path Proof')\n",
    "plt.legend()\n",
    "plt.show()"
   ]
  },
  {
   "cell_type": "markdown",
   "metadata": {},
   "source": [
    "# Collecting data on multiple glide paths"
   ]
  },
  {
   "cell_type": "code",
   "execution_count": 27,
   "metadata": {},
   "outputs": [
    {
     "name": "stdout",
     "output_type": "stream",
     "text": [
      "2026-01-01 00:00:00\n"
     ]
    }
   ],
   "source": [
    "list_of_glide_path_func = [piecewise_default, sigmoid_default, lambda x: sigmoid(x, temp_opt), constant_leverage]\n",
    "months_list, leverage_list = calculate_all_amounts_with_glide_paths(df, list_of_glide_path_func)"
   ]
  },
  {
   "cell_type": "code",
   "execution_count": 29,
   "metadata": {},
   "outputs": [
    {
     "data": {
      "text/plain": [
       "count    5.000000e+01\n",
       "mean     2.132620e+07\n",
       "std      1.141971e+07\n",
       "min      8.075320e+05\n",
       "25%      1.142672e+07\n",
       "50%      2.164024e+07\n",
       "75%      2.954890e+07\n",
       "max      4.790522e+07\n",
       "dtype: float64"
      ]
     },
     "execution_count": 29,
     "metadata": {},
     "output_type": "execute_result"
    }
   ],
   "source": [
    "s = pd.Series(calculate_amount_with_glide_path_opt(df, lambda x: sigmoid(x, temp_opt)))\n",
    "s.describe()"
   ]
  },
  {
   "cell_type": "code",
   "execution_count": 30,
   "metadata": {},
   "outputs": [],
   "source": [
    "series_list = [pd.Series(inner_list) for inner_list in leverage_list]\n",
    "# for list in series_list:\n",
    "#     print(list.describe())"
   ]
  },
  {
   "cell_type": "code",
   "execution_count": 31,
   "metadata": {},
   "outputs": [
    {
     "name": "stdout",
     "output_type": "stream",
     "text": [
      "3755480.7104594586\n",
      "9982173.177794665\n",
      "14241765.854355834\n",
      "13804108.52923856\n",
      "3781762.684936422\n"
     ]
    },
    {
     "data": {
      "image/png": "[encoded data removed]",
      "text/plain": [
       "<Figure size 800x1400 with 1 Axes>"
      ]
     },
     "metadata": {},
     "output_type": "display_data"
    }
   ],
   "source": [
    "# Plotting side-by-side boxplots\n",
    "plt.figure(figsize=(8, 14))\n",
    "plt.boxplot(series_list, positions=[i for i in range(1,len(series_list) + 1)], showfliers=True)\n",
    "\n",
    "# Calculate the xth percentile for each dataset\n",
    "xth_perc = 2\n",
    "for i, series in enumerate(series_list):\n",
    "    percentile = np.percentile(series, xth_perc)\n",
    "    mean_mark = np.mean(series)\n",
    "    avg = calc_quartile_avg(series, False)\n",
    "    print(avg)\n",
    "    plt.hlines(percentile, i + 0.9, i + 1.1, linestyles='dashed', color='blue')\n",
    "    plt.hlines(mean_mark, i + 0.9, i + 1.1, linestyles='dashed', color='red')\n",
    "    plt.hlines(avg, i + 0.9, i + 1.1, linestyles='dashed', color='green')\n",
    "\n",
    "\n",
    " # Create custom legend handles\n",
    "# percentile_line = mlines.Line2D([], [], color='blue', linestyle='dashed', label=f'{xth_perc}th Percentile')\n",
    "# mean_line = mlines.Line2D([], [], color='red', linestyle='dashed', label='Mean')\n",
    "\n",
    "# Add the legend to the plot\n",
    "# plt.legend(handles=[percentile_line, mean_line])\n",
    "\n",
    "\n",
    "plt.yscale('log')  # Using a logarithmic scale\n",
    "func_names = []\n",
    "func_names.append\n",
    "plt.xticks([i for i in range(1,len(series_list) + 1)], [\"Normal\"] + [func.__name__ for func in list_of_glide_path_func])\n",
    "plt.xticks(rotation=45)\n",
    "plt.title('Normal vs Leverage with Glide Returns')\n",
    "plt.ylabel('Value (log scale)')\n",
    "plt.show()"
   ]
  },
  {
   "cell_type": "markdown",
   "metadata": {},
   "source": [
    "# Visulaize distrubution of months across glidepath functions"
   ]
  },
  {
   "cell_type": "code",
   "execution_count": null,
   "metadata": {},
   "outputs": [],
   "source": [
    "series_months_list = [pd.Series(inner_list) for inner_list in months_list]\n",
    "# for list in series_months_list:\n",
    "#     print(list.describe())"
   ]
  },
  {
   "cell_type": "code",
   "execution_count": null,
   "metadata": {},
   "outputs": [],
   "source": [
    "# plt.figure(figsize=(8, 12))\n",
    "# plt.boxplot([series_months_list], positions=[1], showfliers=False)\n",
    "# percentile_month = np.percentile(series_months_list, 90)\n",
    "# plt.hlines(percentile_month, 0.9, 1.1, colors='blue', linestyles='dashed')\n",
    "# plt.xticks([1], ['Months'])\n",
    "# plt.title('Month Distribution')\n",
    "# plt.ylabel('# of months')\n",
    "# plt.show()\n",
    "\n",
    "\n",
    "# Plotting side-by-side boxplots\n",
    "plt.figure(figsize=(8, 12))\n",
    "plt.boxplot(series_months_list, positions=[i for i in range(1,len(series_months_list) + 1)], showfliers=False)\n",
    "\n",
    "# Calculate the xth percentile for each dataset\n",
    "xth_perc = 98\n",
    "for i, series in enumerate(series_months_list):\n",
    "    percentile = np.percentile(series, xth_perc)\n",
    "    plt.hlines(percentile, i + 0.9, i + 1.1, linestyles='dashed')\n",
    "\n",
    "func_names = []\n",
    "func_names.append\n",
    "plt.xticks([i for i in range(1,len(series_months_list) + 1)], [func.__name__ for func in list_of_glide_path_func])\n",
    "plt.xticks(rotation=45)\n",
    "plt.title('Distrubtion of months till launch')\n",
    "plt.ylabel('# of months till passed half mark')\n",
    "plt.show()"
   ]
  }
 ],
 "metadata": {
  "kernelspec": {
   "display_name": "Python 3",
   "language": "python",
   "name": "python3"
  },
  "language_info": {
   "codemirror_mode": {
    "name": "ipython",
    "version": 3
   },
   "file_extension": ".py",
   "mimetype": "text/x-python",
   "name": "python",
   "nbconvert_exporter": "python",
   "pygments_lexer": "ipython3",
   "version": "3.12.0"
  },
  "orig_nbformat": 4
 },
 "nbformat": 4,
 "nbformat_minor": 2
}
