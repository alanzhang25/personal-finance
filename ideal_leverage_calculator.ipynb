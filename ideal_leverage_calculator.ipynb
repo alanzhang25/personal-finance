{
 "cells": [
  {
   "cell_type": "code",
   "execution_count": 130,
   "metadata": {},
   "outputs": [],
   "source": [
    "import pandas as pd\n",
    "import numpy as np\n",
    "import seaborn as sns\n",
    "import matplotlib.pyplot as plt\n",
    "\n",
    "from sympy import symbols, Eq, solve\n",
    "from datetime import datetime\n",
    "from datetime import datetime\n",
    "from dateutil.relativedelta import relativedelta\n"
   ]
  },
  {
   "cell_type": "markdown",
   "metadata": {},
   "source": [
    "# Creating Dataframe\n",
    "\n",
    "We are just builidng our original dataframe here with date, price, interest, and price changes"
   ]
  },
  {
   "cell_type": "code",
   "execution_count": 131,
   "metadata": {},
   "outputs": [],
   "source": [
    "excel_file_path = 'chapt26.xlsx'\n",
    "interest = pd.read_excel(excel_file_path, sheet_name='Data', usecols='A,H')\n",
    "interest = interest.iloc[7:]\n",
    "interest.columns = ['Year', 'Interest']\n",
    "interest = interest.reset_index(drop=True)"
   ]
  },
  {
   "cell_type": "code",
   "execution_count": 132,
   "metadata": {},
   "outputs": [],
   "source": [
    "excel_file_path = 'monthly_data.xls'\n",
    "df = pd.read_excel(excel_file_path, sheet_name='Data', usecols='A,J')\n",
    "df = df.iloc[7:]\n",
    "df = df.reset_index(drop=True)\n",
    "df.columns = ['Date', 'Price']\n",
    "\n",
    "def correct_date_string_specific(date_str):\n",
    "    parts = str(date_str).split('.')\n",
    "    if len(parts) == 2 and parts[1] == '1':\n",
    "        parts[1] = '10'\n",
    "    return '.'.join(parts)\n",
    "\n",
    "df['Date'] = df['Date'].apply(correct_date_string_specific)\n",
    "df['Date'] = pd.to_datetime(df['Date'], format='%Y.%m')\n",
    "df['Year'] = df['Date'].dt.year"
   ]
  },
  {
   "cell_type": "code",
   "execution_count": 133,
   "metadata": {},
   "outputs": [
    {
     "data": {
      "text/html": [
       "<div>\n",
       "<style scoped>\n",
       "    .dataframe tbody tr th:only-of-type {\n",
       "        vertical-align: middle;\n",
       "    }\n",
       "\n",
       "    .dataframe tbody tr th {\n",
       "        vertical-align: top;\n",
       "    }\n",
       "\n",
       "    .dataframe thead th {\n",
       "        text-align: right;\n",
       "    }\n",
       "</style>\n",
       "<table border=\"1\" class=\"dataframe\">\n",
       "  <thead>\n",
       "    <tr style=\"text-align: right;\">\n",
       "      <th></th>\n",
       "      <th>Date</th>\n",
       "      <th>Price</th>\n",
       "      <th>Interest</th>\n",
       "      <th>Percent Change</th>\n",
       "    </tr>\n",
       "  </thead>\n",
       "  <tbody>\n",
       "    <tr>\n",
       "      <th>0</th>\n",
       "      <td>1871-01-01</td>\n",
       "      <td>109.050018</td>\n",
       "      <td>0.003959</td>\n",
       "      <td>NaN</td>\n",
       "    </tr>\n",
       "    <tr>\n",
       "      <th>1</th>\n",
       "      <td>1871-02-01</td>\n",
       "      <td>107.765291</td>\n",
       "      <td>0.003959</td>\n",
       "      <td>-0.011781</td>\n",
       "    </tr>\n",
       "    <tr>\n",
       "      <th>2</th>\n",
       "      <td>1871-03-01</td>\n",
       "      <td>109.298845</td>\n",
       "      <td>0.003959</td>\n",
       "      <td>0.01423</td>\n",
       "    </tr>\n",
       "    <tr>\n",
       "      <th>3</th>\n",
       "      <td>1871-04-01</td>\n",
       "      <td>117.171191</td>\n",
       "      <td>0.003959</td>\n",
       "      <td>0.072026</td>\n",
       "    </tr>\n",
       "    <tr>\n",
       "      <th>4</th>\n",
       "      <td>1871-05-01</td>\n",
       "      <td>123.479273</td>\n",
       "      <td>0.003959</td>\n",
       "      <td>0.053836</td>\n",
       "    </tr>\n",
       "  </tbody>\n",
       "</table>\n",
       "</div>"
      ],
      "text/plain": [
       "        Date       Price  Interest Percent Change\n",
       "0 1871-01-01  109.050018  0.003959            NaN\n",
       "1 1871-02-01  107.765291  0.003959      -0.011781\n",
       "2 1871-03-01  109.298845  0.003959        0.01423\n",
       "3 1871-04-01  117.171191  0.003959       0.072026\n",
       "4 1871-05-01  123.479273  0.003959       0.053836"
      ]
     },
     "execution_count": 133,
     "metadata": {},
     "output_type": "execute_result"
    }
   ],
   "source": [
    "df = pd.merge(interest, df, on = \"Year\")\n",
    "df[\"Interest\"] = (df[\"Interest\"] - 1)/12\n",
    "df = df[[\"Date\", \"Price\", \"Interest\"]]\n",
    "\n",
    "def add_percent_change (df):\n",
    "    df = df.copy()\n",
    "    diff = df['Price'].pct_change(fill_method=None)\n",
    "    df[\"Percent Change\"] = diff\n",
    "    return df\n",
    "\n",
    "df = add_percent_change(df)\n",
    "df.head()"
   ]
  },
  {
   "cell_type": "markdown",
   "metadata": {},
   "source": [
    "# DataFrame Functions"
   ]
  },
  {
   "cell_type": "code",
   "execution_count": 134,
   "metadata": {},
   "outputs": [],
   "source": [
    "def filter_dataframe_by_date (df, start_date=datetime(1500, 1, 1), end_date=datetime(9999, 1, 1)):\n",
    "    \n",
    "    filtered_df = df[(df['Date'] >= start_date) & (df['Date'] <= end_date)]\n",
    "    filtered_df.head()\n",
    "\n",
    "    return filtered_df.reset_index(drop=True)\n",
    "\n",
    "def compare_growth_of_diff_leverages (df, start_amount, contributions=5000):\n",
    "    df.loc[0, \"Total Normal Amount\"] = start_amount\n",
    "    df.loc[0, \"Total 3x Leveraged Amount\"] = start_amount\n",
    "    df.loc[0, \"Total 2.5x Leveraged Amount\"] = start_amount\n",
    "    df.loc[0, \"Total 2x Leveraged Amount\"] = start_amount\n",
    "    for i in range(1, len(df)):\n",
    "        percent_change = df.loc[i, \"Percent Change\"]\n",
    "        interest_change  = df.loc[i, \"Interest\"]\n",
    "        df.loc[i, 'Total Normal Amount'] = df.loc[i - 1, 'Total Normal Amount'] * (1 + percent_change) + contributions\n",
    "        df.loc[i, 'Total 3x Leveraged Amount'] = df.loc[i - 1, 'Total 3x Leveraged Amount'] * (1 + ((3 * percent_change) - (2 * interest_change))) + contributions\n",
    "        df.loc[i, 'Total 2.5x Leveraged Amount'] = df.loc[i - 1, 'Total 2.5x Leveraged Amount'] * (1 + ((2.5 * percent_change) - (1.5 * interest_change))) + contributions\n",
    "        df.loc[i, 'Total 2x Leveraged Amount'] = df.loc[i - 1, 'Total 2x Leveraged Amount'] * (1 + ((2 * percent_change) - (1 * interest_change))) + contributions\n",
    "    return df\n"
   ]
  },
  {
   "cell_type": "markdown",
   "metadata": {},
   "source": [
    "# Math Functions"
   ]
  },
  {
   "cell_type": "code",
   "execution_count": 136,
   "metadata": {},
   "outputs": [],
   "source": [
    "\n",
    "def market_drop(leveraged_x, new_leveraged_x):\n",
    "    amount = 10000.\n",
    "    leveraged_amount = amount * leveraged_x\n",
    "\n",
    "    x = symbols('x')\n",
    "    equation = Eq((leveraged_amount - x) / (amount - x), new_leveraged_x)\n",
    "    total_amount_drop = solve(equation, x)[0]\n",
    "    return total_amount_drop / amount\n",
    "\n",
    "\n",
    "def calculate_diff_leverages_growth(df, month_interval=6, startamount=10000, contributions=5000):\n",
    "    start_date = datetime(1871, 1, 1)\n",
    "    end_date = datetime(1901, 1, 1)\n",
    "\n",
    "    normal_end_amounts = []\n",
    "    leveraged3x_end_amounts = []\n",
    "    leveraged25x_end_amounts = []\n",
    "    leveraged2x_end_amounts = []\n",
    "    while end_date < datetime(2024, 1, 1):\n",
    "        new_df = filter_dataframe_by_date(df, start_date, end_date)\n",
    "        new_df = compare_growth_of_diff_leverages(new_df, startamount, contributions)\n",
    "\n",
    "        normal_end_amount = new_df[\"Total Normal Amount\"].iloc[-1]\n",
    "        leveraged3x_end_amount = new_df[\"Total 3x Leveraged Amount\"].iloc[-1]\n",
    "        leveraged25x_end_amount = new_df[\"Total 2.5x Leveraged Amount\"].iloc[-1]\n",
    "        leveraged2x_end_amount = new_df[\"Total 2x Leveraged Amount\"].iloc[-1]\n",
    "\n",
    "        normal_end_amounts.append(normal_end_amount)\n",
    "        leveraged3x_end_amounts.append(leveraged3x_end_amount)\n",
    "        leveraged25x_end_amounts.append(leveraged25x_end_amount)\n",
    "        leveraged2x_end_amounts.append(leveraged2x_end_amount)\n",
    "\n",
    "\n",
    "        start_date += relativedelta(months=month_interval)\n",
    "        end_date += relativedelta(months=month_interval)\n",
    "\n",
    "    print(end_date)\n",
    "    return normal_end_amounts, leveraged3x_end_amounts, leveraged25x_end_amounts, leveraged2x_end_amounts\n",
    "    "
   ]
  },
  {
   "cell_type": "code",
   "execution_count": 137,
   "metadata": {},
   "outputs": [
    {
     "data": {
      "text/html": [
       "<div>\n",
       "<style scoped>\n",
       "    .dataframe tbody tr th:only-of-type {\n",
       "        vertical-align: middle;\n",
       "    }\n",
       "\n",
       "    .dataframe tbody tr th {\n",
       "        vertical-align: top;\n",
       "    }\n",
       "\n",
       "    .dataframe thead th {\n",
       "        text-align: right;\n",
       "    }\n",
       "</style>\n",
       "<table border=\"1\" class=\"dataframe\">\n",
       "  <thead>\n",
       "    <tr style=\"text-align: right;\">\n",
       "      <th></th>\n",
       "      <th>Date</th>\n",
       "      <th>Price</th>\n",
       "      <th>Interest</th>\n",
       "      <th>Percent Change</th>\n",
       "      <th>Total Normal Amount</th>\n",
       "      <th>Total 3x Leveraged Amount</th>\n",
       "      <th>Total 2.5x Leveraged Amount</th>\n",
       "      <th>Total 2x Leveraged Amount</th>\n",
       "    </tr>\n",
       "  </thead>\n",
       "  <tbody>\n",
       "    <tr>\n",
       "      <th>356</th>\n",
       "      <td>1900-10-01</td>\n",
       "      <td>1108.106193</td>\n",
       "      <td>0.00602</td>\n",
       "      <td>0.053145</td>\n",
       "      <td>6.416609e+06</td>\n",
       "      <td>4.817862e+06</td>\n",
       "      <td>5.556760e+06</td>\n",
       "      <td>6.130041e+06</td>\n",
       "    </tr>\n",
       "    <tr>\n",
       "      <th>357</th>\n",
       "      <td>1900-11-01</td>\n",
       "      <td>1199.257608</td>\n",
       "      <td>0.00602</td>\n",
       "      <td>0.082259</td>\n",
       "      <td>6.949432e+06</td>\n",
       "      <td>5.953791e+06</td>\n",
       "      <td>6.654314e+06</td>\n",
       "      <td>7.106638e+06</td>\n",
       "    </tr>\n",
       "    <tr>\n",
       "      <th>358</th>\n",
       "      <td>1900-12-01</td>\n",
       "      <td>1292.011908</td>\n",
       "      <td>0.00602</td>\n",
       "      <td>0.077343</td>\n",
       "      <td>7.491922e+06</td>\n",
       "      <td>7.268563e+06</td>\n",
       "      <td>7.885890e+06</td>\n",
       "      <td>8.168156e+06</td>\n",
       "    </tr>\n",
       "    <tr>\n",
       "      <th>359</th>\n",
       "      <td>1901-01-01</td>\n",
       "      <td>1317.880649</td>\n",
       "      <td>0.001489</td>\n",
       "      <td>0.020022</td>\n",
       "      <td>7.646926e+06</td>\n",
       "      <td>7.688514e+06</td>\n",
       "      <td>8.268008e+06</td>\n",
       "      <td>8.488081e+06</td>\n",
       "    </tr>\n",
       "    <tr>\n",
       "      <th>360</th>\n",
       "      <td>1901-02-01</td>\n",
       "      <td>1373.095838</td>\n",
       "      <td>0.001489</td>\n",
       "      <td>0.041897</td>\n",
       "      <td>7.972309e+06</td>\n",
       "      <td>8.636995e+06</td>\n",
       "      <td>9.120553e+06</td>\n",
       "      <td>9.191693e+06</td>\n",
       "    </tr>\n",
       "  </tbody>\n",
       "</table>\n",
       "</div>"
      ],
      "text/plain": [
       "          Date        Price  Interest Percent Change  Total Normal Amount  \\\n",
       "356 1900-10-01  1108.106193   0.00602       0.053145         6.416609e+06   \n",
       "357 1900-11-01  1199.257608   0.00602       0.082259         6.949432e+06   \n",
       "358 1900-12-01  1292.011908   0.00602       0.077343         7.491922e+06   \n",
       "359 1901-01-01  1317.880649  0.001489       0.020022         7.646926e+06   \n",
       "360 1901-02-01  1373.095838  0.001489       0.041897         7.972309e+06   \n",
       "\n",
       "     Total 3x Leveraged Amount  Total 2.5x Leveraged Amount  \\\n",
       "356               4.817862e+06                 5.556760e+06   \n",
       "357               5.953791e+06                 6.654314e+06   \n",
       "358               7.268563e+06                 7.885890e+06   \n",
       "359               7.688514e+06                 8.268008e+06   \n",
       "360               8.636995e+06                 9.120553e+06   \n",
       "\n",
       "     Total 2x Leveraged Amount  \n",
       "356               6.130041e+06  \n",
       "357               7.106638e+06  \n",
       "358               8.168156e+06  \n",
       "359               8.488081e+06  \n",
       "360               9.191693e+06  "
      ]
     },
     "execution_count": 137,
     "metadata": {},
     "output_type": "execute_result"
    }
   ],
   "source": [
    "price_diff = filter_dataframe_by_date(df, datetime(1871, 2, 1), datetime(1901, 2, 1))\n",
    "price_diff = compare_growth_of_diff_leverages(price_diff, 10000.)\n",
    "price_diff.tail()"
   ]
  },
  {
   "cell_type": "code",
   "execution_count": 138,
   "metadata": {},
   "outputs": [
    {
     "name": "stdout",
     "output_type": "stream",
     "text": [
      "2024-01-01 00:00:00\n"
     ]
    }
   ],
   "source": [
    "normal_list, leverage3x_list, leverage25x_list, leverage2x_list  = calculate_diff_leverages_growth(df, 6, 10000)"
   ]
  },
  {
   "cell_type": "code",
   "execution_count": 139,
   "metadata": {},
   "outputs": [
    {
     "name": "stdout",
     "output_type": "stream",
     "text": [
      "count    2.460000e+02\n",
      "mean     6.225314e+06\n",
      "std      2.532466e+06\n",
      "min      2.148054e+06\n",
      "25%      4.511719e+06\n",
      "50%      5.603167e+06\n",
      "75%      7.656455e+06\n",
      "max      1.286377e+07\n",
      "dtype: float64\n",
      "count    2.460000e+02\n",
      "mean     6.460521e+07\n",
      "std      1.316473e+08\n",
      "min      9.522378e+04\n",
      "25%      3.886074e+06\n",
      "50%      1.028625e+07\n",
      "75%      3.678934e+07\n",
      "max      6.409034e+08\n",
      "dtype: float64\n"
     ]
    }
   ],
   "source": [
    "s_normal = pd.Series(normal_list)\n",
    "s_leverage3x = pd.Series(leverage3x_list)\n",
    "s_leverage25x = pd.Series(leverage25x_list)\n",
    "s_leverage2x = pd.Series(leverage2x_list)\n",
    "print(s_normal.describe())\n",
    "print(s_leverage3x.describe())"
   ]
  },
  {
   "cell_type": "code",
   "execution_count": 140,
   "metadata": {},
   "outputs": [
    {
     "data": {
      "image/png": "[encoded data removed]",
      "text/plain": [
       "<Figure size 800x1600 with 1 Axes>"
      ]
     },
     "metadata": {},
     "output_type": "display_data"
    }
   ],
   "source": [
    "# Plotting side-by-side boxplots\n",
    "plt.figure(figsize=(8, 16))\n",
    "plt.boxplot([s_normal, s_leverage3x, s_leverage25x, s_leverage2x], positions=[1, 2, 3, 4], showfliers=False)\n",
    "plt.yscale('log')  # Using a logarithmic scale\n",
    "plt.xticks([1, 2, 3, 4], ['Normal 1', '3x', '2.5x', '2x'])\n",
    "plt.title('Comparison of Datasets')\n",
    "plt.ylabel('Value (log scale)')\n",
    "plt.show()"
   ]
  },
  {
   "cell_type": "code",
   "execution_count": null,
   "metadata": {},
   "outputs": [],
   "source": [
    "def calculate_growth_with_glide_path (df, start_amount, contributions=5000):\n",
    "    df.loc[0, \"Total Normal Amount\"] = start_amount\n",
    "    df.loc[0, \"Total Leveraged Amount\"] = start_amount\n",
    "\n",
    "    for i in range(1, len(df)):\n",
    "        percent_change = df.loc[i, \"Percent Change\"]\n",
    "        interest_change  = df.loc[i, \"Interest\"]\n",
    "        prev_amount = df.loc[i - 1, 'Total Leveraged Amount']\n",
    "        glide_path = calc_glide_path(prev_amount)\n",
    "        df.loc[i, 'Total Normal Amount'] = df.loc[i - 1, 'Total Normal Amount'] * (1 + percent_change) + contributions\n",
    "        df.loc[i, 'Total Leveraged Amount'] = prev_amount * (1 + ((glide_path * percent_change) - ((glide_path - 1) * interest_change))) + contributions\n",
    "    return df\n",
    "\n",
    "def calc_glide_path (amount):\n",
    "    if (amount < 1000000):\n",
    "        return 3 - amount/1000000\n",
    "    if (amount > 1000000 and amount < 6000000):\n",
    "        return 2 - (amount - 1000000) / 5000000\n",
    "    return 1\n",
    "\n",
    "def calculate_30_year_end_amount_with_glide_path(df, month_interval=6, startamount=10000, contributions=5000):\n",
    "    start_date = datetime(1871, 1, 1)\n",
    "    end_date = datetime(1901, 1, 1)\n",
    "\n",
    "    normal_end_amounts = []\n",
    "    leveraged_end_amounts = []\n",
    "    while end_date < datetime(2024, 1, 1):\n",
    "        new_df = filter_dataframe_by_date(df, start_date, end_date)\n",
    "        new_df = calculate_growth_with_glide_path(new_df, startamount, contributions)\n",
    "\n",
    "        normal_end_amount = new_df[\"Total Normal Amount\"].iloc[-1]\n",
    "        leveraged_end_amount = new_df[\"Total Leveraged Amount\"].iloc[-1]\n",
    "\n",
    "        normal_end_amounts.append(normal_end_amount)\n",
    "        leveraged_end_amounts.append(leveraged_end_amount)\n",
    "\n",
    "\n",
    "        start_date += relativedelta(months=month_interval)\n",
    "        end_date += relativedelta(months=month_interval)\n",
    "\n",
    "    print(end_date)\n",
    "    return normal_end_amounts, leveraged_end_amounts\n",
    "    \n",
    "    "
   ]
  },
  {
   "cell_type": "markdown",
   "metadata": {},
   "source": [
    "# Graph of our Glide Path Function\n",
    "\n",
    "We our upper bounding at 3 here but can experiment with different values"
   ]
  },
  {
   "cell_type": "code",
   "execution_count": null,
   "metadata": {},
   "outputs": [],
   "source": [
    "# Create an array of 'amount' values over which to evaluate the function\n",
    "amounts = np.linspace(0, 10000000, 500)  # From 0 to 10,000,000\n",
    "\n",
    "# Calculate the glide path values for each amount\n",
    "glide_path_values = [calc_glide_path(amount) for amount in amounts]\n",
    "\n",
    "# Plotting\n",
    "plt.figure(figsize=(10, 6))\n",
    "plt.plot(amounts, glide_path_values, label='Glide Path')\n",
    "plt.title('Glide Path Function Graph')\n",
    "plt.xlabel('Amount')\n",
    "plt.ylabel('Glide Path Value')\n",
    "plt.grid(True)\n",
    "plt.show()"
   ]
  },
  {
   "cell_type": "code",
   "execution_count": 141,
   "metadata": {},
   "outputs": [
    {
     "name": "stdout",
     "output_type": "stream",
     "text": [
      "2024-01-01 00:00:00\n"
     ]
    }
   ],
   "source": [
    "normal_list, leverage_list = calculate_30_year_end_amount_with_glide_path(df)"
   ]
  },
  {
   "cell_type": "code",
   "execution_count": 142,
   "metadata": {},
   "outputs": [
    {
     "name": "stdout",
     "output_type": "stream",
     "text": [
      "count    2.460000e+02\n",
      "mean     6.225314e+06\n",
      "std      2.532466e+06\n",
      "min      2.148054e+06\n",
      "25%      4.511719e+06\n",
      "50%      5.603167e+06\n",
      "75%      7.656455e+06\n",
      "max      1.286377e+07\n",
      "dtype: float64\n",
      "count    2.460000e+02\n",
      "mean     1.006976e+07\n",
      "std      5.681770e+06\n",
      "min      2.316668e+06\n",
      "25%      6.200627e+06\n",
      "50%      8.554968e+06\n",
      "75%      1.178650e+07\n",
      "max      2.631339e+07\n",
      "dtype: float64\n"
     ]
    }
   ],
   "source": [
    "s_normal = pd.Series(normal_list)\n",
    "s_leverage = pd.Series(leverage_list)\n",
    "print(s_normal.describe())\n",
    "print(s_leverage.describe())"
   ]
  },
  {
   "cell_type": "code",
   "execution_count": 143,
   "metadata": {},
   "outputs": [
    {
     "data": {
      "image/png": "[encoded data removed]",
      "text/plain": [
       "<Figure size 800x1200 with 1 Axes>"
      ]
     },
     "metadata": {},
     "output_type": "display_data"
    }
   ],
   "source": [
    "# Plotting side-by-side boxplots\n",
    "plt.figure(figsize=(8, 12))\n",
    "plt.boxplot([s_normal, s_leverage], positions=[1, 2], showfliers=False)\n",
    "\n",
    "# Calculate the 10th percentile for each dataset\n",
    "percentile_10_data1 = np.percentile(s_normal, 2)\n",
    "percentile_10_data2 = np.percentile(s_leverage, 2)\n",
    "\n",
    "plt.hlines(percentile_10_data1, 0.9, 1.1, colors='blue', linestyles='dashed', label='10th Percentile Data1')\n",
    "plt.hlines(percentile_10_data2, 1.9, 2.1, colors='orange', linestyles='dashed', label='10th Percentile Data2')\n",
    "plt.yscale('log')  # Using a logarithmic scale\n",
    "plt.xticks([1, 2], ['Normal 1', 'glide'])\n",
    "plt.title('Comparison of Datasets')\n",
    "plt.ylabel('Value (log scale)')\n",
    "plt.show()"
   ]
  }
 ],
 "metadata": {
  "kernelspec": {
   "display_name": "Python 3",
   "language": "python",
   "name": "python3"
  },
  "language_info": {
   "codemirror_mode": {
    "name": "ipython",
    "version": 3
   },
   "file_extension": ".py",
   "mimetype": "text/x-python",
   "name": "python",
   "nbconvert_exporter": "python",
   "pygments_lexer": "ipython3",
   "version": "3.12.0"
  },
  "orig_nbformat": 4
 },
 "nbformat": 4,
 "nbformat_minor": 2
}
