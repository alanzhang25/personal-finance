{
 "cells": [
  {
   "cell_type": "code",
   "execution_count": 1,
   "metadata": {},
   "outputs": [],
   "source": [
    "import pandas as pd\n",
    "import numpy as np\n",
    "import seaborn as sns\n",
    "import matplotlib.pyplot as plt\n",
    "import matplotlib.ticker as ticker\n",
    "\n",
    "from sympy import symbols, Eq, solve\n",
    "from datetime import datetime\n",
    "from datetime import datetime\n",
    "from dateutil.relativedelta import relativedelta\n",
    "\n",
    "from scipy.optimize import minimize, Bounds, show_options, basinhopping\n",
    "import math\n"
   ]
  },
  {
   "cell_type": "markdown",
   "metadata": {},
   "source": [
    "# Creating Dataframe\n",
    "\n",
    "We are just builidng our original dataframe here with date, price, interest, and price changes"
   ]
  },
  {
   "cell_type": "code",
   "execution_count": 2,
   "metadata": {},
   "outputs": [],
   "source": [
    "excel_file_path = 'chapt26.xlsx'\n",
    "interest = pd.read_excel(excel_file_path, sheet_name='Data', usecols='A,H')\n",
    "interest = interest.iloc[7:]\n",
    "interest.columns = ['Year', 'Interest']\n",
    "interest = interest.reset_index(drop=True)"
   ]
  },
  {
   "cell_type": "code",
   "execution_count": 3,
   "metadata": {},
   "outputs": [],
   "source": [
    "excel_file_path = 'monthly_data.xls'\n",
    "df = pd.read_excel(excel_file_path, sheet_name='Data', usecols='A,J')\n",
    "df = df.iloc[7:]\n",
    "df = df.reset_index(drop=True)\n",
    "df.columns = ['Date', 'Price']\n",
    "\n",
    "def correct_date_string_specific(date_str):\n",
    "    parts = str(date_str).split('.')\n",
    "    if len(parts) == 2 and parts[1] == '1':\n",
    "        parts[1] = '10'\n",
    "    return '.'.join(parts)\n",
    "\n",
    "df['Date'] = df['Date'].apply(correct_date_string_specific)\n",
    "df['Date'] = pd.to_datetime(df['Date'], format='%Y.%m')\n",
    "df['Year'] = df['Date'].dt.year"
   ]
  },
  {
   "cell_type": "code",
   "execution_count": 4,
   "metadata": {},
   "outputs": [
    {
     "data": {
      "text/html": [
       "<div>\n",
       "<style scoped>\n",
       "    .dataframe tbody tr th:only-of-type {\n",
       "        vertical-align: middle;\n",
       "    }\n",
       "\n",
       "    .dataframe tbody tr th {\n",
       "        vertical-align: top;\n",
       "    }\n",
       "\n",
       "    .dataframe thead th {\n",
       "        text-align: right;\n",
       "    }\n",
       "</style>\n",
       "<table border=\"1\" class=\"dataframe\">\n",
       "  <thead>\n",
       "    <tr style=\"text-align: right;\">\n",
       "      <th></th>\n",
       "      <th>Date</th>\n",
       "      <th>Price</th>\n",
       "      <th>Interest</th>\n",
       "      <th>Percent Change</th>\n",
       "    </tr>\n",
       "  </thead>\n",
       "  <tbody>\n",
       "    <tr>\n",
       "      <th>0</th>\n",
       "      <td>1871-01-01</td>\n",
       "      <td>109.050018</td>\n",
       "      <td>0.003959</td>\n",
       "      <td>NaN</td>\n",
       "    </tr>\n",
       "    <tr>\n",
       "      <th>1</th>\n",
       "      <td>1871-02-01</td>\n",
       "      <td>107.765291</td>\n",
       "      <td>0.003959</td>\n",
       "      <td>-0.011781</td>\n",
       "    </tr>\n",
       "    <tr>\n",
       "      <th>2</th>\n",
       "      <td>1871-03-01</td>\n",
       "      <td>109.298845</td>\n",
       "      <td>0.003959</td>\n",
       "      <td>0.01423</td>\n",
       "    </tr>\n",
       "    <tr>\n",
       "      <th>3</th>\n",
       "      <td>1871-04-01</td>\n",
       "      <td>117.171191</td>\n",
       "      <td>0.003959</td>\n",
       "      <td>0.072026</td>\n",
       "    </tr>\n",
       "    <tr>\n",
       "      <th>4</th>\n",
       "      <td>1871-05-01</td>\n",
       "      <td>123.479273</td>\n",
       "      <td>0.003959</td>\n",
       "      <td>0.053836</td>\n",
       "    </tr>\n",
       "  </tbody>\n",
       "</table>\n",
       "</div>"
      ],
      "text/plain": [
       "        Date       Price  Interest Percent Change\n",
       "0 1871-01-01  109.050018  0.003959            NaN\n",
       "1 1871-02-01  107.765291  0.003959      -0.011781\n",
       "2 1871-03-01  109.298845  0.003959        0.01423\n",
       "3 1871-04-01  117.171191  0.003959       0.072026\n",
       "4 1871-05-01  123.479273  0.003959       0.053836"
      ]
     },
     "execution_count": 4,
     "metadata": {},
     "output_type": "execute_result"
    }
   ],
   "source": [
    "df = pd.merge(interest, df, on = \"Year\")\n",
    "df[\"Interest\"] = (df[\"Interest\"] - 1)/12\n",
    "df = df[[\"Date\", \"Price\", \"Interest\"]]\n",
    "\n",
    "def add_percent_change (df):\n",
    "    df = df.copy()\n",
    "    diff = df['Price'].pct_change(fill_method=None)\n",
    "    df[\"Percent Change\"] = diff\n",
    "    return df\n",
    "\n",
    "df = add_percent_change(df)\n",
    "df.head()"
   ]
  },
  {
   "cell_type": "markdown",
   "metadata": {},
   "source": [
    "# DataFrame Functions"
   ]
  },
  {
   "cell_type": "code",
   "execution_count": 5,
   "metadata": {},
   "outputs": [],
   "source": [
    "def filter_dataframe_by_date (df, start_date=datetime(1500, 1, 1), end_date=datetime(9999, 1, 1)):\n",
    "    \n",
    "    filtered_df = df[(df['Date'] >= start_date) & (df['Date'] <= end_date)]\n",
    "    filtered_df.head()\n",
    "\n",
    "    return filtered_df.reset_index(drop=True)\n",
    "\n",
    "def compare_growth_of_diff_leverages (df, start_amount, contributions=5000):\n",
    "    df.loc[0, \"Total Normal Amount\"] = start_amount\n",
    "    df.loc[0, \"Total 3x Leveraged Amount\"] = start_amount\n",
    "    df.loc[0, \"Total 2.5x Leveraged Amount\"] = start_amount\n",
    "    df.loc[0, \"Total 2x Leveraged Amount\"] = start_amount\n",
    "    for i in range(1, len(df)):\n",
    "        percent_change = df.loc[i, \"Percent Change\"]\n",
    "        interest_change  = df.loc[i, \"Interest\"]\n",
    "        df.loc[i, 'Total Normal Amount'] = df.loc[i - 1, 'Total Normal Amount'] * (1 + percent_change) + contributions\n",
    "        df.loc[i, 'Total 3x Leveraged Amount'] = df.loc[i - 1, 'Total 3x Leveraged Amount'] * (1 + ((3 * percent_change) - (2 * interest_change))) + contributions\n",
    "        df.loc[i, 'Total 2.5x Leveraged Amount'] = df.loc[i - 1, 'Total 2.5x Leveraged Amount'] * (1 + ((2.5 * percent_change) - (1.5 * interest_change))) + contributions\n",
    "        df.loc[i, 'Total 2x Leveraged Amount'] = df.loc[i - 1, 'Total 2x Leveraged Amount'] * (1 + ((2 * percent_change) - (1 * interest_change))) + contributions\n",
    "    return df\n"
   ]
  },
  {
   "cell_type": "markdown",
   "metadata": {},
   "source": [
    "# Math Functions"
   ]
  },
  {
   "cell_type": "code",
   "execution_count": 6,
   "metadata": {},
   "outputs": [],
   "source": [
    "\n",
    "def market_drop(leveraged_x, new_leveraged_x):\n",
    "    amount = 10000.\n",
    "    leveraged_amount = amount * leveraged_x\n",
    "\n",
    "    x = symbols('x')\n",
    "    equation = Eq((leveraged_amount - x) / (amount - x), new_leveraged_x)\n",
    "    total_amount_drop = solve(equation, x)[0]\n",
    "    return total_amount_drop / amount\n",
    "\n",
    "\n",
    "def calculate_diff_leverages_growth(df, month_interval=6, startamount=10000, contributions=5000):\n",
    "    start_date = datetime(1871, 1, 1)\n",
    "    end_date = datetime(1906, 1, 1)\n",
    "\n",
    "    normal_end_amounts = []\n",
    "    leveraged3x_end_amounts = []\n",
    "    leveraged25x_end_amounts = []\n",
    "    leveraged2x_end_amounts = []\n",
    "    while end_date < datetime(2024, 1, 1):\n",
    "        new_df = filter_dataframe_by_date(df, start_date, end_date)\n",
    "        new_df = compare_growth_of_diff_leverages(new_df, startamount, contributions)\n",
    "\n",
    "        normal_end_amount = new_df[\"Total Normal Amount\"].iloc[-1]\n",
    "        leveraged3x_end_amount = new_df[\"Total 3x Leveraged Amount\"].iloc[-1]\n",
    "        leveraged25x_end_amount = new_df[\"Total 2.5x Leveraged Amount\"].iloc[-1]\n",
    "        leveraged2x_end_amount = new_df[\"Total 2x Leveraged Amount\"].iloc[-1]\n",
    "\n",
    "        normal_end_amounts.append(normal_end_amount)\n",
    "        leveraged3x_end_amounts.append(leveraged3x_end_amount)\n",
    "        leveraged25x_end_amounts.append(leveraged25x_end_amount)\n",
    "        leveraged2x_end_amounts.append(leveraged2x_end_amount)\n",
    "\n",
    "\n",
    "        start_date += relativedelta(months=month_interval)\n",
    "        end_date += relativedelta(months=month_interval)\n",
    "\n",
    "    print(end_date)\n",
    "    return normal_end_amounts, leveraged3x_end_amounts, leveraged25x_end_amounts, leveraged2x_end_amounts\n",
    "    "
   ]
  },
  {
   "cell_type": "code",
   "execution_count": 7,
   "metadata": {},
   "outputs": [],
   "source": [
    "# price_diff = filter_dataframe_by_date(df, datetime(1871, 2, 1), datetime(1901, 2, 1))\n",
    "# price_diff = compare_growth_of_diff_leverages(price_diff, 10000.)\n",
    "# price_diff.tail()"
   ]
  },
  {
   "cell_type": "code",
   "execution_count": 8,
   "metadata": {},
   "outputs": [],
   "source": [
    "# normal_list, leverage3x_list, leverage25x_list, leverage2x_list  = calculate_diff_leverages_growth(df, 6, 10000)"
   ]
  },
  {
   "cell_type": "code",
   "execution_count": 9,
   "metadata": {},
   "outputs": [],
   "source": [
    "# s_normal = pd.Series(normal_list)\n",
    "# s_leverage3x = pd.Series(leverage3x_list)\n",
    "# s_leverage25x = pd.Series(leverage25x_list)\n",
    "# s_leverage2x = pd.Series(leverage2x_list)\n",
    "# print(s_normal.describe())\n",
    "# print(s_leverage3x.describe())"
   ]
  },
  {
   "cell_type": "code",
   "execution_count": 10,
   "metadata": {},
   "outputs": [],
   "source": [
    "# # Plotting side-by-side boxplots\n",
    "# plt.figure(figsize=(8, 16))\n",
    "# plt.boxplot([s_normal, s_leverage3x, s_leverage25x, s_leverage2x], positions=[1, 2, 3, 4], showfliers=False)\n",
    "# plt.yscale('log')  # Using a logarithmic scale\n",
    "# plt.xticks([1, 2, 3, 4], ['Normal 1', '3x', '2.5x', '2x'])\n",
    "# plt.title('Comparison of Datasets')\n",
    "# plt.ylabel('Value (log scale)')\n",
    "# plt.show()"
   ]
  },
  {
   "cell_type": "markdown",
   "metadata": {},
   "source": [
    "## List of Possible Glidepath Functions"
   ]
  },
  {
   "cell_type": "code",
   "execution_count": 11,
   "metadata": {},
   "outputs": [],
   "source": [
    "def sigmoid_glide_path(amount):\n",
    "    max_amount = 10000000\n",
    "    steepness = 0.0000015\n",
    "    # The logistic sigmoid function scaled to range from 1 to 3\n",
    "    sigmoid = 1 / (1 + np.exp(-steepness * (amount - max_amount / 2)))\n",
    "    return 5 - 4 * sigmoid\n",
    "\n",
    "def linear_glide_path(amount, start_value=5, end_value=1, max_amount=10000000):\n",
    "    if (amount > max_amount):\n",
    "        return 1\n",
    "    slope = (end_value - start_value) / max_amount\n",
    "    return start_value + slope * amount\n",
    "\n",
    "def other_glide_path (amount):\n",
    "    amount = amount/1000000\n",
    "    if amount < 2:\n",
    "        return 5\n",
    "    elif 2 <= amount <= 10:  # Adjusted curve to start from glide path of 5\n",
    "        # Using a logarithmic curve for a smoother transition from 5\n",
    "        return 5 - 4 * np.log10(1 + amount - 2) / np.log10(9)\n",
    "    else:\n",
    "        return 1\n",
    "    \n",
    "def other2_glide_path (amount):\n",
    "    lev = 4000000/(amount+1)\n",
    "    return max(1, min(3, lev+.3))\n",
    "\n",
    "def constant_leverage (amount, lev=5):\n",
    "    return lev"
   ]
  },
  {
   "cell_type": "markdown",
   "metadata": {},
   "source": [
    "## Graph of our Glide Path Function"
   ]
  },
  {
   "cell_type": "code",
   "execution_count": 12,
   "metadata": {},
   "outputs": [
    {
     "data": {
      "image/png": "[encoded data removed]",
      "text/plain": [
       "<Figure size 1000x600 with 1 Axes>"
      ]
     },
     "metadata": {},
     "output_type": "display_data"
    }
   ],
   "source": [
    "amounts = np.linspace(0, 10000000, 1000)  # From 0 to 8,000,000\n",
    "glide_path_values = [other2_glide_path(amount) for amount in amounts]\n",
    "\n",
    "# Plotting\n",
    "plt.figure(figsize=(10, 6))\n",
    "plt.plot(amounts, glide_path_values, label='Glide Path')\n",
    "\n",
    "scale_factor = 1e6\n",
    "ticks = ticker.FuncFormatter(lambda x, pos: '{0:g}'.format(x/scale_factor))\n",
    "plt.gca().xaxis.set_major_formatter(ticks)\n",
    "plt.title('Glide Path Function Graph')\n",
    "plt.xlabel('Amount (in millions)')\n",
    "plt.ylabel('Glide Path Value')\n",
    "plt.grid(True)\n",
    "plt.show()"
   ]
  },
  {
   "cell_type": "markdown",
   "metadata": {},
   "source": [
    "### Defalt Values Set Here"
   ]
  },
  {
   "cell_type": "code",
   "execution_count": 13,
   "metadata": {},
   "outputs": [],
   "source": [
    "default_start_amount = 10000\n",
    "default_contribution_amount = 5000\n",
    "default_month_interval = 12 * 2.5\n",
    "default_difference = .000"
   ]
  },
  {
   "cell_type": "code",
   "execution_count": 14,
   "metadata": {},
   "outputs": [],
   "source": [
    "def calculate_growth_with_glide_path (df, list_of_glide_path_func, start_amount=default_start_amount, contributions=default_contribution_amount,):\n",
    "    df.loc[0, \"Total Normal Amount\"] = start_amount\n",
    "    leverage_amount_str =  \"Total Leveraged Amount \"\n",
    "    for i in range(0, len(list_of_glide_path_func)):\n",
    "        t = leverage_amount_str + str(i)\n",
    "        df.loc[0, t] = start_amount\n",
    "\n",
    "    first_occur_arr = [0 for _ in range(len(list_of_glide_path_func))]\n",
    "    happ = [False for _ in range(len(list_of_glide_path_func))]\n",
    "    for i in range(1, len(df)):\n",
    "        percent_change = df.loc[i, \"Percent Change\"] - default_difference\n",
    "        interest_change  = df.loc[i, \"Interest\"]\n",
    "        df.loc[i, 'Total Normal Amount'] = df.loc[i - 1, 'Total Normal Amount'] * (1 + percent_change) + contributions\n",
    "\n",
    "\n",
    "        for x, glide_path_func in enumerate(list_of_glide_path_func):\n",
    "            t = leverage_amount_str + str(x)\n",
    "            prev_amount = df.loc[i - 1, t]\n",
    "            glide_path = glide_path_func(prev_amount)\n",
    "            df.loc[i, t] = prev_amount * (1 + ((glide_path * percent_change) - ((glide_path - 1) * interest_change))) + contributions\n",
    "            if (not happ[x] and df.loc[i, t] > 5000000):\n",
    "                first_occur_arr[x] = i\n",
    "                happ[x] = True\n",
    "\n",
    "    \n",
    "    return df, first_occur_arr\n",
    "\n",
    "def calculate_all_amounts_with_glide_paths(df, list_of_glide_path_func, month_interval=default_month_interval, start_amount=default_start_amount, contributions=default_contribution_amount):\n",
    "    # 30 year time period\n",
    "    start_date = datetime(1871, 1, 1)\n",
    "    end_date = datetime(1901, 1, 1)\n",
    "\n",
    "    array_of_amounts = []\n",
    "    for _ in range(len(list_of_glide_path_func) + 1):\n",
    "        array_of_amounts.append([])\n",
    "\n",
    "    months_arr = []\n",
    "    for _ in range(len(list_of_glide_path_func) ):\n",
    "        months_arr.append([])\n",
    "\n",
    "    while end_date < datetime(2024, 1, 1):\n",
    "        new_df = filter_dataframe_by_date(df, start_date, end_date)\n",
    "        new_df, index_of_months = calculate_growth_with_glide_path(new_df, list_of_glide_path_func, start_amount, contributions)\n",
    "\n",
    "        for i in range(0, len(list_of_glide_path_func) + 1):\n",
    "            if (i == 0):\n",
    "                normal_end_amount = new_df[\"Total Normal Amount\"].iloc[-1]\n",
    "                array_of_amounts[i].append(normal_end_amount)\n",
    "            else :\n",
    "                leverage_amount_str =  \"Total Leveraged Amount \"\n",
    "                temp_str = leverage_amount_str + str(i - 1)\n",
    "                array_of_amounts[i].append(new_df[temp_str].iloc[-1])\n",
    "\n",
    "        for index, value in enumerate(index_of_months):\n",
    "            months_arr[index].append(value)\n",
    "    \n",
    "        start_date += relativedelta(months=month_interval)\n",
    "        end_date += relativedelta(months=month_interval)\n",
    "\n",
    "    print(end_date)\n",
    "    return months_arr, array_of_amounts\n",
    "\n",
    "\n",
    "# Visualize the 30-year growth periods to see how volatile  \n",
    "def visualize(df, list_of_glide_path_func, month_interval=default_month_interval, start_amount=default_start_amount, contributions=default_contribution_amount):\n",
    "    # 30 year time period\n",
    "    start_date = datetime(1871, 1, 1)\n",
    "    end_date = datetime(1901, 1, 1)\n",
    "\n",
    "    single_df = pd.DataFrame()\n",
    "    idx = 0\n",
    "    while end_date < datetime(2024, 1, 1):\n",
    "        new_df = filter_dataframe_by_date(df, start_date, end_date)\n",
    "        new_df, index_of_months = calculate_growth_with_glide_path(new_df, list_of_glide_path_func, start_amount, contributions)\n",
    "\n",
    "        if (idx < 40):\n",
    "            single_df[f\"Line {idx + 1}\"] = new_df[[\"Total Leveraged Amount 0\"]]\n",
    "        \n",
    "        idx = idx + 1\n",
    "    \n",
    "        start_date += relativedelta(months=month_interval)\n",
    "        end_date += relativedelta(months=month_interval)\n",
    "\n",
    "    print(end_date)\n",
    "    return single_df"
   ]
  },
  {
   "cell_type": "markdown",
   "metadata": {},
   "source": [
    "# Attempt to maximize glidepath function return"
   ]
  },
  {
   "cell_type": "markdown",
   "metadata": {},
   "source": [
    "### Helper functions to help calculate cohort end values"
   ]
  },
  {
   "cell_type": "code",
   "execution_count": 15,
   "metadata": {},
   "outputs": [],
   "source": [
    "def calculate_growth_with_glide_path_opt (df, glide_func, start_amount=default_start_amount, contributions=default_contribution_amount):\n",
    "    df.loc[0, \"Total Leveraged Amount\"] = start_amount\n",
    "\n",
    "    for i in range(1, len(df)):\n",
    "        percent_change = df.loc[i, \"Percent Change\"] - default_difference\n",
    "        interest_change  = df.loc[i, \"Interest\"]\n",
    "\n",
    "        prev_amount = df.loc[i - 1, \"Total Leveraged Amount\"]\n",
    "        glide_path = glide_func(prev_amount)\n",
    "        df.loc[i, 'Total Leveraged Amount'] = max(1, prev_amount * (1 + ((glide_path * percent_change) - ((glide_path - 1) * interest_change))) + contributions)\n",
    "\n",
    "    \n",
    "    return df\n",
    "\n",
    "def calculate_amount_with_glide_path_opt(df, glide_func, month_interval=default_month_interval, start_amount=default_start_amount, contributions=default_contribution_amount):\n",
    "    start_date = datetime(1871, 1, 1)\n",
    "    end_date = datetime(1901, 1, 1)\n",
    "\n",
    "    leverage_amount = []\n",
    "\n",
    "    while end_date < datetime(2024, 1, 1):\n",
    "        new_df = filter_dataframe_by_date(df, start_date, end_date)\n",
    "        new_df = calculate_growth_with_glide_path_opt(new_df, glide_func, start_amount, contributions)\n",
    "\n",
    "        leverage_amount.append(max(1, new_df['Total Leveraged Amount'].iloc[-1]))\n",
    "    \n",
    "        start_date += relativedelta(months=month_interval)\n",
    "        end_date += relativedelta(months=month_interval)\n",
    "\n",
    "    #print(end_date)\n",
    "    return np.array(leverage_amount)"
   ]
  },
  {
   "cell_type": "markdown",
   "metadata": {},
   "source": [
    "### Glide Path functions that we want to optimize"
   ]
  },
  {
   "cell_type": "code",
   "execution_count": 16,
   "metadata": {},
   "outputs": [],
   "source": [
    "sigmoid_temp = [7.61645333e+00, 1.42234210e-06, 8.68306690e+06, 6.21570943e-01]\n",
    "piecewise_temp = [0., 5 , 0., 4.4, 0., 2, 0., 1]\n",
    "\n",
    "def decreasing_sigmoid(amount, arr):\n",
    "    amplitude, steepnes, hort_shift, lower_bound = arr\n",
    "    return lower_bound + (amplitude / (1 + np.exp(steepnes * (amount - hort_shift))))\n",
    "\n",
    "def decreasing_sigmoid_default(amount, arr=sigmoid_temp):\n",
    "    amplitude, steepnes, hort_shift, lower_bound = arr\n",
    "    return lower_bound + (amplitude / (1 + np.exp(steepnes * (amount - hort_shift))))\n",
    "\n",
    "def piecewise (amount, arr):\n",
    "        slope_1, y_1, slope_2, y_2, slope_3, y_3, slope_4, y_4 = arr\n",
    "        if (amount < 500000):\n",
    "            return min(8, max(0.1, slope_1 * amount + y_1))\n",
    "        elif (amount >= 500000 and amount < 1000000):\n",
    "            return min(8, max(0.1, slope_2 * amount + y_2))\n",
    "        elif (amount >= 1000000 and amount < 25000000):\n",
    "            return min(8, max(0.1, slope_3 * amount + y_3))\n",
    "        else:\n",
    "            return min(8, max(0.1, slope_4 * amount + y_4))\n",
    "        \n",
    "def piecewise_default (amount, arr=piecewise_temp):\n",
    "        slope_1, y_1, slope_2, y_2, slope_3, y_3, slope_4, y_4 = arr\n",
    "        if (amount < 500000):\n",
    "            return min(8, max(0.1, slope_1 * amount + y_1))\n",
    "        elif (amount >= 500000 and amount < 1000000):\n",
    "            return min(8, max(0.1, slope_2 * amount + y_2))\n",
    "        elif (amount >= 1000000 and amount < 25000000):\n",
    "            return min(8, max(0.1, slope_3 * amount + y_3))\n",
    "        else:\n",
    "            return min(8, max(0.1, slope_4 * amount + y_4))\n",
    "        \n"
   ]
  },
  {
   "cell_type": "code",
   "execution_count": null,
   "metadata": {},
   "outputs": [],
   "source": [
    "def calc_quartile_avg (passed_list, log=True):\n",
    "    if (log):\n",
    "        passed_list = np.log10(passed_list)\n",
    "    weight_quartile_1 = 0.4\n",
    "    weight_quartile_2 = 0.3\n",
    "    weight_quartile_3 = 0.2\n",
    "    weight_quartile_4 = 0.1\n",
    "    weight_quartile_5 = 0\n",
    "\n",
    "    percentile_20 = np.percentile(passed_list, 20)\n",
    "    percentile_40 = np.percentile(passed_list, 40)\n",
    "    percentile_60 = np.percentile(passed_list, 60)\n",
    "    percentile_80 = np.percentile(passed_list, 80)\n",
    "\n",
    "    quartile_1 = np.mean(passed_list[passed_list < percentile_20])\n",
    "    quartile_2 = np.mean(passed_list[(passed_list >= percentile_20) & (passed_list < percentile_40)])\n",
    "    quartile_3 = np.mean(passed_list[(passed_list >= percentile_40) & (passed_list < percentile_60)])\n",
    "    quartile_4 = np.mean(passed_list[(passed_list >= percentile_60) & (passed_list < percentile_80)])\n",
    "    quartile_5 = np.mean(passed_list[passed_list >= percentile_80])\n",
    "    avg = weight_quartile_1 * quartile_1 + weight_quartile_2 * quartile_2 + weight_quartile_3 * quartile_3 + weight_quartile_4 * quartile_4 + weight_quartile_5 * quartile_5\n",
    "\n",
    "    return avg\n",
    "\n",
    "\n",
    "def sigmoid_optimize(list_of_var):\n",
    "    \n",
    "    def decreasing_sigmoid_opt(amount):\n",
    "        return decreasing_sigmoid(amount, list_of_var)\n",
    "    \n",
    "    leverage_list_opt = calculate_amount_with_glide_path_opt(df, decreasing_sigmoid_opt)\n",
    "    avg = calc_quartile_avg(leverage_list_opt)\n",
    "    \n",
    "\n",
    "    result = -1. * avg\n",
    "    print(result)\n",
    "    return result\n",
    "\n",
    "def piecewise_optimize(list_of_var):\n",
    "    slope_1, y_1, slope_2, y_2, slope_3, y_3, slope_4, y_4 = list_of_var\n",
    "\n",
    "    if (y_1 > 20 or y_2 > 20 or y_3 > 20 or y_4 > 20):\n",
    "        print(\"y int\")\n",
    "        return max(y_1, y_2, y_3, y_4)\n",
    "    \n",
    "    if (slope_1 > 0 or slope_2 > 0 or slope_3 > 0 or slope_4 > 0):\n",
    "        print(\"slope\")\n",
    "        print(max(slope_1, slope_2, slope_3, slope_4))\n",
    "        return max(slope_1, slope_2, slope_3, slope_4)\n",
    "\n",
    "    def helper_piecewise_opt (amount):\n",
    "        return piecewise(amount, list_of_var)\n",
    "    \n",
    "    leverage_list_opt = calculate_amount_with_glide_path_opt(df, helper_piecewise_opt)\n",
    "    avg = calc_quartile_avg(leverage_list_opt)\n",
    "    \n",
    "\n",
    "    result = -1. * avg\n",
    "    print(result)\n",
    "    return result\n",
    "\n",
    "    \n",
    "\n",
    "guess = [7.52701453e+00, 2.08417665e-06, 6.22858109e+06, 6.72461394e-01]\n",
    "bound = [\n",
    "    (0.0, 20),\n",
    "    (0, 1),\n",
    "    (None, None),\n",
    "    (0, None)\n",
    "]\n",
    "\n",
    "guess_piecewise = [0., 5 , 0., 4.4, 0., 2, 0., 1]\n",
    "bound_piecewise = Bounds([-1, 0, -1, 0, -1, 0, -1, 0], [0, 10, 0, 10, 0, 10, 0, 10], keep_feasible=[True, True, True, True, True, True, True, True])"
   ]
  },
  {
   "cell_type": "code",
   "execution_count": null,
   "metadata": {},
   "outputs": [],
   "source": [
    "# show_options(solver='minimize', method='COBYLA', disp=True)"
   ]
  },
  {
   "cell_type": "code",
   "execution_count": null,
   "metadata": {},
   "outputs": [],
   "source": [
    "#accept is not per step, it is per iteration (per local minima)\n",
    "\n",
    "def accept(fnew, xnew, fold, xold):\n",
    "    slope_1, y_1, slope_2, y_2, slope_3, y_3, slope_4, y_4 = xnew\n",
    "    print(\"test\")\n",
    "    if(slope_1 or slope_2 or slope_3 or slope_4 > 0):\n",
    "        print(\"false\")\n",
    "        return False\n",
    "    if(slope_1 or slope_2 or slope_3 or slope_4 < -.0001):\n",
    "        print(\"false2\")\n",
    "        return False\n",
    "result = basinhopping(piecewise_optimize, guess_piecewise, minimizer_kwargs={\"method\":\"Nelder-Mead\"})"
   ]
  },
  {
   "cell_type": "code",
   "execution_count": null,
   "metadata": {},
   "outputs": [],
   "source": [
    "print(result.x)\n",
    "print(result.fun)\n",
    "print(result.success)\n",
    "print(result.message)\n",
    "\n",
    "temp_opt = [x for x in result.x]\n",
    "print(len(temp_opt))"
   ]
  },
  {
   "cell_type": "markdown",
   "metadata": {},
   "source": [
    "## Guesses\n",
    "\n",
    "1. [7.61645333e+00 1.42234210e-06 8.68306690e+06 6.21570943e-01] => -7.236472384747586\n",
    "\n",
    "    This is for sigmoid_opt of default_start_amount = 10000, default_contribution_amount = 5000, default_month_interval = 12 * 2.5, default_difference = .000"
   ]
  },
  {
   "cell_type": "code",
   "execution_count": null,
   "metadata": {},
   "outputs": [],
   "source": [
    "amounts = np.linspace(0, 10000000, 100)  # From 0 to 8,000,000\n",
    "glide_path_values = [piecewise(amount, temp_opt) for amount in amounts]\n",
    "\n",
    "# Plotting\n",
    "plt.figure(figsize=(10, 6))\n",
    "plt.plot(amounts, glide_path_values, label='Glide Path')\n",
    "\n",
    "scale_factor = 1e6\n",
    "ticks = ticker.FuncFormatter(lambda x, pos: '{0:g}'.format(x/scale_factor))\n",
    "plt.gca().xaxis.set_major_formatter(ticks)\n",
    "plt.title('Glide Path Function Graph')\n",
    "plt.xlabel('Amount (in millions)')\n",
    "plt.ylabel('Glide Path Value')\n",
    "plt.grid(True)\n",
    "plt.show()"
   ]
  },
  {
   "cell_type": "markdown",
   "metadata": {},
   "source": [
    "## Visualize growth graph for each 30-year period\n"
   ]
  },
  {
   "cell_type": "code",
   "execution_count": null,
   "metadata": {},
   "outputs": [],
   "source": [
    "single_list = [decreasing_sigmoid]\n",
    "visualize_df = visualize(df, single_list)"
   ]
  },
  {
   "cell_type": "code",
   "execution_count": null,
   "metadata": {},
   "outputs": [],
   "source": [
    "# Plot each column with an offset\n",
    "plt.figure(figsize=(10, 6))\n",
    "offset_value = 1  # Define the offset value\n",
    "for column in visualize_df.columns:\n",
    "    plt.plot(visualize_df.index, visualize_df[column], label=column)\n",
    "\n",
    "plt.xlabel('Index')\n",
    "plt.ylabel('Value')\n",
    "plt.yscale('log')\n",
    "plt.title('Glide Path Proof')\n",
    "plt.legend()\n",
    "plt.show()"
   ]
  },
  {
   "cell_type": "markdown",
   "metadata": {},
   "source": [
    "# Collecting data on multiple glide paths"
   ]
  },
  {
   "cell_type": "code",
   "execution_count": null,
   "metadata": {},
   "outputs": [],
   "source": [
    "list_of_glide_path_func = [default_helper_piecewise, sigmoid_glide_path, other2_glide_path, constant_leverage]\n",
    "months_list, leverage_list = calculate_all_amounts_with_glide_paths(df, list_of_glide_path_func)"
   ]
  },
  {
   "cell_type": "code",
   "execution_count": null,
   "metadata": {},
   "outputs": [],
   "source": [
    "series_list = [pd.Series(inner_list) for inner_list in leverage_list]\n",
    "# for list in series_list:\n",
    "#     print(list.describe())"
   ]
  },
  {
   "cell_type": "code",
   "execution_count": null,
   "metadata": {},
   "outputs": [],
   "source": [
    "# Plotting side-by-side boxplots\n",
    "plt.figure(figsize=(8, 12))\n",
    "plt.boxplot(series_list, positions=[i for i in range(1,len(series_list) + 1)], showfliers=True)\n",
    "\n",
    "# Calculate the xth percentile for each dataset\n",
    "xth_perc = 2\n",
    "for i, series in enumerate(series_list):\n",
    "    percentile = np.percentile(series, xth_perc)\n",
    "    mean_mark = np.mean(series)\n",
    "    avg = calc_quartile_avg(series, False)\n",
    "    print(avg)\n",
    "    plt.hlines(percentile, i + 0.9, i + 1.1, linestyles='dashed', color='blue')\n",
    "    plt.hlines(mean_mark, i + 0.9, i + 1.1, linestyles='dashed', color='red')\n",
    "    plt.hlines(avg, i + 0.9, i + 1.1, linestyles='dashed', color='green')\n",
    "\n",
    "\n",
    " # Create custom legend handles\n",
    "# percentile_line = mlines.Line2D([], [], color='blue', linestyle='dashed', label=f'{xth_perc}th Percentile')\n",
    "# mean_line = mlines.Line2D([], [], color='red', linestyle='dashed', label='Mean')\n",
    "\n",
    "# Add the legend to the plot\n",
    "# plt.legend(handles=[percentile_line, mean_line])\n",
    "\n",
    "\n",
    "plt.yscale('log')  # Using a logarithmic scale\n",
    "func_names = []\n",
    "func_names.append\n",
    "plt.xticks([i for i in range(1,len(series_list) + 1)], [\"Normal\"] + [func.__name__ for func in list_of_glide_path_func])\n",
    "plt.xticks(rotation=45)\n",
    "plt.title('Normal vs Leverage with Glide Returns')\n",
    "plt.ylabel('Value (log scale)')\n",
    "plt.show()"
   ]
  },
  {
   "cell_type": "markdown",
   "metadata": {},
   "source": [
    "# Visulaize distrubution of months across glidepath functions"
   ]
  },
  {
   "cell_type": "code",
   "execution_count": null,
   "metadata": {},
   "outputs": [],
   "source": [
    "series_months_list = [pd.Series(inner_list) for inner_list in months_list]\n",
    "# for list in series_months_list:\n",
    "#     print(list.describe())"
   ]
  },
  {
   "cell_type": "code",
   "execution_count": null,
   "metadata": {},
   "outputs": [],
   "source": [
    "# plt.figure(figsize=(8, 12))\n",
    "# plt.boxplot([series_months_list], positions=[1], showfliers=False)\n",
    "# percentile_month = np.percentile(series_months_list, 90)\n",
    "# plt.hlines(percentile_month, 0.9, 1.1, colors='blue', linestyles='dashed')\n",
    "# plt.xticks([1], ['Months'])\n",
    "# plt.title('Month Distribution')\n",
    "# plt.ylabel('# of months')\n",
    "# plt.show()\n",
    "\n",
    "\n",
    "# Plotting side-by-side boxplots\n",
    "plt.figure(figsize=(8, 12))\n",
    "plt.boxplot(series_months_list, positions=[i for i in range(1,len(series_months_list) + 1)], showfliers=False)\n",
    "\n",
    "# Calculate the xth percentile for each dataset\n",
    "xth_perc = 98\n",
    "for i, series in enumerate(series_months_list):\n",
    "    percentile = np.percentile(series, xth_perc)\n",
    "    plt.hlines(percentile, i + 0.9, i + 1.1, linestyles='dashed')\n",
    "\n",
    "func_names = []\n",
    "func_names.append\n",
    "plt.xticks([i for i in range(1,len(series_months_list) + 1)], [func.__name__ for func in list_of_glide_path_func])\n",
    "plt.xticks(rotation=45)\n",
    "plt.title('Distrubtion of months till launch')\n",
    "plt.ylabel('# of months till passed half mark')\n",
    "plt.show()"
   ]
  },
  {
   "cell_type": "code",
   "execution_count": null,
   "metadata": {},
   "outputs": [],
   "source": []
  }
 ],
 "metadata": {
  "kernelspec": {
   "display_name": "Python 3",
   "language": "python",
   "name": "python3"
  },
  "language_info": {
   "codemirror_mode": {
    "name": "ipython",
    "version": 3
   },
   "file_extension": ".py",
   "mimetype": "text/x-python",
   "name": "python",
   "nbconvert_exporter": "python",
   "pygments_lexer": "ipython3",
   "version": "3.12.0"
  },
  "orig_nbformat": 4
 },
 "nbformat": 4,
 "nbformat_minor": 2
}
